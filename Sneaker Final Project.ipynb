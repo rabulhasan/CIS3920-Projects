{
 "cells": [
  {
   "cell_type": "code",
   "execution_count": 1,
   "id": "d50efb74",
   "metadata": {},
   "outputs": [
    {
     "name": "stderr",
     "output_type": "stream",
     "text": [
      "Warning message:\n",
      "\"package 'lubridate' was built under R version 3.6.3\""
     ]
    }
   ],
   "source": [
    "suppressPackageStartupMessages(library(lubridate)) #this library is usefull for cheanging date"
   ]
  },
  {
   "cell_type": "code",
   "execution_count": 2,
   "id": "abd3ace2",
   "metadata": {},
   "outputs": [],
   "source": [
    "Sneaker = read.csv(\"StockX-Data-Contest\") #load data into notbook"
   ]
  },
  {
   "cell_type": "code",
   "execution_count": 3,
   "id": "c3c0fc12",
   "metadata": {},
   "outputs": [
    {
     "data": {
      "text/html": [
       "<table>\n",
       "<thead><tr><th scope=col>ï..Order.Date</th><th scope=col>Brand</th><th scope=col>Sneaker.Name</th><th scope=col>Sale.Price</th><th scope=col>Retail.Price</th><th scope=col>Release.Date</th><th scope=col>Shoe.Size</th><th scope=col>Buyer.Region</th></tr></thead>\n",
       "<tbody>\n",
       "\t<tr><td>9/1/17                                       </td><td> Yeezy                                       </td><td>Adidas-Yeezy-Boost-350-Low-V2-Beluga         </td><td>$1,097                                       </td><td>$220                                         </td><td>9/24/16                                      </td><td>11.0                                         </td><td>California                                   </td></tr>\n",
       "\t<tr><td>9/1/17                                       </td><td> Yeezy                                       </td><td>Adidas-Yeezy-Boost-350-V2-Core-Black-Copper  </td><td>$685                                         </td><td>$220                                         </td><td>11/23/16                                     </td><td>11.0                                         </td><td>California                                   </td></tr>\n",
       "\t<tr><td>9/1/17                                       </td><td> Yeezy                                       </td><td>Adidas-Yeezy-Boost-350-V2-Core-Black-Green   </td><td>$690                                         </td><td>$220                                         </td><td>11/23/16                                     </td><td>11.0                                         </td><td>California                                   </td></tr>\n",
       "\t<tr><td>9/1/17                                       </td><td> Yeezy                                       </td><td>Adidas-Yeezy-Boost-350-V2-Core-Black-Red     </td><td>$1,075                                       </td><td>$220                                         </td><td>11/23/16                                     </td><td>11.5                                         </td><td>Kentucky                                     </td></tr>\n",
       "\t<tr><td>9/1/17                                       </td><td> Yeezy                                       </td><td>Adidas-Yeezy-Boost-350-V2-Core-Black-Red-2017</td><td>$828                                         </td><td>$220                                         </td><td>2/11/17                                      </td><td>11.0                                         </td><td>Rhode Island                                 </td></tr>\n",
       "\t<tr><td>9/1/17                                       </td><td> Yeezy                                       </td><td>Adidas-Yeezy-Boost-350-V2-Core-Black-Red-2017</td><td>$798                                         </td><td>$220                                         </td><td>2/11/17                                      </td><td> 8.5                                         </td><td>Michigan                                     </td></tr>\n",
       "</tbody>\n",
       "</table>\n"
      ],
      "text/latex": [
       "\\begin{tabular}{r|llllllll}\n",
       " ï..Order.Date & Brand & Sneaker.Name & Sale.Price & Retail.Price & Release.Date & Shoe.Size & Buyer.Region\\\\\n",
       "\\hline\n",
       "\t 9/1/17                                        &  Yeezy                                        & Adidas-Yeezy-Boost-350-Low-V2-Beluga          & \\$1,097                                      & \\$220                                        & 9/24/16                                       & 11.0                                          & California                                   \\\\\n",
       "\t 9/1/17                                        &  Yeezy                                        & Adidas-Yeezy-Boost-350-V2-Core-Black-Copper   & \\$685                                        & \\$220                                        & 11/23/16                                      & 11.0                                          & California                                   \\\\\n",
       "\t 9/1/17                                        &  Yeezy                                        & Adidas-Yeezy-Boost-350-V2-Core-Black-Green    & \\$690                                        & \\$220                                        & 11/23/16                                      & 11.0                                          & California                                   \\\\\n",
       "\t 9/1/17                                        &  Yeezy                                        & Adidas-Yeezy-Boost-350-V2-Core-Black-Red      & \\$1,075                                      & \\$220                                        & 11/23/16                                      & 11.5                                          & Kentucky                                     \\\\\n",
       "\t 9/1/17                                        &  Yeezy                                        & Adidas-Yeezy-Boost-350-V2-Core-Black-Red-2017 & \\$828                                        & \\$220                                        & 2/11/17                                       & 11.0                                          & Rhode Island                                 \\\\\n",
       "\t 9/1/17                                        &  Yeezy                                        & Adidas-Yeezy-Boost-350-V2-Core-Black-Red-2017 & \\$798                                        & \\$220                                        & 2/11/17                                       &  8.5                                          & Michigan                                     \\\\\n",
       "\\end{tabular}\n"
      ],
      "text/markdown": [
       "\n",
       "| ï..Order.Date | Brand | Sneaker.Name | Sale.Price | Retail.Price | Release.Date | Shoe.Size | Buyer.Region |\n",
       "|---|---|---|---|---|---|---|---|\n",
       "| 9/1/17                                        |  Yeezy                                        | Adidas-Yeezy-Boost-350-Low-V2-Beluga          | $1,097                                        | $220                                          | 9/24/16                                       | 11.0                                          | California                                    |\n",
       "| 9/1/17                                        |  Yeezy                                        | Adidas-Yeezy-Boost-350-V2-Core-Black-Copper   | $685                                          | $220                                          | 11/23/16                                      | 11.0                                          | California                                    |\n",
       "| 9/1/17                                        |  Yeezy                                        | Adidas-Yeezy-Boost-350-V2-Core-Black-Green    | $690                                          | $220                                          | 11/23/16                                      | 11.0                                          | California                                    |\n",
       "| 9/1/17                                        |  Yeezy                                        | Adidas-Yeezy-Boost-350-V2-Core-Black-Red      | $1,075                                        | $220                                          | 11/23/16                                      | 11.5                                          | Kentucky                                      |\n",
       "| 9/1/17                                        |  Yeezy                                        | Adidas-Yeezy-Boost-350-V2-Core-Black-Red-2017 | $828                                          | $220                                          | 2/11/17                                       | 11.0                                          | Rhode Island                                  |\n",
       "| 9/1/17                                        |  Yeezy                                        | Adidas-Yeezy-Boost-350-V2-Core-Black-Red-2017 | $798                                          | $220                                          | 2/11/17                                       |  8.5                                          | Michigan                                      |\n",
       "\n"
      ],
      "text/plain": [
       "  ï..Order.Date Brand  Sneaker.Name                                  Sale.Price\n",
       "1 9/1/17         Yeezy Adidas-Yeezy-Boost-350-Low-V2-Beluga          $1,097    \n",
       "2 9/1/17         Yeezy Adidas-Yeezy-Boost-350-V2-Core-Black-Copper   $685      \n",
       "3 9/1/17         Yeezy Adidas-Yeezy-Boost-350-V2-Core-Black-Green    $690      \n",
       "4 9/1/17         Yeezy Adidas-Yeezy-Boost-350-V2-Core-Black-Red      $1,075    \n",
       "5 9/1/17         Yeezy Adidas-Yeezy-Boost-350-V2-Core-Black-Red-2017 $828      \n",
       "6 9/1/17         Yeezy Adidas-Yeezy-Boost-350-V2-Core-Black-Red-2017 $798      \n",
       "  Retail.Price Release.Date Shoe.Size Buyer.Region\n",
       "1 $220         9/24/16      11.0      California  \n",
       "2 $220         11/23/16     11.0      California  \n",
       "3 $220         11/23/16     11.0      California  \n",
       "4 $220         11/23/16     11.5      Kentucky    \n",
       "5 $220         2/11/17      11.0      Rhode Island\n",
       "6 $220         2/11/17       8.5      Michigan    "
      ]
     },
     "metadata": {},
     "output_type": "display_data"
    }
   ],
   "source": [
    "head(Sneaker) #first few rows"
   ]
  },
  {
   "cell_type": "code",
   "execution_count": 4,
   "id": "6d4359e3",
   "metadata": {},
   "outputs": [],
   "source": [
    "attach(Sneaker) #attaching data set to notebook allow us to avoid repeating the dataset name with the column name"
   ]
  },
  {
   "cell_type": "markdown",
   "id": "d9119c6c",
   "metadata": {},
   "source": [
    "## Visualtionzation before any change"
   ]
  },
  {
   "cell_type": "code",
   "execution_count": 5,
   "id": "c1223a30",
   "metadata": {},
   "outputs": [
    {
     "data": {
      "image/png": "[encoded data removed]",
      "text/plain": [
       "Plot with title \"\""
      ]
     },
     "metadata": {},
     "output_type": "display_data"
    }
   ],
   "source": [
    "plot(Brand, Sale.Price)"
   ]
  },
  {
   "cell_type": "code",
   "execution_count": 6,
   "id": "fbc443f5",
   "metadata": {},
   "outputs": [
    {
     "data": {
      "image/png": "[encoded data removed]",
      "text/plain": [
       "Plot with title \"\""
      ]
     },
     "metadata": {},
     "output_type": "display_data"
    }
   ],
   "source": [
    "plot(Sneaker.Name, Sale.Price)"
   ]
  },
  {
   "cell_type": "code",
   "execution_count": 7,
   "id": "ac2a4a77",
   "metadata": {},
   "outputs": [
    {
     "data": {
      "image/png": "[encoded data removed]",
      "text/plain": [
       "Plot with title \"\""
      ]
     },
     "metadata": {},
     "output_type": "display_data"
    }
   ],
   "source": [
    "plot(Buyer.Region, Sale.Price)"
   ]
  },
  {
   "cell_type": "code",
   "execution_count": 8,
   "id": "5f6b8240",
   "metadata": {},
   "outputs": [
    {
     "data": {
      "image/png": "[encoded data removed]",
      "text/plain": [
       "plot without title"
      ]
     },
     "metadata": {},
     "output_type": "display_data"
    }
   ],
   "source": [
    "plot(Sneaker)"
   ]
  },
  {
   "cell_type": "markdown",
   "id": "b8dacd45",
   "metadata": {},
   "source": [
    "## Data Cleaning process"
   ]
  },
  {
   "cell_type": "code",
   "execution_count": 9,
   "id": "b5d4252b",
   "metadata": {},
   "outputs": [],
   "source": [
    "#clean the data set\n",
    "Sale_Price <- as.numeric(gsub('[$,]', '', Sale.Price)) #remove $ and comma from sale price value and convert it into nemuric value\n",
    "Retail_Price <- as.numeric(gsub('[$,]', '', Retail.Price)) #same as sales price\n",
    "Release_Date = mdy(Release.Date) #mdy is a function of lubridate library, which is use convert chr value to date value\n",
    "day_Release <- yday(Release_Date) - 1 #day count\n",
    "Order_Date= mdy(ï..Order.Date) #same as release date\n",
    "day_Order <- yday(Order_Date) - 1 #day count\n",
    "Shoe_Size = Shoe.Size\n",
    "Sneaker_Name = Sneaker.Name\n",
    "Buyer_Region = Buyer.Region\n",
    "Bought_for_Less_Than_Retail = ifelse(Sale_Price < Retail_Price, 1, 0) #make three new columns\n",
    "Bought_more_Than_Retail = ifelse(Sale_Price > Retail_Price, 1, 0)\n",
    "Bought_at_Retail = ifelse(Sale_Price == Retail_Price, 1, 0)"
   ]
  },
  {
   "cell_type": "code",
   "execution_count": 10,
   "id": "d492a6ca",
   "metadata": {},
   "outputs": [
    {
     "data": {
      "text/html": [
       "<table>\n",
       "<thead><tr><th scope=col>Brand</th><th scope=col>Sneaker_Name</th><th scope=col>Shoe_Size</th><th scope=col>Release_Date</th><th scope=col>day_Release</th><th scope=col>Retail_Price</th><th scope=col>Order_Date</th><th scope=col>day_Order</th><th scope=col>Sale_Price</th><th scope=col>Buyer_Region</th><th scope=col>Bought_for_Less_Than_Retail</th><th scope=col>Bought_more_Than_Retail</th><th scope=col>Bought_at_Retail</th></tr></thead>\n",
       "<tbody>\n",
       "\t<tr><td> Yeezy                                       </td><td>Adidas-Yeezy-Boost-350-Low-V2-Beluga         </td><td>11.0                                         </td><td>2016-09-24                                   </td><td>267                                          </td><td>220                                          </td><td>2017-09-01                                   </td><td>243                                          </td><td>1097                                         </td><td>California                                   </td><td>0                                            </td><td>1                                            </td><td>0                                            </td></tr>\n",
       "\t<tr><td> Yeezy                                       </td><td>Adidas-Yeezy-Boost-350-V2-Core-Black-Copper  </td><td>11.0                                         </td><td>2016-11-23                                   </td><td>327                                          </td><td>220                                          </td><td>2017-09-01                                   </td><td>243                                          </td><td> 685                                         </td><td>California                                   </td><td>0                                            </td><td>1                                            </td><td>0                                            </td></tr>\n",
       "\t<tr><td> Yeezy                                       </td><td>Adidas-Yeezy-Boost-350-V2-Core-Black-Green   </td><td>11.0                                         </td><td>2016-11-23                                   </td><td>327                                          </td><td>220                                          </td><td>2017-09-01                                   </td><td>243                                          </td><td> 690                                         </td><td>California                                   </td><td>0                                            </td><td>1                                            </td><td>0                                            </td></tr>\n",
       "\t<tr><td> Yeezy                                       </td><td>Adidas-Yeezy-Boost-350-V2-Core-Black-Red     </td><td>11.5                                         </td><td>2016-11-23                                   </td><td>327                                          </td><td>220                                          </td><td>2017-09-01                                   </td><td>243                                          </td><td>1075                                         </td><td>Kentucky                                     </td><td>0                                            </td><td>1                                            </td><td>0                                            </td></tr>\n",
       "\t<tr><td> Yeezy                                       </td><td>Adidas-Yeezy-Boost-350-V2-Core-Black-Red-2017</td><td>11.0                                         </td><td>2017-02-11                                   </td><td> 41                                          </td><td>220                                          </td><td>2017-09-01                                   </td><td>243                                          </td><td> 828                                         </td><td>Rhode Island                                 </td><td>0                                            </td><td>1                                            </td><td>0                                            </td></tr>\n",
       "\t<tr><td> Yeezy                                       </td><td>Adidas-Yeezy-Boost-350-V2-Core-Black-Red-2017</td><td> 8.5                                         </td><td>2017-02-11                                   </td><td> 41                                          </td><td>220                                          </td><td>2017-09-01                                   </td><td>243                                          </td><td> 798                                         </td><td>Michigan                                     </td><td>0                                            </td><td>1                                            </td><td>0                                            </td></tr>\n",
       "\t<tr><td> Yeezy                                       </td><td>Adidas-Yeezy-Boost-350-V2-Core-Black-White   </td><td>11.0                                         </td><td>2016-12-17                                   </td><td>351                                          </td><td>220                                          </td><td>2017-09-01                                   </td><td>243                                          </td><td> 784                                         </td><td>California                                   </td><td>0                                            </td><td>1                                            </td><td>0                                            </td></tr>\n",
       "\t<tr><td> Yeezy                                       </td><td>Adidas-Yeezy-Boost-350-V2-Cream-White        </td><td>10.0                                         </td><td>2017-04-29                                   </td><td>118                                          </td><td>220                                          </td><td>2017-09-01                                   </td><td>243                                          </td><td> 460                                         </td><td>New York                                     </td><td>0                                            </td><td>1                                            </td><td>0                                            </td></tr>\n",
       "\t<tr><td> Yeezy                                       </td><td>Adidas-Yeezy-Boost-350-V2-Cream-White        </td><td>11.0                                         </td><td>2017-04-29                                   </td><td>118                                          </td><td>220                                          </td><td>2017-09-01                                   </td><td>243                                          </td><td> 465                                         </td><td>Kansas                                       </td><td>0                                            </td><td>1                                            </td><td>0                                            </td></tr>\n",
       "\t<tr><td> Yeezy                                       </td><td>Adidas-Yeezy-Boost-350-V2-Cream-White        </td><td>11.0                                         </td><td>2017-04-29                                   </td><td>118                                          </td><td>220                                          </td><td>2017-09-01                                   </td><td>243                                          </td><td> 465                                         </td><td>Florida                                      </td><td>0                                            </td><td>1                                            </td><td>0                                            </td></tr>\n",
       "\t<tr><td> Yeezy                                       </td><td>Adidas-Yeezy-Boost-350-V2-Cream-White        </td><td>11.5                                         </td><td>2017-04-29                                   </td><td>118                                          </td><td>220                                          </td><td>2017-09-01                                   </td><td>243                                          </td><td> 515                                         </td><td>New Jersey                                   </td><td>0                                            </td><td>1                                            </td><td>0                                            </td></tr>\n",
       "\t<tr><td> Yeezy                                       </td><td>Adidas-Yeezy-Boost-350-V2-Cream-White        </td><td>10.0                                         </td><td>2017-04-29                                   </td><td>118                                          </td><td>220                                          </td><td>2017-09-01                                   </td><td>243                                          </td><td> 473                                         </td><td>Texas                                        </td><td>0                                            </td><td>1                                            </td><td>0                                            </td></tr>\n",
       "\t<tr><td> Yeezy                                       </td><td>Adidas-Yeezy-Boost-350-V2-Cream-White        </td><td> 9.0                                         </td><td>2017-04-29                                   </td><td>118                                          </td><td>220                                          </td><td>2017-09-01                                   </td><td>243                                          </td><td> 460                                         </td><td>Florida                                      </td><td>0                                            </td><td>1                                            </td><td>0                                            </td></tr>\n",
       "\t<tr><td> Yeezy                                       </td><td>Adidas-Yeezy-Boost-350-V2-Zebra              </td><td>14.0                                         </td><td>2017-02-25                                   </td><td> 55                                          </td><td>220                                          </td><td>2017-09-01                                   </td><td>243                                          </td><td> 570                                         </td><td>Michigan                                     </td><td>0                                            </td><td>1                                            </td><td>0                                            </td></tr>\n",
       "\t<tr><td> Yeezy                                       </td><td>Adidas-Yeezy-Boost-350-V2-Zebra              </td><td> 8.0                                         </td><td>2017-02-25                                   </td><td> 55                                          </td><td>220                                          </td><td>2017-09-01                                   </td><td>243                                          </td><td> 525                                         </td><td>New York                                     </td><td>0                                            </td><td>1                                            </td><td>0                                            </td></tr>\n",
       "\t<tr><td> Yeezy                                       </td><td>Adidas-Yeezy-Boost-350-V2-Zebra              </td><td>11.0                                         </td><td>2017-02-25                                   </td><td> 55                                          </td><td>220                                          </td><td>2017-09-01                                   </td><td>243                                          </td><td> 658                                         </td><td>California                                   </td><td>0                                            </td><td>1                                            </td><td>0                                            </td></tr>\n",
       "\t<tr><td> Yeezy                                       </td><td>Adidas-Yeezy-Boost-350-V2-Zebra              </td><td>11.0                                         </td><td>2017-02-25                                   </td><td> 55                                          </td><td>220                                          </td><td>2017-09-01                                   </td><td>243                                          </td><td> 650                                         </td><td>North Carolina                               </td><td>0                                            </td><td>1                                            </td><td>0                                            </td></tr>\n",
       "\t<tr><td> Yeezy                                       </td><td>Adidas-Yeezy-Boost-350-V2-Zebra              </td><td>10.0                                         </td><td>2017-02-25                                   </td><td> 55                                          </td><td>220                                          </td><td>2017-09-01                                   </td><td>243                                          </td><td> 610                                         </td><td>New Jersey                                   </td><td>0                                            </td><td>1                                            </td><td>0                                            </td></tr>\n",
       "\t<tr><td> Yeezy                                       </td><td>Adidas-Yeezy-Boost-350-V2-Zebra              </td><td> 9.0                                         </td><td>2017-02-25                                   </td><td> 55                                          </td><td>220                                          </td><td>2017-09-01                                   </td><td>243                                          </td><td> 589                                         </td><td>New York                                     </td><td>0                                            </td><td>1                                            </td><td>0                                            </td></tr>\n",
       "\t<tr><td> Yeezy                                       </td><td>Adidas-Yeezy-Boost-350-V2-Zebra              </td><td> 5.5                                         </td><td>2017-02-25                                   </td><td> 55                                          </td><td>220                                          </td><td>2017-09-01                                   </td><td>243                                          </td><td> 850                                         </td><td>Michigan                                     </td><td>0                                            </td><td>1                                            </td><td>0                                            </td></tr>\n",
       "\t<tr><td> Yeezy                                       </td><td>Adidas-Yeezy-Boost-350-V2-Zebra              </td><td> 9.0                                         </td><td>2017-02-25                                   </td><td> 55                                          </td><td>220                                          </td><td>2017-09-01                                   </td><td>243                                          </td><td> 546                                         </td><td>Florida                                      </td><td>0                                            </td><td>1                                            </td><td>0                                            </td></tr>\n",
       "\t<tr><td> Yeezy                                       </td><td>Adidas-Yeezy-Boost-350-V2-Zebra              </td><td> 9.5                                         </td><td>2017-02-25                                   </td><td> 55                                          </td><td>220                                          </td><td>2017-09-01                                   </td><td>243                                          </td><td> 586                                         </td><td>Oregon                                       </td><td>0                                            </td><td>1                                            </td><td>0                                            </td></tr>\n",
       "\t<tr><td> Yeezy                                       </td><td>Adidas-Yeezy-Boost-350-V2-Zebra              </td><td>14.0                                         </td><td>2017-02-25                                   </td><td> 55                                          </td><td>220                                          </td><td>2017-09-01                                   </td><td>243                                          </td><td> 640                                         </td><td>California                                   </td><td>0                                            </td><td>1                                            </td><td>0                                            </td></tr>\n",
       "\t<tr><td> Yeezy                                       </td><td>Adidas-Yeezy-Boost-350-Low-V2-Beluga         </td><td> 8.0                                         </td><td>2016-09-24                                   </td><td>267                                          </td><td>220                                          </td><td>2017-09-02                                   </td><td>244                                          </td><td> 850                                         </td><td>Alabama                                      </td><td>0                                            </td><td>1                                            </td><td>0                                            </td></tr>\n",
       "\t<tr><td> Yeezy                                       </td><td>Adidas-Yeezy-Boost-350-V2-Core-Black-Red     </td><td>11.0                                         </td><td>2016-11-23                                   </td><td>327                                          </td><td>220                                          </td><td>2017-09-02                                   </td><td>244                                          </td><td> 999                                         </td><td>Kentucky                                     </td><td>0                                            </td><td>1                                            </td><td>0                                            </td></tr>\n",
       "\t<tr><td> Yeezy                                       </td><td>Adidas-Yeezy-Boost-350-V2-Core-Black-Red-2017</td><td> 9.0                                         </td><td>2017-02-11                                   </td><td> 41                                          </td><td>220                                          </td><td>2017-09-02                                   </td><td>244                                          </td><td> 740                                         </td><td>New York                                     </td><td>0                                            </td><td>1                                            </td><td>0                                            </td></tr>\n",
       "\t<tr><td> Yeezy                                       </td><td>Adidas-Yeezy-Boost-350-V2-Core-Black-Red-2017</td><td> 8.0                                         </td><td>2017-02-11                                   </td><td> 41                                          </td><td>220                                          </td><td>2017-09-02                                   </td><td>244                                          </td><td> 765                                         </td><td>New York                                     </td><td>0                                            </td><td>1                                            </td><td>0                                            </td></tr>\n",
       "\t<tr><td> Yeezy                                       </td><td>Adidas-Yeezy-Boost-350-V2-Core-Black-White   </td><td>11.5                                         </td><td>2016-12-17                                   </td><td>351                                          </td><td>220                                          </td><td>2017-09-02                                   </td><td>244                                          </td><td> 800                                         </td><td>Kentucky                                     </td><td>0                                            </td><td>1                                            </td><td>0                                            </td></tr>\n",
       "\t<tr><td> Yeezy                                       </td><td>Adidas-Yeezy-Boost-350-V2-Cream-White        </td><td>10.5                                         </td><td>2017-04-29                                   </td><td>118                                          </td><td>220                                          </td><td>2017-09-02                                   </td><td>244                                          </td><td> 470                                         </td><td>California                                   </td><td>0                                            </td><td>1                                            </td><td>0                                            </td></tr>\n",
       "\t<tr><td> Yeezy                                       </td><td>Adidas-Yeezy-Boost-350-V2-Cream-White        </td><td> 8.5                                         </td><td>2017-04-29                                   </td><td>118                                          </td><td>220                                          </td><td>2017-09-02                                   </td><td>244                                          </td><td> 455                                         </td><td>Oregon                                       </td><td>0                                            </td><td>1                                            </td><td>0                                            </td></tr>\n",
       "\t<tr><td>...</td><td>...</td><td>...</td><td>...</td><td>...</td><td>...</td><td>...</td><td>...</td><td>...</td><td>...</td><td>...</td><td>...</td><td>...</td></tr>\n",
       "\t<tr><td> Yeezy                                     </td><td>adidas-Yeezy-Boost-350-V2-Static           </td><td>10.0                                       </td><td>2018-12-27                                 </td><td>360                                        </td><td>220                                        </td><td>2019-02-13                                 </td><td>43                                         </td><td>330                                        </td><td>Oregon                                     </td><td>0                                          </td><td>1                                          </td><td>0                                          </td></tr>\n",
       "\t<tr><td> Yeezy                                     </td><td>adidas-Yeezy-Boost-350-V2-Static           </td><td> 5.0                                       </td><td>2018-12-27                                 </td><td>360                                        </td><td>220                                        </td><td>2019-02-13                                 </td><td>43                                         </td><td>354                                        </td><td>Pennsylvania                               </td><td>0                                          </td><td>1                                          </td><td>0                                          </td></tr>\n",
       "\t<tr><td> Yeezy                                     </td><td>adidas-Yeezy-Boost-350-V2-Static           </td><td>11.5                                       </td><td>2018-12-27                                 </td><td>360                                        </td><td>220                                        </td><td>2019-02-13                                 </td><td>43                                         </td><td>300                                        </td><td>New York                                   </td><td>0                                          </td><td>1                                          </td><td>0                                          </td></tr>\n",
       "\t<tr><td> Yeezy                                     </td><td>adidas-Yeezy-Boost-350-V2-Static           </td><td> 6.0                                       </td><td>2018-12-27                                 </td><td>360                                        </td><td>220                                        </td><td>2019-02-13                                 </td><td>43                                         </td><td>360                                        </td><td>California                                 </td><td>0                                          </td><td>1                                          </td><td>0                                          </td></tr>\n",
       "\t<tr><td> Yeezy                                     </td><td>adidas-Yeezy-Boost-350-V2-Static           </td><td> 4.0                                       </td><td>2018-12-27                                 </td><td>360                                        </td><td>220                                        </td><td>2019-02-13                                 </td><td>43                                         </td><td>339                                        </td><td>Oregon                                     </td><td>0                                          </td><td>1                                          </td><td>0                                          </td></tr>\n",
       "\t<tr><td> Yeezy                                     </td><td>adidas-Yeezy-Boost-350-V2-Static           </td><td> 8.5                                       </td><td>2018-12-27                                 </td><td>360                                        </td><td>220                                        </td><td>2019-02-13                                 </td><td>43                                         </td><td>344                                        </td><td>Oregon                                     </td><td>0                                          </td><td>1                                          </td><td>0                                          </td></tr>\n",
       "\t<tr><td> Yeezy                                     </td><td>adidas-Yeezy-Boost-350-V2-Static           </td><td> 7.5                                       </td><td>2018-12-27                                 </td><td>360                                        </td><td>220                                        </td><td>2019-02-13                                 </td><td>43                                         </td><td>340                                        </td><td>Oregon                                     </td><td>0                                          </td><td>1                                          </td><td>0                                          </td></tr>\n",
       "\t<tr><td> Yeezy                                     </td><td>adidas-Yeezy-Boost-350-V2-Static           </td><td>10.0                                       </td><td>2018-12-27                                 </td><td>360                                        </td><td>220                                        </td><td>2019-02-13                                 </td><td>43                                         </td><td>325                                        </td><td>Oregon                                     </td><td>0                                          </td><td>1                                          </td><td>0                                          </td></tr>\n",
       "\t<tr><td> Yeezy                                     </td><td>adidas-Yeezy-Boost-350-V2-Static           </td><td> 9.5                                       </td><td>2018-12-27                                 </td><td>360                                        </td><td>220                                        </td><td>2019-02-13                                 </td><td>43                                         </td><td>350                                        </td><td>California                                 </td><td>0                                          </td><td>1                                          </td><td>0                                          </td></tr>\n",
       "\t<tr><td> Yeezy                                     </td><td>adidas-Yeezy-Boost-350-V2-Static           </td><td>13.0                                       </td><td>2018-12-27                                 </td><td>360                                        </td><td>220                                        </td><td>2019-02-13                                 </td><td>43                                         </td><td>259                                        </td><td>Illinois                                   </td><td>0                                          </td><td>1                                          </td><td>0                                          </td></tr>\n",
       "\t<tr><td> Yeezy                                     </td><td>adidas-Yeezy-Boost-350-V2-Static           </td><td>12.0                                       </td><td>2018-12-27                                 </td><td>360                                        </td><td>220                                        </td><td>2019-02-13                                 </td><td>43                                         </td><td>284                                        </td><td>New York                                   </td><td>0                                          </td><td>1                                          </td><td>0                                          </td></tr>\n",
       "\t<tr><td> Yeezy                                     </td><td>adidas-Yeezy-Boost-350-V2-Static           </td><td> 9.0                                       </td><td>2018-12-27                                 </td><td>360                                        </td><td>220                                        </td><td>2019-02-13                                 </td><td>43                                         </td><td>345                                        </td><td>Oregon                                     </td><td>0                                          </td><td>1                                          </td><td>0                                          </td></tr>\n",
       "\t<tr><td> Yeezy                                     </td><td>adidas-Yeezy-Boost-350-V2-Static           </td><td> 5.0                                       </td><td>2018-12-27                                 </td><td>360                                        </td><td>220                                        </td><td>2019-02-13                                 </td><td>43                                         </td><td>350                                        </td><td>California                                 </td><td>0                                          </td><td>1                                          </td><td>0                                          </td></tr>\n",
       "\t<tr><td> Yeezy                                     </td><td>adidas-Yeezy-Boost-350-V2-Static-Reflective</td><td>11.0                                       </td><td>2018-12-26                                 </td><td>359                                        </td><td>220                                        </td><td>2019-02-13                                 </td><td>43                                         </td><td>700                                        </td><td>California                                 </td><td>0                                          </td><td>1                                          </td><td>0                                          </td></tr>\n",
       "\t<tr><td> Yeezy                                     </td><td>adidas-Yeezy-Boost-350-V2-Static-Reflective</td><td> 6.5                                       </td><td>2018-12-26                                 </td><td>359                                        </td><td>220                                        </td><td>2019-02-13                                 </td><td>43                                         </td><td>676                                        </td><td>California                                 </td><td>0                                          </td><td>1                                          </td><td>0                                          </td></tr>\n",
       "\t<tr><td> Yeezy                                     </td><td>adidas-Yeezy-Boost-350-V2-Static-Reflective</td><td> 8.5                                       </td><td>2018-12-26                                 </td><td>359                                        </td><td>220                                        </td><td>2019-02-13                                 </td><td>43                                         </td><td>573                                        </td><td>Oregon                                     </td><td>0                                          </td><td>1                                          </td><td>0                                          </td></tr>\n",
       "\t<tr><td> Yeezy                                     </td><td>adidas-Yeezy-Boost-350-V2-Static-Reflective</td><td>12.0                                       </td><td>2018-12-26                                 </td><td>359                                        </td><td>220                                        </td><td>2019-02-13                                 </td><td>43                                         </td><td>480                                        </td><td>Alabama                                    </td><td>0                                          </td><td>1                                          </td><td>0                                          </td></tr>\n",
       "\t<tr><td> Yeezy                                     </td><td>adidas-Yeezy-Boost-350-V2-Static-Reflective</td><td> 5.5                                       </td><td>2018-12-26                                 </td><td>359                                        </td><td>220                                        </td><td>2019-02-13                                 </td><td>43                                         </td><td>600                                        </td><td>Oregon                                     </td><td>0                                          </td><td>1                                          </td><td>0                                          </td></tr>\n",
       "\t<tr><td> Yeezy                                     </td><td>adidas-Yeezy-Boost-350-V2-Static-Reflective</td><td>14.0                                       </td><td>2018-12-26                                 </td><td>359                                        </td><td>220                                        </td><td>2019-02-13                                 </td><td>43                                         </td><td>335                                        </td><td>California                                 </td><td>0                                          </td><td>1                                          </td><td>0                                          </td></tr>\n",
       "\t<tr><td> Yeezy                                     </td><td>adidas-Yeezy-Boost-350-V2-Static-Reflective</td><td>11.0                                       </td><td>2018-12-26                                 </td><td>359                                        </td><td>220                                        </td><td>2019-02-13                                 </td><td>43                                         </td><td>699                                        </td><td>California                                 </td><td>0                                          </td><td>1                                          </td><td>0                                          </td></tr>\n",
       "\t<tr><td> Yeezy                                     </td><td>adidas-Yeezy-Boost-350-V2-Static-Reflective</td><td>11.0                                       </td><td>2018-12-26                                 </td><td>359                                        </td><td>220                                        </td><td>2019-02-13                                 </td><td>43                                         </td><td>699                                        </td><td>New Jersey                                 </td><td>0                                          </td><td>1                                          </td><td>0                                          </td></tr>\n",
       "\t<tr><td> Yeezy                                     </td><td>adidas-Yeezy-Boost-350-V2-Static-Reflective</td><td> 9.5                                       </td><td>2018-12-26                                 </td><td>359                                        </td><td>220                                        </td><td>2019-02-13                                 </td><td>43                                         </td><td>618                                        </td><td>California                                 </td><td>0                                          </td><td>1                                          </td><td>0                                          </td></tr>\n",
       "\t<tr><td> Yeezy                                     </td><td>adidas-Yeezy-Boost-350-V2-Static-Reflective</td><td> 9.0                                       </td><td>2018-12-26                                 </td><td>359                                        </td><td>220                                        </td><td>2019-02-13                                 </td><td>43                                         </td><td>581                                        </td><td>Oregon                                     </td><td>0                                          </td><td>1                                          </td><td>0                                          </td></tr>\n",
       "\t<tr><td> Yeezy                                     </td><td>adidas-Yeezy-Boost-350-V2-Static-Reflective</td><td> 8.5                                       </td><td>2018-12-26                                 </td><td>359                                        </td><td>220                                        </td><td>2019-02-13                                 </td><td>43                                         </td><td>594                                        </td><td>Oregon                                     </td><td>0                                          </td><td>1                                          </td><td>0                                          </td></tr>\n",
       "\t<tr><td> Yeezy                                     </td><td>adidas-Yeezy-Boost-350-V2-Static-Reflective</td><td>10.0                                       </td><td>2018-12-26                                 </td><td>359                                        </td><td>220                                        </td><td>2019-02-13                                 </td><td>43                                         </td><td>582                                        </td><td>New Jersey                                 </td><td>0                                          </td><td>1                                          </td><td>0                                          </td></tr>\n",
       "\t<tr><td> Yeezy                                     </td><td>adidas-Yeezy-Boost-350-V2-Static-Reflective</td><td> 8.0                                       </td><td>2018-12-26                                 </td><td>359                                        </td><td>220                                        </td><td>2019-02-13                                 </td><td>43                                         </td><td>565                                        </td><td>Oregon                                     </td><td>0                                          </td><td>1                                          </td><td>0                                          </td></tr>\n",
       "\t<tr><td> Yeezy                                     </td><td>adidas-Yeezy-Boost-350-V2-Static-Reflective</td><td> 8.5                                       </td><td>2018-12-26                                 </td><td>359                                        </td><td>220                                        </td><td>2019-02-13                                 </td><td>43                                         </td><td>598                                        </td><td>California                                 </td><td>0                                          </td><td>1                                          </td><td>0                                          </td></tr>\n",
       "\t<tr><td> Yeezy                                     </td><td>adidas-Yeezy-Boost-350-V2-Static-Reflective</td><td> 5.5                                       </td><td>2018-12-26                                 </td><td>359                                        </td><td>220                                        </td><td>2019-02-13                                 </td><td>43                                         </td><td>605                                        </td><td>New York                                   </td><td>0                                          </td><td>1                                          </td><td>0                                          </td></tr>\n",
       "\t<tr><td> Yeezy                                     </td><td>adidas-Yeezy-Boost-350-V2-Static-Reflective</td><td>11.0                                       </td><td>2018-12-26                                 </td><td>359                                        </td><td>220                                        </td><td>2019-02-13                                 </td><td>43                                         </td><td>650                                        </td><td>California                                 </td><td>0                                          </td><td>1                                          </td><td>0                                          </td></tr>\n",
       "\t<tr><td> Yeezy                                     </td><td>adidas-Yeezy-Boost-350-V2-Static-Reflective</td><td>11.5                                       </td><td>2018-12-26                                 </td><td>359                                        </td><td>220                                        </td><td>2019-02-13                                 </td><td>43                                         </td><td>640                                        </td><td>Texas                                      </td><td>0                                          </td><td>1                                          </td><td>0                                          </td></tr>\n",
       "</tbody>\n",
       "</table>\n"
      ],
      "text/latex": [
       "\\begin{tabular}{r|lllllllllllll}\n",
       " Brand & Sneaker\\_Name & Shoe\\_Size & Release\\_Date & day\\_Release & Retail\\_Price & Order\\_Date & day\\_Order & Sale\\_Price & Buyer\\_Region & Bought\\_for\\_Less\\_Than\\_Retail & Bought\\_more\\_Than\\_Retail & Bought\\_at\\_Retail\\\\\n",
       "\\hline\n",
       "\t  Yeezy                                        & Adidas-Yeezy-Boost-350-Low-V2-Beluga          & 11.0                                          & 2016-09-24                                    & 267                                           & 220                                           & 2017-09-01                                    & 243                                           & 1097                                          & California                                    & 0                                             & 1                                             & 0                                            \\\\\n",
       "\t  Yeezy                                        & Adidas-Yeezy-Boost-350-V2-Core-Black-Copper   & 11.0                                          & 2016-11-23                                    & 327                                           & 220                                           & 2017-09-01                                    & 243                                           &  685                                          & California                                    & 0                                             & 1                                             & 0                                            \\\\\n",
       "\t  Yeezy                                        & Adidas-Yeezy-Boost-350-V2-Core-Black-Green    & 11.0                                          & 2016-11-23                                    & 327                                           & 220                                           & 2017-09-01                                    & 243                                           &  690                                          & California                                    & 0                                             & 1                                             & 0                                            \\\\\n",
       "\t  Yeezy                                        & Adidas-Yeezy-Boost-350-V2-Core-Black-Red      & 11.5                                          & 2016-11-23                                    & 327                                           & 220                                           & 2017-09-01                                    & 243                                           & 1075                                          & Kentucky                                      & 0                                             & 1                                             & 0                                            \\\\\n",
       "\t  Yeezy                                        & Adidas-Yeezy-Boost-350-V2-Core-Black-Red-2017 & 11.0                                          & 2017-02-11                                    &  41                                           & 220                                           & 2017-09-01                                    & 243                                           &  828                                          & Rhode Island                                  & 0                                             & 1                                             & 0                                            \\\\\n",
       "\t  Yeezy                                        & Adidas-Yeezy-Boost-350-V2-Core-Black-Red-2017 &  8.5                                          & 2017-02-11                                    &  41                                           & 220                                           & 2017-09-01                                    & 243                                           &  798                                          & Michigan                                      & 0                                             & 1                                             & 0                                            \\\\\n",
       "\t  Yeezy                                        & Adidas-Yeezy-Boost-350-V2-Core-Black-White    & 11.0                                          & 2016-12-17                                    & 351                                           & 220                                           & 2017-09-01                                    & 243                                           &  784                                          & California                                    & 0                                             & 1                                             & 0                                            \\\\\n",
       "\t  Yeezy                                        & Adidas-Yeezy-Boost-350-V2-Cream-White         & 10.0                                          & 2017-04-29                                    & 118                                           & 220                                           & 2017-09-01                                    & 243                                           &  460                                          & New York                                      & 0                                             & 1                                             & 0                                            \\\\\n",
       "\t  Yeezy                                        & Adidas-Yeezy-Boost-350-V2-Cream-White         & 11.0                                          & 2017-04-29                                    & 118                                           & 220                                           & 2017-09-01                                    & 243                                           &  465                                          & Kansas                                        & 0                                             & 1                                             & 0                                            \\\\\n",
       "\t  Yeezy                                        & Adidas-Yeezy-Boost-350-V2-Cream-White         & 11.0                                          & 2017-04-29                                    & 118                                           & 220                                           & 2017-09-01                                    & 243                                           &  465                                          & Florida                                       & 0                                             & 1                                             & 0                                            \\\\\n",
       "\t  Yeezy                                        & Adidas-Yeezy-Boost-350-V2-Cream-White         & 11.5                                          & 2017-04-29                                    & 118                                           & 220                                           & 2017-09-01                                    & 243                                           &  515                                          & New Jersey                                    & 0                                             & 1                                             & 0                                            \\\\\n",
       "\t  Yeezy                                        & Adidas-Yeezy-Boost-350-V2-Cream-White         & 10.0                                          & 2017-04-29                                    & 118                                           & 220                                           & 2017-09-01                                    & 243                                           &  473                                          & Texas                                         & 0                                             & 1                                             & 0                                            \\\\\n",
       "\t  Yeezy                                        & Adidas-Yeezy-Boost-350-V2-Cream-White         &  9.0                                          & 2017-04-29                                    & 118                                           & 220                                           & 2017-09-01                                    & 243                                           &  460                                          & Florida                                       & 0                                             & 1                                             & 0                                            \\\\\n",
       "\t  Yeezy                                        & Adidas-Yeezy-Boost-350-V2-Zebra               & 14.0                                          & 2017-02-25                                    &  55                                           & 220                                           & 2017-09-01                                    & 243                                           &  570                                          & Michigan                                      & 0                                             & 1                                             & 0                                            \\\\\n",
       "\t  Yeezy                                        & Adidas-Yeezy-Boost-350-V2-Zebra               &  8.0                                          & 2017-02-25                                    &  55                                           & 220                                           & 2017-09-01                                    & 243                                           &  525                                          & New York                                      & 0                                             & 1                                             & 0                                            \\\\\n",
       "\t  Yeezy                                        & Adidas-Yeezy-Boost-350-V2-Zebra               & 11.0                                          & 2017-02-25                                    &  55                                           & 220                                           & 2017-09-01                                    & 243                                           &  658                                          & California                                    & 0                                             & 1                                             & 0                                            \\\\\n",
       "\t  Yeezy                                        & Adidas-Yeezy-Boost-350-V2-Zebra               & 11.0                                          & 2017-02-25                                    &  55                                           & 220                                           & 2017-09-01                                    & 243                                           &  650                                          & North Carolina                                & 0                                             & 1                                             & 0                                            \\\\\n",
       "\t  Yeezy                                        & Adidas-Yeezy-Boost-350-V2-Zebra               & 10.0                                          & 2017-02-25                                    &  55                                           & 220                                           & 2017-09-01                                    & 243                                           &  610                                          & New Jersey                                    & 0                                             & 1                                             & 0                                            \\\\\n",
       "\t  Yeezy                                        & Adidas-Yeezy-Boost-350-V2-Zebra               &  9.0                                          & 2017-02-25                                    &  55                                           & 220                                           & 2017-09-01                                    & 243                                           &  589                                          & New York                                      & 0                                             & 1                                             & 0                                            \\\\\n",
       "\t  Yeezy                                        & Adidas-Yeezy-Boost-350-V2-Zebra               &  5.5                                          & 2017-02-25                                    &  55                                           & 220                                           & 2017-09-01                                    & 243                                           &  850                                          & Michigan                                      & 0                                             & 1                                             & 0                                            \\\\\n",
       "\t  Yeezy                                        & Adidas-Yeezy-Boost-350-V2-Zebra               &  9.0                                          & 2017-02-25                                    &  55                                           & 220                                           & 2017-09-01                                    & 243                                           &  546                                          & Florida                                       & 0                                             & 1                                             & 0                                            \\\\\n",
       "\t  Yeezy                                        & Adidas-Yeezy-Boost-350-V2-Zebra               &  9.5                                          & 2017-02-25                                    &  55                                           & 220                                           & 2017-09-01                                    & 243                                           &  586                                          & Oregon                                        & 0                                             & 1                                             & 0                                            \\\\\n",
       "\t  Yeezy                                        & Adidas-Yeezy-Boost-350-V2-Zebra               & 14.0                                          & 2017-02-25                                    &  55                                           & 220                                           & 2017-09-01                                    & 243                                           &  640                                          & California                                    & 0                                             & 1                                             & 0                                            \\\\\n",
       "\t  Yeezy                                        & Adidas-Yeezy-Boost-350-Low-V2-Beluga          &  8.0                                          & 2016-09-24                                    & 267                                           & 220                                           & 2017-09-02                                    & 244                                           &  850                                          & Alabama                                       & 0                                             & 1                                             & 0                                            \\\\\n",
       "\t  Yeezy                                        & Adidas-Yeezy-Boost-350-V2-Core-Black-Red      & 11.0                                          & 2016-11-23                                    & 327                                           & 220                                           & 2017-09-02                                    & 244                                           &  999                                          & Kentucky                                      & 0                                             & 1                                             & 0                                            \\\\\n",
       "\t  Yeezy                                        & Adidas-Yeezy-Boost-350-V2-Core-Black-Red-2017 &  9.0                                          & 2017-02-11                                    &  41                                           & 220                                           & 2017-09-02                                    & 244                                           &  740                                          & New York                                      & 0                                             & 1                                             & 0                                            \\\\\n",
       "\t  Yeezy                                        & Adidas-Yeezy-Boost-350-V2-Core-Black-Red-2017 &  8.0                                          & 2017-02-11                                    &  41                                           & 220                                           & 2017-09-02                                    & 244                                           &  765                                          & New York                                      & 0                                             & 1                                             & 0                                            \\\\\n",
       "\t  Yeezy                                        & Adidas-Yeezy-Boost-350-V2-Core-Black-White    & 11.5                                          & 2016-12-17                                    & 351                                           & 220                                           & 2017-09-02                                    & 244                                           &  800                                          & Kentucky                                      & 0                                             & 1                                             & 0                                            \\\\\n",
       "\t  Yeezy                                        & Adidas-Yeezy-Boost-350-V2-Cream-White         & 10.5                                          & 2017-04-29                                    & 118                                           & 220                                           & 2017-09-02                                    & 244                                           &  470                                          & California                                    & 0                                             & 1                                             & 0                                            \\\\\n",
       "\t  Yeezy                                        & Adidas-Yeezy-Boost-350-V2-Cream-White         &  8.5                                          & 2017-04-29                                    & 118                                           & 220                                           & 2017-09-02                                    & 244                                           &  455                                          & Oregon                                        & 0                                             & 1                                             & 0                                            \\\\\n",
       "\t ... & ... & ... & ... & ... & ... & ... & ... & ... & ... & ... & ... & ...\\\\\n",
       "\t  Yeezy                                      & adidas-Yeezy-Boost-350-V2-Static            & 10.0                                        & 2018-12-27                                  & 360                                         & 220                                         & 2019-02-13                                  & 43                                          & 330                                         & Oregon                                      & 0                                           & 1                                           & 0                                          \\\\\n",
       "\t  Yeezy                                      & adidas-Yeezy-Boost-350-V2-Static            &  5.0                                        & 2018-12-27                                  & 360                                         & 220                                         & 2019-02-13                                  & 43                                          & 354                                         & Pennsylvania                                & 0                                           & 1                                           & 0                                          \\\\\n",
       "\t  Yeezy                                      & adidas-Yeezy-Boost-350-V2-Static            & 11.5                                        & 2018-12-27                                  & 360                                         & 220                                         & 2019-02-13                                  & 43                                          & 300                                         & New York                                    & 0                                           & 1                                           & 0                                          \\\\\n",
       "\t  Yeezy                                      & adidas-Yeezy-Boost-350-V2-Static            &  6.0                                        & 2018-12-27                                  & 360                                         & 220                                         & 2019-02-13                                  & 43                                          & 360                                         & California                                  & 0                                           & 1                                           & 0                                          \\\\\n",
       "\t  Yeezy                                      & adidas-Yeezy-Boost-350-V2-Static            &  4.0                                        & 2018-12-27                                  & 360                                         & 220                                         & 2019-02-13                                  & 43                                          & 339                                         & Oregon                                      & 0                                           & 1                                           & 0                                          \\\\\n",
       "\t  Yeezy                                      & adidas-Yeezy-Boost-350-V2-Static            &  8.5                                        & 2018-12-27                                  & 360                                         & 220                                         & 2019-02-13                                  & 43                                          & 344                                         & Oregon                                      & 0                                           & 1                                           & 0                                          \\\\\n",
       "\t  Yeezy                                      & adidas-Yeezy-Boost-350-V2-Static            &  7.5                                        & 2018-12-27                                  & 360                                         & 220                                         & 2019-02-13                                  & 43                                          & 340                                         & Oregon                                      & 0                                           & 1                                           & 0                                          \\\\\n",
       "\t  Yeezy                                      & adidas-Yeezy-Boost-350-V2-Static            & 10.0                                        & 2018-12-27                                  & 360                                         & 220                                         & 2019-02-13                                  & 43                                          & 325                                         & Oregon                                      & 0                                           & 1                                           & 0                                          \\\\\n",
       "\t  Yeezy                                      & adidas-Yeezy-Boost-350-V2-Static            &  9.5                                        & 2018-12-27                                  & 360                                         & 220                                         & 2019-02-13                                  & 43                                          & 350                                         & California                                  & 0                                           & 1                                           & 0                                          \\\\\n",
       "\t  Yeezy                                      & adidas-Yeezy-Boost-350-V2-Static            & 13.0                                        & 2018-12-27                                  & 360                                         & 220                                         & 2019-02-13                                  & 43                                          & 259                                         & Illinois                                    & 0                                           & 1                                           & 0                                          \\\\\n",
       "\t  Yeezy                                      & adidas-Yeezy-Boost-350-V2-Static            & 12.0                                        & 2018-12-27                                  & 360                                         & 220                                         & 2019-02-13                                  & 43                                          & 284                                         & New York                                    & 0                                           & 1                                           & 0                                          \\\\\n",
       "\t  Yeezy                                      & adidas-Yeezy-Boost-350-V2-Static            &  9.0                                        & 2018-12-27                                  & 360                                         & 220                                         & 2019-02-13                                  & 43                                          & 345                                         & Oregon                                      & 0                                           & 1                                           & 0                                          \\\\\n",
       "\t  Yeezy                                      & adidas-Yeezy-Boost-350-V2-Static            &  5.0                                        & 2018-12-27                                  & 360                                         & 220                                         & 2019-02-13                                  & 43                                          & 350                                         & California                                  & 0                                           & 1                                           & 0                                          \\\\\n",
       "\t  Yeezy                                      & adidas-Yeezy-Boost-350-V2-Static-Reflective & 11.0                                        & 2018-12-26                                  & 359                                         & 220                                         & 2019-02-13                                  & 43                                          & 700                                         & California                                  & 0                                           & 1                                           & 0                                          \\\\\n",
       "\t  Yeezy                                      & adidas-Yeezy-Boost-350-V2-Static-Reflective &  6.5                                        & 2018-12-26                                  & 359                                         & 220                                         & 2019-02-13                                  & 43                                          & 676                                         & California                                  & 0                                           & 1                                           & 0                                          \\\\\n",
       "\t  Yeezy                                      & adidas-Yeezy-Boost-350-V2-Static-Reflective &  8.5                                        & 2018-12-26                                  & 359                                         & 220                                         & 2019-02-13                                  & 43                                          & 573                                         & Oregon                                      & 0                                           & 1                                           & 0                                          \\\\\n",
       "\t  Yeezy                                      & adidas-Yeezy-Boost-350-V2-Static-Reflective & 12.0                                        & 2018-12-26                                  & 359                                         & 220                                         & 2019-02-13                                  & 43                                          & 480                                         & Alabama                                     & 0                                           & 1                                           & 0                                          \\\\\n",
       "\t  Yeezy                                      & adidas-Yeezy-Boost-350-V2-Static-Reflective &  5.5                                        & 2018-12-26                                  & 359                                         & 220                                         & 2019-02-13                                  & 43                                          & 600                                         & Oregon                                      & 0                                           & 1                                           & 0                                          \\\\\n",
       "\t  Yeezy                                      & adidas-Yeezy-Boost-350-V2-Static-Reflective & 14.0                                        & 2018-12-26                                  & 359                                         & 220                                         & 2019-02-13                                  & 43                                          & 335                                         & California                                  & 0                                           & 1                                           & 0                                          \\\\\n",
       "\t  Yeezy                                      & adidas-Yeezy-Boost-350-V2-Static-Reflective & 11.0                                        & 2018-12-26                                  & 359                                         & 220                                         & 2019-02-13                                  & 43                                          & 699                                         & California                                  & 0                                           & 1                                           & 0                                          \\\\\n",
       "\t  Yeezy                                      & adidas-Yeezy-Boost-350-V2-Static-Reflective & 11.0                                        & 2018-12-26                                  & 359                                         & 220                                         & 2019-02-13                                  & 43                                          & 699                                         & New Jersey                                  & 0                                           & 1                                           & 0                                          \\\\\n",
       "\t  Yeezy                                      & adidas-Yeezy-Boost-350-V2-Static-Reflective &  9.5                                        & 2018-12-26                                  & 359                                         & 220                                         & 2019-02-13                                  & 43                                          & 618                                         & California                                  & 0                                           & 1                                           & 0                                          \\\\\n",
       "\t  Yeezy                                      & adidas-Yeezy-Boost-350-V2-Static-Reflective &  9.0                                        & 2018-12-26                                  & 359                                         & 220                                         & 2019-02-13                                  & 43                                          & 581                                         & Oregon                                      & 0                                           & 1                                           & 0                                          \\\\\n",
       "\t  Yeezy                                      & adidas-Yeezy-Boost-350-V2-Static-Reflective &  8.5                                        & 2018-12-26                                  & 359                                         & 220                                         & 2019-02-13                                  & 43                                          & 594                                         & Oregon                                      & 0                                           & 1                                           & 0                                          \\\\\n",
       "\t  Yeezy                                      & adidas-Yeezy-Boost-350-V2-Static-Reflective & 10.0                                        & 2018-12-26                                  & 359                                         & 220                                         & 2019-02-13                                  & 43                                          & 582                                         & New Jersey                                  & 0                                           & 1                                           & 0                                          \\\\\n",
       "\t  Yeezy                                      & adidas-Yeezy-Boost-350-V2-Static-Reflective &  8.0                                        & 2018-12-26                                  & 359                                         & 220                                         & 2019-02-13                                  & 43                                          & 565                                         & Oregon                                      & 0                                           & 1                                           & 0                                          \\\\\n",
       "\t  Yeezy                                      & adidas-Yeezy-Boost-350-V2-Static-Reflective &  8.5                                        & 2018-12-26                                  & 359                                         & 220                                         & 2019-02-13                                  & 43                                          & 598                                         & California                                  & 0                                           & 1                                           & 0                                          \\\\\n",
       "\t  Yeezy                                      & adidas-Yeezy-Boost-350-V2-Static-Reflective &  5.5                                        & 2018-12-26                                  & 359                                         & 220                                         & 2019-02-13                                  & 43                                          & 605                                         & New York                                    & 0                                           & 1                                           & 0                                          \\\\\n",
       "\t  Yeezy                                      & adidas-Yeezy-Boost-350-V2-Static-Reflective & 11.0                                        & 2018-12-26                                  & 359                                         & 220                                         & 2019-02-13                                  & 43                                          & 650                                         & California                                  & 0                                           & 1                                           & 0                                          \\\\\n",
       "\t  Yeezy                                      & adidas-Yeezy-Boost-350-V2-Static-Reflective & 11.5                                        & 2018-12-26                                  & 359                                         & 220                                         & 2019-02-13                                  & 43                                          & 640                                         & Texas                                       & 0                                           & 1                                           & 0                                          \\\\\n",
       "\\end{tabular}\n"
      ],
      "text/markdown": [
       "\n",
       "| Brand | Sneaker_Name | Shoe_Size | Release_Date | day_Release | Retail_Price | Order_Date | day_Order | Sale_Price | Buyer_Region | Bought_for_Less_Than_Retail | Bought_more_Than_Retail | Bought_at_Retail |\n",
       "|---|---|---|---|---|---|---|---|---|---|---|---|---|\n",
       "|  Yeezy                                        | Adidas-Yeezy-Boost-350-Low-V2-Beluga          | 11.0                                          | 2016-09-24                                    | 267                                           | 220                                           | 2017-09-01                                    | 243                                           | 1097                                          | California                                    | 0                                             | 1                                             | 0                                             |\n",
       "|  Yeezy                                        | Adidas-Yeezy-Boost-350-V2-Core-Black-Copper   | 11.0                                          | 2016-11-23                                    | 327                                           | 220                                           | 2017-09-01                                    | 243                                           |  685                                          | California                                    | 0                                             | 1                                             | 0                                             |\n",
       "|  Yeezy                                        | Adidas-Yeezy-Boost-350-V2-Core-Black-Green    | 11.0                                          | 2016-11-23                                    | 327                                           | 220                                           | 2017-09-01                                    | 243                                           |  690                                          | California                                    | 0                                             | 1                                             | 0                                             |\n",
       "|  Yeezy                                        | Adidas-Yeezy-Boost-350-V2-Core-Black-Red      | 11.5                                          | 2016-11-23                                    | 327                                           | 220                                           | 2017-09-01                                    | 243                                           | 1075                                          | Kentucky                                      | 0                                             | 1                                             | 0                                             |\n",
       "|  Yeezy                                        | Adidas-Yeezy-Boost-350-V2-Core-Black-Red-2017 | 11.0                                          | 2017-02-11                                    |  41                                           | 220                                           | 2017-09-01                                    | 243                                           |  828                                          | Rhode Island                                  | 0                                             | 1                                             | 0                                             |\n",
       "|  Yeezy                                        | Adidas-Yeezy-Boost-350-V2-Core-Black-Red-2017 |  8.5                                          | 2017-02-11                                    |  41                                           | 220                                           | 2017-09-01                                    | 243                                           |  798                                          | Michigan                                      | 0                                             | 1                                             | 0                                             |\n",
       "|  Yeezy                                        | Adidas-Yeezy-Boost-350-V2-Core-Black-White    | 11.0                                          | 2016-12-17                                    | 351                                           | 220                                           | 2017-09-01                                    | 243                                           |  784                                          | California                                    | 0                                             | 1                                             | 0                                             |\n",
       "|  Yeezy                                        | Adidas-Yeezy-Boost-350-V2-Cream-White         | 10.0                                          | 2017-04-29                                    | 118                                           | 220                                           | 2017-09-01                                    | 243                                           |  460                                          | New York                                      | 0                                             | 1                                             | 0                                             |\n",
       "|  Yeezy                                        | Adidas-Yeezy-Boost-350-V2-Cream-White         | 11.0                                          | 2017-04-29                                    | 118                                           | 220                                           | 2017-09-01                                    | 243                                           |  465                                          | Kansas                                        | 0                                             | 1                                             | 0                                             |\n",
       "|  Yeezy                                        | Adidas-Yeezy-Boost-350-V2-Cream-White         | 11.0                                          | 2017-04-29                                    | 118                                           | 220                                           | 2017-09-01                                    | 243                                           |  465                                          | Florida                                       | 0                                             | 1                                             | 0                                             |\n",
       "|  Yeezy                                        | Adidas-Yeezy-Boost-350-V2-Cream-White         | 11.5                                          | 2017-04-29                                    | 118                                           | 220                                           | 2017-09-01                                    | 243                                           |  515                                          | New Jersey                                    | 0                                             | 1                                             | 0                                             |\n",
       "|  Yeezy                                        | Adidas-Yeezy-Boost-350-V2-Cream-White         | 10.0                                          | 2017-04-29                                    | 118                                           | 220                                           | 2017-09-01                                    | 243                                           |  473                                          | Texas                                         | 0                                             | 1                                             | 0                                             |\n",
       "|  Yeezy                                        | Adidas-Yeezy-Boost-350-V2-Cream-White         |  9.0                                          | 2017-04-29                                    | 118                                           | 220                                           | 2017-09-01                                    | 243                                           |  460                                          | Florida                                       | 0                                             | 1                                             | 0                                             |\n",
       "|  Yeezy                                        | Adidas-Yeezy-Boost-350-V2-Zebra               | 14.0                                          | 2017-02-25                                    |  55                                           | 220                                           | 2017-09-01                                    | 243                                           |  570                                          | Michigan                                      | 0                                             | 1                                             | 0                                             |\n",
       "|  Yeezy                                        | Adidas-Yeezy-Boost-350-V2-Zebra               |  8.0                                          | 2017-02-25                                    |  55                                           | 220                                           | 2017-09-01                                    | 243                                           |  525                                          | New York                                      | 0                                             | 1                                             | 0                                             |\n",
       "|  Yeezy                                        | Adidas-Yeezy-Boost-350-V2-Zebra               | 11.0                                          | 2017-02-25                                    |  55                                           | 220                                           | 2017-09-01                                    | 243                                           |  658                                          | California                                    | 0                                             | 1                                             | 0                                             |\n",
       "|  Yeezy                                        | Adidas-Yeezy-Boost-350-V2-Zebra               | 11.0                                          | 2017-02-25                                    |  55                                           | 220                                           | 2017-09-01                                    | 243                                           |  650                                          | North Carolina                                | 0                                             | 1                                             | 0                                             |\n",
       "|  Yeezy                                        | Adidas-Yeezy-Boost-350-V2-Zebra               | 10.0                                          | 2017-02-25                                    |  55                                           | 220                                           | 2017-09-01                                    | 243                                           |  610                                          | New Jersey                                    | 0                                             | 1                                             | 0                                             |\n",
       "|  Yeezy                                        | Adidas-Yeezy-Boost-350-V2-Zebra               |  9.0                                          | 2017-02-25                                    |  55                                           | 220                                           | 2017-09-01                                    | 243                                           |  589                                          | New York                                      | 0                                             | 1                                             | 0                                             |\n",
       "|  Yeezy                                        | Adidas-Yeezy-Boost-350-V2-Zebra               |  5.5                                          | 2017-02-25                                    |  55                                           | 220                                           | 2017-09-01                                    | 243                                           |  850                                          | Michigan                                      | 0                                             | 1                                             | 0                                             |\n",
       "|  Yeezy                                        | Adidas-Yeezy-Boost-350-V2-Zebra               |  9.0                                          | 2017-02-25                                    |  55                                           | 220                                           | 2017-09-01                                    | 243                                           |  546                                          | Florida                                       | 0                                             | 1                                             | 0                                             |\n",
       "|  Yeezy                                        | Adidas-Yeezy-Boost-350-V2-Zebra               |  9.5                                          | 2017-02-25                                    |  55                                           | 220                                           | 2017-09-01                                    | 243                                           |  586                                          | Oregon                                        | 0                                             | 1                                             | 0                                             |\n",
       "|  Yeezy                                        | Adidas-Yeezy-Boost-350-V2-Zebra               | 14.0                                          | 2017-02-25                                    |  55                                           | 220                                           | 2017-09-01                                    | 243                                           |  640                                          | California                                    | 0                                             | 1                                             | 0                                             |\n",
       "|  Yeezy                                        | Adidas-Yeezy-Boost-350-Low-V2-Beluga          |  8.0                                          | 2016-09-24                                    | 267                                           | 220                                           | 2017-09-02                                    | 244                                           |  850                                          | Alabama                                       | 0                                             | 1                                             | 0                                             |\n",
       "|  Yeezy                                        | Adidas-Yeezy-Boost-350-V2-Core-Black-Red      | 11.0                                          | 2016-11-23                                    | 327                                           | 220                                           | 2017-09-02                                    | 244                                           |  999                                          | Kentucky                                      | 0                                             | 1                                             | 0                                             |\n",
       "|  Yeezy                                        | Adidas-Yeezy-Boost-350-V2-Core-Black-Red-2017 |  9.0                                          | 2017-02-11                                    |  41                                           | 220                                           | 2017-09-02                                    | 244                                           |  740                                          | New York                                      | 0                                             | 1                                             | 0                                             |\n",
       "|  Yeezy                                        | Adidas-Yeezy-Boost-350-V2-Core-Black-Red-2017 |  8.0                                          | 2017-02-11                                    |  41                                           | 220                                           | 2017-09-02                                    | 244                                           |  765                                          | New York                                      | 0                                             | 1                                             | 0                                             |\n",
       "|  Yeezy                                        | Adidas-Yeezy-Boost-350-V2-Core-Black-White    | 11.5                                          | 2016-12-17                                    | 351                                           | 220                                           | 2017-09-02                                    | 244                                           |  800                                          | Kentucky                                      | 0                                             | 1                                             | 0                                             |\n",
       "|  Yeezy                                        | Adidas-Yeezy-Boost-350-V2-Cream-White         | 10.5                                          | 2017-04-29                                    | 118                                           | 220                                           | 2017-09-02                                    | 244                                           |  470                                          | California                                    | 0                                             | 1                                             | 0                                             |\n",
       "|  Yeezy                                        | Adidas-Yeezy-Boost-350-V2-Cream-White         |  8.5                                          | 2017-04-29                                    | 118                                           | 220                                           | 2017-09-02                                    | 244                                           |  455                                          | Oregon                                        | 0                                             | 1                                             | 0                                             |\n",
       "| ... | ... | ... | ... | ... | ... | ... | ... | ... | ... | ... | ... | ... |\n",
       "|  Yeezy                                      | adidas-Yeezy-Boost-350-V2-Static            | 10.0                                        | 2018-12-27                                  | 360                                         | 220                                         | 2019-02-13                                  | 43                                          | 330                                         | Oregon                                      | 0                                           | 1                                           | 0                                           |\n",
       "|  Yeezy                                      | adidas-Yeezy-Boost-350-V2-Static            |  5.0                                        | 2018-12-27                                  | 360                                         | 220                                         | 2019-02-13                                  | 43                                          | 354                                         | Pennsylvania                                | 0                                           | 1                                           | 0                                           |\n",
       "|  Yeezy                                      | adidas-Yeezy-Boost-350-V2-Static            | 11.5                                        | 2018-12-27                                  | 360                                         | 220                                         | 2019-02-13                                  | 43                                          | 300                                         | New York                                    | 0                                           | 1                                           | 0                                           |\n",
       "|  Yeezy                                      | adidas-Yeezy-Boost-350-V2-Static            |  6.0                                        | 2018-12-27                                  | 360                                         | 220                                         | 2019-02-13                                  | 43                                          | 360                                         | California                                  | 0                                           | 1                                           | 0                                           |\n",
       "|  Yeezy                                      | adidas-Yeezy-Boost-350-V2-Static            |  4.0                                        | 2018-12-27                                  | 360                                         | 220                                         | 2019-02-13                                  | 43                                          | 339                                         | Oregon                                      | 0                                           | 1                                           | 0                                           |\n",
       "|  Yeezy                                      | adidas-Yeezy-Boost-350-V2-Static            |  8.5                                        | 2018-12-27                                  | 360                                         | 220                                         | 2019-02-13                                  | 43                                          | 344                                         | Oregon                                      | 0                                           | 1                                           | 0                                           |\n",
       "|  Yeezy                                      | adidas-Yeezy-Boost-350-V2-Static            |  7.5                                        | 2018-12-27                                  | 360                                         | 220                                         | 2019-02-13                                  | 43                                          | 340                                         | Oregon                                      | 0                                           | 1                                           | 0                                           |\n",
       "|  Yeezy                                      | adidas-Yeezy-Boost-350-V2-Static            | 10.0                                        | 2018-12-27                                  | 360                                         | 220                                         | 2019-02-13                                  | 43                                          | 325                                         | Oregon                                      | 0                                           | 1                                           | 0                                           |\n",
       "|  Yeezy                                      | adidas-Yeezy-Boost-350-V2-Static            |  9.5                                        | 2018-12-27                                  | 360                                         | 220                                         | 2019-02-13                                  | 43                                          | 350                                         | California                                  | 0                                           | 1                                           | 0                                           |\n",
       "|  Yeezy                                      | adidas-Yeezy-Boost-350-V2-Static            | 13.0                                        | 2018-12-27                                  | 360                                         | 220                                         | 2019-02-13                                  | 43                                          | 259                                         | Illinois                                    | 0                                           | 1                                           | 0                                           |\n",
       "|  Yeezy                                      | adidas-Yeezy-Boost-350-V2-Static            | 12.0                                        | 2018-12-27                                  | 360                                         | 220                                         | 2019-02-13                                  | 43                                          | 284                                         | New York                                    | 0                                           | 1                                           | 0                                           |\n",
       "|  Yeezy                                      | adidas-Yeezy-Boost-350-V2-Static            |  9.0                                        | 2018-12-27                                  | 360                                         | 220                                         | 2019-02-13                                  | 43                                          | 345                                         | Oregon                                      | 0                                           | 1                                           | 0                                           |\n",
       "|  Yeezy                                      | adidas-Yeezy-Boost-350-V2-Static            |  5.0                                        | 2018-12-27                                  | 360                                         | 220                                         | 2019-02-13                                  | 43                                          | 350                                         | California                                  | 0                                           | 1                                           | 0                                           |\n",
       "|  Yeezy                                      | adidas-Yeezy-Boost-350-V2-Static-Reflective | 11.0                                        | 2018-12-26                                  | 359                                         | 220                                         | 2019-02-13                                  | 43                                          | 700                                         | California                                  | 0                                           | 1                                           | 0                                           |\n",
       "|  Yeezy                                      | adidas-Yeezy-Boost-350-V2-Static-Reflective |  6.5                                        | 2018-12-26                                  | 359                                         | 220                                         | 2019-02-13                                  | 43                                          | 676                                         | California                                  | 0                                           | 1                                           | 0                                           |\n",
       "|  Yeezy                                      | adidas-Yeezy-Boost-350-V2-Static-Reflective |  8.5                                        | 2018-12-26                                  | 359                                         | 220                                         | 2019-02-13                                  | 43                                          | 573                                         | Oregon                                      | 0                                           | 1                                           | 0                                           |\n",
       "|  Yeezy                                      | adidas-Yeezy-Boost-350-V2-Static-Reflective | 12.0                                        | 2018-12-26                                  | 359                                         | 220                                         | 2019-02-13                                  | 43                                          | 480                                         | Alabama                                     | 0                                           | 1                                           | 0                                           |\n",
       "|  Yeezy                                      | adidas-Yeezy-Boost-350-V2-Static-Reflective |  5.5                                        | 2018-12-26                                  | 359                                         | 220                                         | 2019-02-13                                  | 43                                          | 600                                         | Oregon                                      | 0                                           | 1                                           | 0                                           |\n",
       "|  Yeezy                                      | adidas-Yeezy-Boost-350-V2-Static-Reflective | 14.0                                        | 2018-12-26                                  | 359                                         | 220                                         | 2019-02-13                                  | 43                                          | 335                                         | California                                  | 0                                           | 1                                           | 0                                           |\n",
       "|  Yeezy                                      | adidas-Yeezy-Boost-350-V2-Static-Reflective | 11.0                                        | 2018-12-26                                  | 359                                         | 220                                         | 2019-02-13                                  | 43                                          | 699                                         | California                                  | 0                                           | 1                                           | 0                                           |\n",
       "|  Yeezy                                      | adidas-Yeezy-Boost-350-V2-Static-Reflective | 11.0                                        | 2018-12-26                                  | 359                                         | 220                                         | 2019-02-13                                  | 43                                          | 699                                         | New Jersey                                  | 0                                           | 1                                           | 0                                           |\n",
       "|  Yeezy                                      | adidas-Yeezy-Boost-350-V2-Static-Reflective |  9.5                                        | 2018-12-26                                  | 359                                         | 220                                         | 2019-02-13                                  | 43                                          | 618                                         | California                                  | 0                                           | 1                                           | 0                                           |\n",
       "|  Yeezy                                      | adidas-Yeezy-Boost-350-V2-Static-Reflective |  9.0                                        | 2018-12-26                                  | 359                                         | 220                                         | 2019-02-13                                  | 43                                          | 581                                         | Oregon                                      | 0                                           | 1                                           | 0                                           |\n",
       "|  Yeezy                                      | adidas-Yeezy-Boost-350-V2-Static-Reflective |  8.5                                        | 2018-12-26                                  | 359                                         | 220                                         | 2019-02-13                                  | 43                                          | 594                                         | Oregon                                      | 0                                           | 1                                           | 0                                           |\n",
       "|  Yeezy                                      | adidas-Yeezy-Boost-350-V2-Static-Reflective | 10.0                                        | 2018-12-26                                  | 359                                         | 220                                         | 2019-02-13                                  | 43                                          | 582                                         | New Jersey                                  | 0                                           | 1                                           | 0                                           |\n",
       "|  Yeezy                                      | adidas-Yeezy-Boost-350-V2-Static-Reflective |  8.0                                        | 2018-12-26                                  | 359                                         | 220                                         | 2019-02-13                                  | 43                                          | 565                                         | Oregon                                      | 0                                           | 1                                           | 0                                           |\n",
       "|  Yeezy                                      | adidas-Yeezy-Boost-350-V2-Static-Reflective |  8.5                                        | 2018-12-26                                  | 359                                         | 220                                         | 2019-02-13                                  | 43                                          | 598                                         | California                                  | 0                                           | 1                                           | 0                                           |\n",
       "|  Yeezy                                      | adidas-Yeezy-Boost-350-V2-Static-Reflective |  5.5                                        | 2018-12-26                                  | 359                                         | 220                                         | 2019-02-13                                  | 43                                          | 605                                         | New York                                    | 0                                           | 1                                           | 0                                           |\n",
       "|  Yeezy                                      | adidas-Yeezy-Boost-350-V2-Static-Reflective | 11.0                                        | 2018-12-26                                  | 359                                         | 220                                         | 2019-02-13                                  | 43                                          | 650                                         | California                                  | 0                                           | 1                                           | 0                                           |\n",
       "|  Yeezy                                      | adidas-Yeezy-Boost-350-V2-Static-Reflective | 11.5                                        | 2018-12-26                                  | 359                                         | 220                                         | 2019-02-13                                  | 43                                          | 640                                         | Texas                                       | 0                                           | 1                                           | 0                                           |\n",
       "\n"
      ],
      "text/plain": [
       "      Brand  Sneaker_Name                                  Shoe_Size\n",
       "1      Yeezy Adidas-Yeezy-Boost-350-Low-V2-Beluga          11.0     \n",
       "2      Yeezy Adidas-Yeezy-Boost-350-V2-Core-Black-Copper   11.0     \n",
       "3      Yeezy Adidas-Yeezy-Boost-350-V2-Core-Black-Green    11.0     \n",
       "4      Yeezy Adidas-Yeezy-Boost-350-V2-Core-Black-Red      11.5     \n",
       "5      Yeezy Adidas-Yeezy-Boost-350-V2-Core-Black-Red-2017 11.0     \n",
       "6      Yeezy Adidas-Yeezy-Boost-350-V2-Core-Black-Red-2017  8.5     \n",
       "7      Yeezy Adidas-Yeezy-Boost-350-V2-Core-Black-White    11.0     \n",
       "8      Yeezy Adidas-Yeezy-Boost-350-V2-Cream-White         10.0     \n",
       "9      Yeezy Adidas-Yeezy-Boost-350-V2-Cream-White         11.0     \n",
       "10     Yeezy Adidas-Yeezy-Boost-350-V2-Cream-White         11.0     \n",
       "11     Yeezy Adidas-Yeezy-Boost-350-V2-Cream-White         11.5     \n",
       "12     Yeezy Adidas-Yeezy-Boost-350-V2-Cream-White         10.0     \n",
       "13     Yeezy Adidas-Yeezy-Boost-350-V2-Cream-White          9.0     \n",
       "14     Yeezy Adidas-Yeezy-Boost-350-V2-Zebra               14.0     \n",
       "15     Yeezy Adidas-Yeezy-Boost-350-V2-Zebra                8.0     \n",
       "16     Yeezy Adidas-Yeezy-Boost-350-V2-Zebra               11.0     \n",
       "17     Yeezy Adidas-Yeezy-Boost-350-V2-Zebra               11.0     \n",
       "18     Yeezy Adidas-Yeezy-Boost-350-V2-Zebra               10.0     \n",
       "19     Yeezy Adidas-Yeezy-Boost-350-V2-Zebra                9.0     \n",
       "20     Yeezy Adidas-Yeezy-Boost-350-V2-Zebra                5.5     \n",
       "21     Yeezy Adidas-Yeezy-Boost-350-V2-Zebra                9.0     \n",
       "22     Yeezy Adidas-Yeezy-Boost-350-V2-Zebra                9.5     \n",
       "23     Yeezy Adidas-Yeezy-Boost-350-V2-Zebra               14.0     \n",
       "24     Yeezy Adidas-Yeezy-Boost-350-Low-V2-Beluga           8.0     \n",
       "25     Yeezy Adidas-Yeezy-Boost-350-V2-Core-Black-Red      11.0     \n",
       "26     Yeezy Adidas-Yeezy-Boost-350-V2-Core-Black-Red-2017  9.0     \n",
       "27     Yeezy Adidas-Yeezy-Boost-350-V2-Core-Black-Red-2017  8.0     \n",
       "28     Yeezy Adidas-Yeezy-Boost-350-V2-Core-Black-White    11.5     \n",
       "29     Yeezy Adidas-Yeezy-Boost-350-V2-Cream-White         10.5     \n",
       "30     Yeezy Adidas-Yeezy-Boost-350-V2-Cream-White          8.5     \n",
       "...   ...    ...                                           ...      \n",
       "99927  Yeezy adidas-Yeezy-Boost-350-V2-Static              10.0     \n",
       "99928  Yeezy adidas-Yeezy-Boost-350-V2-Static               5.0     \n",
       "99929  Yeezy adidas-Yeezy-Boost-350-V2-Static              11.5     \n",
       "99930  Yeezy adidas-Yeezy-Boost-350-V2-Static               6.0     \n",
       "99931  Yeezy adidas-Yeezy-Boost-350-V2-Static               4.0     \n",
       "99932  Yeezy adidas-Yeezy-Boost-350-V2-Static               8.5     \n",
       "99933  Yeezy adidas-Yeezy-Boost-350-V2-Static               7.5     \n",
       "99934  Yeezy adidas-Yeezy-Boost-350-V2-Static              10.0     \n",
       "99935  Yeezy adidas-Yeezy-Boost-350-V2-Static               9.5     \n",
       "99936  Yeezy adidas-Yeezy-Boost-350-V2-Static              13.0     \n",
       "99937  Yeezy adidas-Yeezy-Boost-350-V2-Static              12.0     \n",
       "99938  Yeezy adidas-Yeezy-Boost-350-V2-Static               9.0     \n",
       "99939  Yeezy adidas-Yeezy-Boost-350-V2-Static               5.0     \n",
       "99940  Yeezy adidas-Yeezy-Boost-350-V2-Static-Reflective   11.0     \n",
       "99941  Yeezy adidas-Yeezy-Boost-350-V2-Static-Reflective    6.5     \n",
       "99942  Yeezy adidas-Yeezy-Boost-350-V2-Static-Reflective    8.5     \n",
       "99943  Yeezy adidas-Yeezy-Boost-350-V2-Static-Reflective   12.0     \n",
       "99944  Yeezy adidas-Yeezy-Boost-350-V2-Static-Reflective    5.5     \n",
       "99945  Yeezy adidas-Yeezy-Boost-350-V2-Static-Reflective   14.0     \n",
       "99946  Yeezy adidas-Yeezy-Boost-350-V2-Static-Reflective   11.0     \n",
       "99947  Yeezy adidas-Yeezy-Boost-350-V2-Static-Reflective   11.0     \n",
       "99948  Yeezy adidas-Yeezy-Boost-350-V2-Static-Reflective    9.5     \n",
       "99949  Yeezy adidas-Yeezy-Boost-350-V2-Static-Reflective    9.0     \n",
       "99950  Yeezy adidas-Yeezy-Boost-350-V2-Static-Reflective    8.5     \n",
       "99951  Yeezy adidas-Yeezy-Boost-350-V2-Static-Reflective   10.0     \n",
       "99952  Yeezy adidas-Yeezy-Boost-350-V2-Static-Reflective    8.0     \n",
       "99953  Yeezy adidas-Yeezy-Boost-350-V2-Static-Reflective    8.5     \n",
       "99954  Yeezy adidas-Yeezy-Boost-350-V2-Static-Reflective    5.5     \n",
       "99955  Yeezy adidas-Yeezy-Boost-350-V2-Static-Reflective   11.0     \n",
       "99956  Yeezy adidas-Yeezy-Boost-350-V2-Static-Reflective   11.5     \n",
       "      Release_Date day_Release Retail_Price Order_Date day_Order Sale_Price\n",
       "1     2016-09-24   267         220          2017-09-01 243       1097      \n",
       "2     2016-11-23   327         220          2017-09-01 243        685      \n",
       "3     2016-11-23   327         220          2017-09-01 243        690      \n",
       "4     2016-11-23   327         220          2017-09-01 243       1075      \n",
       "5     2017-02-11    41         220          2017-09-01 243        828      \n",
       "6     2017-02-11    41         220          2017-09-01 243        798      \n",
       "7     2016-12-17   351         220          2017-09-01 243        784      \n",
       "8     2017-04-29   118         220          2017-09-01 243        460      \n",
       "9     2017-04-29   118         220          2017-09-01 243        465      \n",
       "10    2017-04-29   118         220          2017-09-01 243        465      \n",
       "11    2017-04-29   118         220          2017-09-01 243        515      \n",
       "12    2017-04-29   118         220          2017-09-01 243        473      \n",
       "13    2017-04-29   118         220          2017-09-01 243        460      \n",
       "14    2017-02-25    55         220          2017-09-01 243        570      \n",
       "15    2017-02-25    55         220          2017-09-01 243        525      \n",
       "16    2017-02-25    55         220          2017-09-01 243        658      \n",
       "17    2017-02-25    55         220          2017-09-01 243        650      \n",
       "18    2017-02-25    55         220          2017-09-01 243        610      \n",
       "19    2017-02-25    55         220          2017-09-01 243        589      \n",
       "20    2017-02-25    55         220          2017-09-01 243        850      \n",
       "21    2017-02-25    55         220          2017-09-01 243        546      \n",
       "22    2017-02-25    55         220          2017-09-01 243        586      \n",
       "23    2017-02-25    55         220          2017-09-01 243        640      \n",
       "24    2016-09-24   267         220          2017-09-02 244        850      \n",
       "25    2016-11-23   327         220          2017-09-02 244        999      \n",
       "26    2017-02-11    41         220          2017-09-02 244        740      \n",
       "27    2017-02-11    41         220          2017-09-02 244        765      \n",
       "28    2016-12-17   351         220          2017-09-02 244        800      \n",
       "29    2017-04-29   118         220          2017-09-02 244        470      \n",
       "30    2017-04-29   118         220          2017-09-02 244        455      \n",
       "...   ...          ...         ...          ...        ...       ...       \n",
       "99927 2018-12-27   360         220          2019-02-13 43        330       \n",
       "99928 2018-12-27   360         220          2019-02-13 43        354       \n",
       "99929 2018-12-27   360         220          2019-02-13 43        300       \n",
       "99930 2018-12-27   360         220          2019-02-13 43        360       \n",
       "99931 2018-12-27   360         220          2019-02-13 43        339       \n",
       "99932 2018-12-27   360         220          2019-02-13 43        344       \n",
       "99933 2018-12-27   360         220          2019-02-13 43        340       \n",
       "99934 2018-12-27   360         220          2019-02-13 43        325       \n",
       "99935 2018-12-27   360         220          2019-02-13 43        350       \n",
       "99936 2018-12-27   360         220          2019-02-13 43        259       \n",
       "99937 2018-12-27   360         220          2019-02-13 43        284       \n",
       "99938 2018-12-27   360         220          2019-02-13 43        345       \n",
       "99939 2018-12-27   360         220          2019-02-13 43        350       \n",
       "99940 2018-12-26   359         220          2019-02-13 43        700       \n",
       "99941 2018-12-26   359         220          2019-02-13 43        676       \n",
       "99942 2018-12-26   359         220          2019-02-13 43        573       \n",
       "99943 2018-12-26   359         220          2019-02-13 43        480       \n",
       "99944 2018-12-26   359         220          2019-02-13 43        600       \n",
       "99945 2018-12-26   359         220          2019-02-13 43        335       \n",
       "99946 2018-12-26   359         220          2019-02-13 43        699       \n",
       "99947 2018-12-26   359         220          2019-02-13 43        699       \n",
       "99948 2018-12-26   359         220          2019-02-13 43        618       \n",
       "99949 2018-12-26   359         220          2019-02-13 43        581       \n",
       "99950 2018-12-26   359         220          2019-02-13 43        594       \n",
       "99951 2018-12-26   359         220          2019-02-13 43        582       \n",
       "99952 2018-12-26   359         220          2019-02-13 43        565       \n",
       "99953 2018-12-26   359         220          2019-02-13 43        598       \n",
       "99954 2018-12-26   359         220          2019-02-13 43        605       \n",
       "99955 2018-12-26   359         220          2019-02-13 43        650       \n",
       "99956 2018-12-26   359         220          2019-02-13 43        640       \n",
       "      Buyer_Region   Bought_for_Less_Than_Retail Bought_more_Than_Retail\n",
       "1     California     0                           1                      \n",
       "2     California     0                           1                      \n",
       "3     California     0                           1                      \n",
       "4     Kentucky       0                           1                      \n",
       "5     Rhode Island   0                           1                      \n",
       "6     Michigan       0                           1                      \n",
       "7     California     0                           1                      \n",
       "8     New York       0                           1                      \n",
       "9     Kansas         0                           1                      \n",
       "10    Florida        0                           1                      \n",
       "11    New Jersey     0                           1                      \n",
       "12    Texas          0                           1                      \n",
       "13    Florida        0                           1                      \n",
       "14    Michigan       0                           1                      \n",
       "15    New York       0                           1                      \n",
       "16    California     0                           1                      \n",
       "17    North Carolina 0                           1                      \n",
       "18    New Jersey     0                           1                      \n",
       "19    New York       0                           1                      \n",
       "20    Michigan       0                           1                      \n",
       "21    Florida        0                           1                      \n",
       "22    Oregon         0                           1                      \n",
       "23    California     0                           1                      \n",
       "24    Alabama        0                           1                      \n",
       "25    Kentucky       0                           1                      \n",
       "26    New York       0                           1                      \n",
       "27    New York       0                           1                      \n",
       "28    Kentucky       0                           1                      \n",
       "29    California     0                           1                      \n",
       "30    Oregon         0                           1                      \n",
       "...   ...            ...                         ...                    \n",
       "99927 Oregon         0                           1                      \n",
       "99928 Pennsylvania   0                           1                      \n",
       "99929 New York       0                           1                      \n",
       "99930 California     0                           1                      \n",
       "99931 Oregon         0                           1                      \n",
       "99932 Oregon         0                           1                      \n",
       "99933 Oregon         0                           1                      \n",
       "99934 Oregon         0                           1                      \n",
       "99935 California     0                           1                      \n",
       "99936 Illinois       0                           1                      \n",
       "99937 New York       0                           1                      \n",
       "99938 Oregon         0                           1                      \n",
       "99939 California     0                           1                      \n",
       "99940 California     0                           1                      \n",
       "99941 California     0                           1                      \n",
       "99942 Oregon         0                           1                      \n",
       "99943 Alabama        0                           1                      \n",
       "99944 Oregon         0                           1                      \n",
       "99945 California     0                           1                      \n",
       "99946 California     0                           1                      \n",
       "99947 New Jersey     0                           1                      \n",
       "99948 California     0                           1                      \n",
       "99949 Oregon         0                           1                      \n",
       "99950 Oregon         0                           1                      \n",
       "99951 New Jersey     0                           1                      \n",
       "99952 Oregon         0                           1                      \n",
       "99953 California     0                           1                      \n",
       "99954 New York       0                           1                      \n",
       "99955 California     0                           1                      \n",
       "99956 Texas          0                           1                      \n",
       "      Bought_at_Retail\n",
       "1     0               \n",
       "2     0               \n",
       "3     0               \n",
       "4     0               \n",
       "5     0               \n",
       "6     0               \n",
       "7     0               \n",
       "8     0               \n",
       "9     0               \n",
       "10    0               \n",
       "11    0               \n",
       "12    0               \n",
       "13    0               \n",
       "14    0               \n",
       "15    0               \n",
       "16    0               \n",
       "17    0               \n",
       "18    0               \n",
       "19    0               \n",
       "20    0               \n",
       "21    0               \n",
       "22    0               \n",
       "23    0               \n",
       "24    0               \n",
       "25    0               \n",
       "26    0               \n",
       "27    0               \n",
       "28    0               \n",
       "29    0               \n",
       "30    0               \n",
       "...   ...             \n",
       "99927 0               \n",
       "99928 0               \n",
       "99929 0               \n",
       "99930 0               \n",
       "99931 0               \n",
       "99932 0               \n",
       "99933 0               \n",
       "99934 0               \n",
       "99935 0               \n",
       "99936 0               \n",
       "99937 0               \n",
       "99938 0               \n",
       "99939 0               \n",
       "99940 0               \n",
       "99941 0               \n",
       "99942 0               \n",
       "99943 0               \n",
       "99944 0               \n",
       "99945 0               \n",
       "99946 0               \n",
       "99947 0               \n",
       "99948 0               \n",
       "99949 0               \n",
       "99950 0               \n",
       "99951 0               \n",
       "99952 0               \n",
       "99953 0               \n",
       "99954 0               \n",
       "99955 0               \n",
       "99956 0               "
      ]
     },
     "metadata": {},
     "output_type": "display_data"
    }
   ],
   "source": [
    "#Make a new data set from old modified data set\n",
    "NewSneaker <- data.frame(Brand,Sneaker_Name, Shoe_Size, Release_Date,day_Release, Retail_Price, Order_Date, day_Order, Sale_Price, Buyer_Region, Bought_for_Less_Than_Retail, Bought_more_Than_Retail, Bought_at_Retail)\n",
    "NewSneaker"
   ]
  },
  {
   "cell_type": "code",
   "execution_count": 11,
   "id": "2d31361e",
   "metadata": {},
   "outputs": [
    {
     "data": {
      "text/plain": [
       "       Brand                                      Sneaker_Name  \n",
       "  Yeezy   :72162   adidas-Yeezy-Boost-350-V2-Butter     :11423  \n",
       " Off-White:27794   Adidas-Yeezy-Boost-350-V2-Beluga-2pt0:10395  \n",
       "                   Adidas-Yeezy-Boost-350-V2-Zebra      :10110  \n",
       "                   Adidas-Yeezy-Boost-350-V2-Blue-Tint  : 9297  \n",
       "                   Adidas-Yeezy-Boost-350-V2-Cream-White: 9097  \n",
       "                   Adidas-Yeezy-Boost-350-V2-Sesame     : 5553  \n",
       "                   (Other)                              :44081  \n",
       "   Shoe_Size       Release_Date         day_Release     Retail_Price  \n",
       " Min.   : 3.500   Min.   :2015-06-27   Min.   : 37.0   Min.   :130.0  \n",
       " 1st Qu.: 8.000   1st Qu.:2017-09-09   1st Qu.:164.0   1st Qu.:220.0  \n",
       " Median : 9.500   Median :2017-12-16   Median :267.0   Median :220.0  \n",
       " Mean   : 9.344   Mean   :2018-02-10   Mean   :234.7   Mean   :208.6  \n",
       " 3rd Qu.:11.000   3rd Qu.:2018-08-03   3rd Qu.:328.0   3rd Qu.:220.0  \n",
       " Max.   :17.000   Max.   :2019-02-07   Max.   :362.0   Max.   :250.0  \n",
       "                                                                      \n",
       "   Order_Date           day_Order       Sale_Price         Buyer_Region  \n",
       " Min.   :2017-09-01   Min.   :  0.0   Min.   : 186.0   California:19349  \n",
       " 1st Qu.:2018-05-02   1st Qu.: 89.0   1st Qu.: 275.0   New York  :16525  \n",
       " Median :2018-09-24   Median :241.0   Median : 370.0   Oregon    : 7681  \n",
       " Mean   :2018-08-12   Mean   :213.3   Mean   : 446.6   Florida   : 6376  \n",
       " 3rd Qu.:2018-12-15   3rd Qu.:331.0   3rd Qu.: 540.0   Texas     : 5876  \n",
       " Max.   :2019-02-13   Max.   :364.0   Max.   :4050.0   New Jersey: 4720  \n",
       "                                                       (Other)   :39429  \n",
       " Bought_for_Less_Than_Retail Bought_more_Than_Retail Bought_at_Retail  \n",
       " Min.   :0.000000            Min.   :0.0000          Min.   :0.000000  \n",
       " 1st Qu.:0.000000            1st Qu.:1.0000          1st Qu.:0.000000  \n",
       " Median :0.000000            Median :1.0000          Median :0.000000  \n",
       " Mean   :0.005573            Mean   :0.9911          Mean   :0.003302  \n",
       " 3rd Qu.:0.000000            3rd Qu.:1.0000          3rd Qu.:0.000000  \n",
       " Max.   :1.000000            Max.   :1.0000          Max.   :1.000000  \n",
       "                                                                       "
      ]
     },
     "metadata": {},
     "output_type": "display_data"
    }
   ],
   "source": [
    "summary(NewSneaker) #summary of the new dataFrame"
   ]
  },
  {
   "cell_type": "markdown",
   "id": "0ac986d4",
   "metadata": {},
   "source": [
    "## visualizing "
   ]
  },
  {
   "cell_type": "code",
   "execution_count": 12,
   "id": "5f217694",
   "metadata": {},
   "outputs": [
    {
     "data": {
      "image/png": "[encoded data removed]",
      "text/plain": [
       "Plot with title \"Sneaker name vs Sale Price\""
      ]
     },
     "metadata": {},
     "output_type": "display_data"
    }
   ],
   "source": [
    "plot(Sneaker_Name, Sale_Price, bg = \"red\", col = \"blue\", main = \"Sneaker name vs Sale Price\", las = 3, cex=0.5)"
   ]
  },
  {
   "cell_type": "code",
   "execution_count": 14,
   "id": "4ce83a46",
   "metadata": {},
   "outputs": [
    {
     "data": {
      "image/png": "[encoded data removed]",
      "text/plain": [
       "Plot with title \"Region vs Sale Price\""
      ]
     },
     "metadata": {},
     "output_type": "display_data"
    }
   ],
   "source": [
    "plot(Buyer_Region, Sale_Price, pch = 21,\n",
    "     bg = \"red\",   # Fill color\n",
    "     col = \"blue\", main = \"Region vs Sale Price\", las = 3, font.axis = 2, font.lab  = .5, cex=0.5)"
   ]
  },
  {
   "cell_type": "markdown",
   "id": "092a8278",
   "metadata": {},
   "source": [
    "## split the data set"
   ]
  },
  {
   "cell_type": "code",
   "execution_count": 15,
   "id": "7f99cff6",
   "metadata": {},
   "outputs": [],
   "source": [
    "NewSneaker_02 <- data.frame(NewSneaker) #another new data frame cration to avoid misuse our old data set\n",
    "#each time a new model we would create we will make another data frame from NewSneaker data set and name it NewSneaker_n\n",
    "smp_size <- floor(0.8 * nrow(NewSneaker_02))\n",
    "set.seed(123)\n",
    "train_ind <- sample(seq_len(nrow(NewSneaker_02)), size = smp_size)\n",
    "\n",
    "train <- NewSneaker_02[train_ind, ]\n",
    "test <- NewSneaker_02[-train_ind, ]"
   ]
  },
  {
   "cell_type": "code",
   "execution_count": 16,
   "id": "d300e0a6",
   "metadata": {},
   "outputs": [
    {
     "name": "stderr",
     "output_type": "stream",
     "text": [
      "Warning message:\n",
      "\"package 'rpart' was built under R version 3.6.3\""
     ]
    }
   ],
   "source": [
    "library(rpart)\n",
    "library(rpart.plot)"
   ]
  },
  {
   "cell_type": "markdown",
   "id": "5077efc9",
   "metadata": {},
   "source": [
    "## Model#1: Make a Decision tree"
   ]
  },
  {
   "cell_type": "code",
   "execution_count": 17,
   "id": "424e3861",
   "metadata": {},
   "outputs": [
    {
     "data": {
      "text/html": [
       "<ol class=list-inline>\n",
       "\t<li>'Brand'</li>\n",
       "\t<li>'Sneaker_Name'</li>\n",
       "\t<li>'Shoe_Size'</li>\n",
       "\t<li>'Release_Date'</li>\n",
       "\t<li>'day_Release'</li>\n",
       "\t<li>'Retail_Price'</li>\n",
       "\t<li>'Order_Date'</li>\n",
       "\t<li>'day_Order'</li>\n",
       "\t<li>'Sale_Price'</li>\n",
       "\t<li>'Buyer_Region'</li>\n",
       "\t<li>'Bought_for_Less_Than_Retail'</li>\n",
       "\t<li>'Bought_more_Than_Retail'</li>\n",
       "\t<li>'Bought_at_Retail'</li>\n",
       "</ol>\n"
      ],
      "text/latex": [
       "\\begin{enumerate*}\n",
       "\\item 'Brand'\n",
       "\\item 'Sneaker\\_Name'\n",
       "\\item 'Shoe\\_Size'\n",
       "\\item 'Release\\_Date'\n",
       "\\item 'day\\_Release'\n",
       "\\item 'Retail\\_Price'\n",
       "\\item 'Order\\_Date'\n",
       "\\item 'day\\_Order'\n",
       "\\item 'Sale\\_Price'\n",
       "\\item 'Buyer\\_Region'\n",
       "\\item 'Bought\\_for\\_Less\\_Than\\_Retail'\n",
       "\\item 'Bought\\_more\\_Than\\_Retail'\n",
       "\\item 'Bought\\_at\\_Retail'\n",
       "\\end{enumerate*}\n"
      ],
      "text/markdown": [
       "1. 'Brand'\n",
       "2. 'Sneaker_Name'\n",
       "3. 'Shoe_Size'\n",
       "4. 'Release_Date'\n",
       "5. 'day_Release'\n",
       "6. 'Retail_Price'\n",
       "7. 'Order_Date'\n",
       "8. 'day_Order'\n",
       "9. 'Sale_Price'\n",
       "10. 'Buyer_Region'\n",
       "11. 'Bought_for_Less_Than_Retail'\n",
       "12. 'Bought_more_Than_Retail'\n",
       "13. 'Bought_at_Retail'\n",
       "\n",
       "\n"
      ],
      "text/plain": [
       " [1] \"Brand\"                       \"Sneaker_Name\"               \n",
       " [3] \"Shoe_Size\"                   \"Release_Date\"               \n",
       " [5] \"day_Release\"                 \"Retail_Price\"               \n",
       " [7] \"Order_Date\"                  \"day_Order\"                  \n",
       " [9] \"Sale_Price\"                  \"Buyer_Region\"               \n",
       "[11] \"Bought_for_Less_Than_Retail\" \"Bought_more_Than_Retail\"    \n",
       "[13] \"Bought_at_Retail\"           "
      ]
     },
     "metadata": {},
     "output_type": "display_data"
    }
   ],
   "source": [
    "names(NewSneaker_02)"
   ]
  },
  {
   "cell_type": "code",
   "execution_count": 18,
   "id": "517e9fc0",
   "metadata": {
    "scrolled": false
   },
   "outputs": [
    {
     "data": {
      "text/plain": [
       "n= 79964 \n",
       "\n",
       "node), split, n, deviance, yval\n",
       "      * denotes terminal node\n",
       "\n",
       "  1) root 79964 5269570000  447.0399  \n",
       "    2) Sneaker_Name=Adidas-Yeezy-Boost-350-V2-Beluga-2pt0,Adidas-Yeezy-Boost-350-V2-Blue-Tint,adidas-Yeezy-Boost-350-V2-Butter,Adidas-Yeezy-Boost-350-V2-Cream-White,Adidas-Yeezy-Boost-350-V2-Semi-Frozen-Yellow,Adidas-Yeezy-Boost-350-V2-Sesame,adidas-Yeezy-Boost-350-V2-Static,adidas-Yeezy-Boost-350-V2-Static-Reflective,Adidas-Yeezy-Boost-350-V2-Zebra,Nike-Air-Force-1-Low-Off-White-Black-White,Nike-Air-Force-1-Low-Off-White-Volt,Nike-Air-Max-90-Off-White-Black,Nike-Air-Max-90-Off-White-Desert-Ore,Nike-Blazer-Mid-Off-White-Grim-Reaper,Nike-React-Hyperdunk-2017-Flyknit-Off-White,Nike-Zoom-Fly-Mercurial-Off-White-Black,Nike-Zoom-Fly-Mercurial-Off-White-Total-Orange,Nike-Zoom-Fly-Off-White,Nike-Zoom-Fly-Off-White-Black-Silver,Nike-Zoom-Fly-Off-White-Pink 62677  711569600  348.5421  \n",
       "      4) Sneaker_Name=adidas-Yeezy-Boost-350-V2-Butter,Adidas-Yeezy-Boost-350-V2-Cream-White,Adidas-Yeezy-Boost-350-V2-Sesame,adidas-Yeezy-Boost-350-V2-Static,Nike-Zoom-Fly-Mercurial-Off-White-Total-Orange,Nike-Zoom-Fly-Off-White-Black-Silver,Nike-Zoom-Fly-Off-White-Pink 27351   70339680  278.5519 *\n",
       "      5) Sneaker_Name=Adidas-Yeezy-Boost-350-V2-Beluga-2pt0,Adidas-Yeezy-Boost-350-V2-Blue-Tint,Adidas-Yeezy-Boost-350-V2-Semi-Frozen-Yellow,adidas-Yeezy-Boost-350-V2-Static-Reflective,Adidas-Yeezy-Boost-350-V2-Zebra,Nike-Air-Force-1-Low-Off-White-Black-White,Nike-Air-Force-1-Low-Off-White-Volt,Nike-Air-Max-90-Off-White-Black,Nike-Air-Max-90-Off-White-Desert-Ore,Nike-Blazer-Mid-Off-White-Grim-Reaper,Nike-React-Hyperdunk-2017-Flyknit-Off-White,Nike-Zoom-Fly-Mercurial-Off-White-Black,Nike-Zoom-Fly-Off-White 35326  403511700  402.7318  \n",
       "       10) Sneaker_Name=Adidas-Yeezy-Boost-350-V2-Beluga-2pt0,Adidas-Yeezy-Boost-350-V2-Blue-Tint,Adidas-Yeezy-Boost-350-V2-Semi-Frozen-Yellow,Adidas-Yeezy-Boost-350-V2-Zebra,Nike-Air-Force-1-Low-Off-White-Volt,Nike-Zoom-Fly-Mercurial-Off-White-Black 29054  273604100  381.2340  \n",
       "         20) day_Order>=300.5 15233  164969200  362.5577  \n",
       "           40) day_Release< 242.5 5459   29573960  314.1368 *\n",
       "           41) day_Release>=242.5 9774  115447600  389.6019  \n",
       "             82) day_Order>=331.5 7815   52923920  367.0672 *\n",
       "             83) day_Order< 331.5 1959   42723380  479.4992  \n",
       "              166) day_Release>=324.5 1586    5254917  428.0776 *\n",
       "              167) day_Release< 324.5 373   15443190  698.1448 *\n",
       "         21) day_Order< 300.5 13821   97465460  401.8182  \n",
       "           42) day_Order< 43.5 5505   34962660  360.4329 *\n",
       "           43) day_Order>=43.5 8316   46832550  429.2144  \n",
       "             86) Sneaker_Name=Adidas-Yeezy-Boost-350-V2-Beluga-2pt0,Adidas-Yeezy-Boost-350-V2-Blue-Tint,Nike-Zoom-Fly-Mercurial-Off-White-Black 5991    8421569  399.6565 *\n",
       "             87) Sneaker_Name=Adidas-Yeezy-Boost-350-V2-Semi-Frozen-Yellow,Adidas-Yeezy-Boost-350-V2-Zebra 2325   19689560  505.3785 *\n",
       "       11) Sneaker_Name=adidas-Yeezy-Boost-350-V2-Static-Reflective,Nike-Air-Force-1-Low-Off-White-Black-White,Nike-Air-Max-90-Off-White-Black,Nike-Air-Max-90-Off-White-Desert-Ore,Nike-Blazer-Mid-Off-White-Grim-Reaper,Nike-React-Hyperdunk-2017-Flyknit-Off-White,Nike-Zoom-Fly-Off-White 6272   54279420  502.3170  \n",
       "         22) day_Order< 14.5 1526    7138944  446.2896 *\n",
       "         23) day_Order>=14.5 4746   40810050  520.3316 *\n",
       "    3) Sneaker_Name=Adidas-Yeezy-Boost-350-Low-Moonrock,Adidas-Yeezy-Boost-350-Low-Oxford-Tan,Adidas-Yeezy-Boost-350-Low-Pirate-Black-2015,Adidas-Yeezy-Boost-350-Low-Pirate-Black-2016,Adidas-Yeezy-Boost-350-Low-Turtledove,Adidas-Yeezy-Boost-350-Low-V2-Beluga,Adidas-Yeezy-Boost-350-V2-Core-Black-Copper,Adidas-Yeezy-Boost-350-V2-Core-Black-Green,Adidas-Yeezy-Boost-350-V2-Core-Black-Red,Adidas-Yeezy-Boost-350-V2-Core-Black-Red-2017,Adidas-Yeezy-Boost-350-V2-Core-Black-White,Air-Jordan-1-Retro-High-Off-White-Chicago,Air-Jordan-1-Retro-High-Off-White-University-Blue,Air-Jordan-1-Retro-High-Off-White-White,Nike-Air-Force-1-Low-Off-White,Nike-Air-Force-1-Low-Virgil-Abloh-Off-White-AF100,Nike-Air-Max-90-Off-White,Nike-Air-Max-97-Off-White,Nike-Air-Max-97-Off-White-Black,Nike-Air-Max-97-Off-White-Elemental-Rose-Queen,Nike-Air-Max-97-Off-White-Menta,Nike-Air-Presto-Off-White,Nike-Air-Presto-Off-White-Black-2018,Nike-Air-Presto-Off-White-White-2018,Nike-Air-VaporMax-Off-White,Nike-Air-VaporMax-Off-White-2018,Nike-Air-VaporMax-Off-White-Black,Nike-Blazer-Mid-Off-White,Nike-Blazer-Mid-Off-White-All-Hallows-Eve,Nike-Blazer-Mid-Off-White-Wolf-Grey 17287 1745222000  804.1604  \n",
       "      6) Sneaker_Name=Adidas-Yeezy-Boost-350-Low-Moonrock,Adidas-Yeezy-Boost-350-Low-Oxford-Tan,Adidas-Yeezy-Boost-350-Low-Pirate-Black-2015,Adidas-Yeezy-Boost-350-Low-Pirate-Black-2016,Adidas-Yeezy-Boost-350-Low-V2-Beluga,Adidas-Yeezy-Boost-350-V2-Core-Black-Copper,Adidas-Yeezy-Boost-350-V2-Core-Black-Green,Adidas-Yeezy-Boost-350-V2-Core-Black-Red,Adidas-Yeezy-Boost-350-V2-Core-Black-Red-2017,Adidas-Yeezy-Boost-350-V2-Core-Black-White,Air-Jordan-1-Retro-High-Off-White-University-Blue,Nike-Air-Force-1-Low-Off-White,Nike-Air-Force-1-Low-Virgil-Abloh-Off-White-AF100,Nike-Air-Max-90-Off-White,Nike-Air-Max-97-Off-White,Nike-Air-Max-97-Off-White-Black,Nike-Air-Max-97-Off-White-Elemental-Rose-Queen,Nike-Air-Max-97-Off-White-Menta,Nike-Air-Presto-Off-White-Black-2018,Nike-Air-Presto-Off-White-White-2018,Nike-Air-VaporMax-Off-White,Nike-Air-VaporMax-Off-White-2018,Nike-Air-VaporMax-Off-White-Black,Nike-Blazer-Mid-Off-White,Nike-Blazer-Mid-Off-White-All-Hallows-Eve,Nike-Blazer-Mid-Off-White-Wolf-Grey 15900  487177500  735.5542  \n",
       "       12) Sneaker_Name=Adidas-Yeezy-Boost-350-V2-Core-Black-Copper,Adidas-Yeezy-Boost-350-V2-Core-Black-Green,Adidas-Yeezy-Boost-350-V2-Core-Black-White,Nike-Air-Force-1-Low-Off-White,Nike-Air-Max-90-Off-White,Nike-Air-Max-97-Off-White,Nike-Air-Max-97-Off-White-Black,Nike-Air-Max-97-Off-White-Menta,Nike-Air-Presto-Off-White-Black-2018,Nike-Air-Presto-Off-White-White-2018,Nike-Air-VaporMax-Off-White-2018,Nike-Air-VaporMax-Off-White-Black,Nike-Blazer-Mid-Off-White,Nike-Blazer-Mid-Off-White-All-Hallows-Eve 9617  160366800  660.4100  \n",
       "         24) Sneaker_Name=Adidas-Yeezy-Boost-350-V2-Core-Black-Copper,Adidas-Yeezy-Boost-350-V2-Core-Black-Green,Nike-Air-Presto-Off-White-White-2018,Nike-Air-VaporMax-Off-White-2018,Nike-Air-VaporMax-Off-White-Black,Nike-Blazer-Mid-Off-White-All-Hallows-Eve 5353   43414970  617.7797 *\n",
       "         25) Sneaker_Name=Adidas-Yeezy-Boost-350-V2-Core-Black-White,Nike-Air-Force-1-Low-Off-White,Nike-Air-Max-90-Off-White,Nike-Air-Max-97-Off-White,Nike-Air-Max-97-Off-White-Black,Nike-Air-Max-97-Off-White-Menta,Nike-Air-Presto-Off-White-Black-2018,Nike-Blazer-Mid-Off-White 4264   95010850  713.9278  \n",
       "           50) day_Order>=311.5 1299   25757980  614.4219 *\n",
       "           51) day_Order< 311.5 2965   50755950  757.5224  \n",
       "            102) Sneaker_Name=Adidas-Yeezy-Boost-350-V2-Core-Black-White,Nike-Air-Max-97-Off-White,Nike-Air-Max-97-Off-White-Black,Nike-Air-Max-97-Off-White-Menta,Nike-Air-Presto-Off-White-Black-2018 2322   19774840  733.0603 *\n",
       "            103) Sneaker_Name=Nike-Air-Force-1-Low-Off-White,Nike-Air-Max-90-Off-White,Nike-Blazer-Mid-Off-White 643   24573970  845.8600 *\n",
       "       13) Sneaker_Name=Adidas-Yeezy-Boost-350-Low-Moonrock,Adidas-Yeezy-Boost-350-Low-Oxford-Tan,Adidas-Yeezy-Boost-350-Low-Pirate-Black-2015,Adidas-Yeezy-Boost-350-Low-Pirate-Black-2016,Adidas-Yeezy-Boost-350-Low-V2-Beluga,Adidas-Yeezy-Boost-350-V2-Core-Black-Red,Adidas-Yeezy-Boost-350-V2-Core-Black-Red-2017,Air-Jordan-1-Retro-High-Off-White-University-Blue,Nike-Air-Force-1-Low-Virgil-Abloh-Off-White-AF100,Nike-Air-Max-97-Off-White-Elemental-Rose-Queen,Nike-Air-VaporMax-Off-White,Nike-Blazer-Mid-Off-White-Wolf-Grey 6283  189387300  850.5728  \n",
       "         26) day_Order>=148.5 4804  106675700  819.8383  \n",
       "           52) Sneaker_Name=Adidas-Yeezy-Boost-350-Low-V2-Beluga,Adidas-Yeezy-Boost-350-V2-Core-Black-Red-2017,Air-Jordan-1-Retro-High-Off-White-University-Blue,Nike-Air-Force-1-Low-Virgil-Abloh-Off-White-AF100,Nike-Air-VaporMax-Off-White,Nike-Blazer-Mid-Off-White-Wolf-Grey 4289   90003520  806.4458 *\n",
       "           53) Sneaker_Name=Adidas-Yeezy-Boost-350-Low-Moonrock,Adidas-Yeezy-Boost-350-Low-Oxford-Tan,Adidas-Yeezy-Boost-350-Low-Pirate-Black-2015,Adidas-Yeezy-Boost-350-Low-Pirate-Black-2016,Adidas-Yeezy-Boost-350-V2-Core-Black-Red,Nike-Air-Max-97-Off-White-Elemental-Rose-Queen 515    9496360  931.3728 *\n",
       "         27) day_Order< 148.5 1479   63433850  950.4030  \n",
       "           54) Sneaker_Name=Adidas-Yeezy-Boost-350-Low-Pirate-Black-2015,Adidas-Yeezy-Boost-350-Low-V2-Beluga,Adidas-Yeezy-Boost-350-V2-Core-Black-Red-2017,Nike-Air-Max-97-Off-White-Elemental-Rose-Queen,Nike-Air-VaporMax-Off-White,Nike-Blazer-Mid-Off-White-Wolf-Grey 587    9010033  842.1465 *\n",
       "           55) Sneaker_Name=Adidas-Yeezy-Boost-350-Low-Moonrock,Adidas-Yeezy-Boost-350-Low-Oxford-Tan,Adidas-Yeezy-Boost-350-Low-Pirate-Black-2016,Adidas-Yeezy-Boost-350-V2-Core-Black-Red,Air-Jordan-1-Retro-High-Off-White-University-Blue,Nike-Air-Force-1-Low-Virgil-Abloh-Off-White-AF100 892   43017400 1021.6430  \n",
       "            110) day_Order< 44 293    4965591  920.8498 *\n",
       "            111) day_Order>=44 599   33619070 1070.9470  \n",
       "              222) day_Order>=144.5 320    5526226  968.5031 *\n",
       "              223) day_Order< 144.5 279   20882750 1188.4440 *\n",
       "      7) Sneaker_Name=Adidas-Yeezy-Boost-350-Low-Turtledove,Air-Jordan-1-Retro-High-Off-White-Chicago,Air-Jordan-1-Retro-High-Off-White-White,Nike-Air-Presto-Off-White 1387  325290300 1590.6340  \n",
       "       14) Sneaker_Name=Nike-Air-Presto-Off-White 473   41143540 1239.9260  \n",
       "         28) day_Order>=311.5 209    8676633 1031.1000 *\n",
       "         29) day_Order< 311.5 264   16137490 1405.2460 *\n",
       "       15) Sneaker_Name=Adidas-Yeezy-Boost-350-Low-Turtledove,Air-Jordan-1-Retro-High-Off-White-Chicago,Air-Jordan-1-Retro-High-Off-White-White 914  195862800 1772.1270  \n",
       "         30) day_Order>=311.5 277   49358520 1428.3100 *\n",
       "         31) day_Order< 311.5 637   99521360 1921.6360  \n",
       "           62) Sneaker_Name=Adidas-Yeezy-Boost-350-Low-Turtledove,Air-Jordan-1-Retro-High-Off-White-White 284   22059500 1780.5810 *\n",
       "           63) Sneaker_Name=Air-Jordan-1-Retro-High-Off-White-Chicago 353   67265180 2035.1190  \n",
       "            126) day_Order< 84.5 154   31920230 1873.1950 *\n",
       "            127) day_Order>=84.5 199   28182430 2160.4270 *"
      ]
     },
     "metadata": {},
     "output_type": "display_data"
    }
   ],
   "source": [
    "res <- rpart(Sale_Price~Sneaker_Name+day_Release+Bought_for_Less_Than_Retail+\n",
    "             Bought_more_Than_Retail+Bought_at_Retail+Buyer_Region+day_Order , data = train ,\n",
    "             control = rpart.control(minsplit = 1, minbucket = 1,cp = 0.001))\n",
    "res"
   ]
  },
  {
   "cell_type": "code",
   "execution_count": 19,
   "id": "beceb3ce",
   "metadata": {},
   "outputs": [
    {
     "name": "stderr",
     "output_type": "stream",
     "text": [
      "Warning message:\n",
      "\"labs do not fit even at cex 0.15, there may be some overplotting\""
     ]
    },
    {
     "data": {
      "image/png": "[encoded data removed]",
      "text/plain": [
       "plot without title"
      ]
     },
     "metadata": {},
     "output_type": "display_data"
    }
   ],
   "source": [
    "rpart.plot(res,type =4, fallen.leaves = T, cex =0.5)"
   ]
  },
  {
   "cell_type": "markdown",
   "id": "9b2f3427",
   "metadata": {},
   "source": [
    "## Run a prediction data set to test our model"
   ]
  },
  {
   "cell_type": "markdown",
   "id": "a3b73e6d",
   "metadata": {},
   "source": [
    "#### let's say,  based on given three factors such as sneaker name, place of buying state, and the retail price, can we predict the Sneaker sale's price? \n",
    "Here are all the value are in numric form, becuase we convert those into number from text."
   ]
  },
  {
   "cell_type": "code",
   "execution_count": 20,
   "id": "0d2db566",
   "metadata": {},
   "outputs": [
    {
     "data": {
      "text/html": [
       "<table>\n",
       "<thead><tr><th scope=col>Sneaker_Name</th><th scope=col>day_Release</th><th scope=col>Bought_for_Less_Than_Retail</th><th scope=col>Bought_more_Than_Retail</th><th scope=col>Bought_at_Retail</th><th scope=col>Buyer_Region</th><th scope=col>day_Order</th></tr></thead>\n",
       "<tbody>\n",
       "\t<tr><td>Adidas-Yeezy-Boost-350-Low-Moonrock</td><td>200                                </td><td>0                                  </td><td>1                                  </td><td>0                                  </td><td>New York                           </td><td>100                                </td></tr>\n",
       "</tbody>\n",
       "</table>\n"
      ],
      "text/latex": [
       "\\begin{tabular}{r|lllllll}\n",
       " Sneaker\\_Name & day\\_Release & Bought\\_for\\_Less\\_Than\\_Retail & Bought\\_more\\_Than\\_Retail & Bought\\_at\\_Retail & Buyer\\_Region & day\\_Order\\\\\n",
       "\\hline\n",
       "\t Adidas-Yeezy-Boost-350-Low-Moonrock & 200                                 & 0                                   & 1                                   & 0                                   & New York                            & 100                                \\\\\n",
       "\\end{tabular}\n"
      ],
      "text/markdown": [
       "\n",
       "| Sneaker_Name | day_Release | Bought_for_Less_Than_Retail | Bought_more_Than_Retail | Bought_at_Retail | Buyer_Region | day_Order |\n",
       "|---|---|---|---|---|---|---|\n",
       "| Adidas-Yeezy-Boost-350-Low-Moonrock | 200                                 | 0                                   | 1                                   | 0                                   | New York                            | 100                                 |\n",
       "\n"
      ],
      "text/plain": [
       "  Sneaker_Name                        day_Release Bought_for_Less_Than_Retail\n",
       "1 Adidas-Yeezy-Boost-350-Low-Moonrock 200         0                          \n",
       "  Bought_more_Than_Retail Bought_at_Retail Buyer_Region day_Order\n",
       "1 1                       0                New York     100      "
      ]
     },
     "metadata": {},
     "output_type": "display_data"
    }
   ],
   "source": [
    "test_set = data.frame(Sneaker_Name=\"Adidas-Yeezy-Boost-350-Low-Moonrock\",day_Release=200, Bought_for_Less_Than_Retail=0,\n",
    "                      Bought_more_Than_Retail=1, Bought_at_Retail=0,Buyer_Region= \"New York\", day_Order=100)\n",
    "test_set"
   ]
  },
  {
   "cell_type": "code",
   "execution_count": 21,
   "id": "29bf0ffa",
   "metadata": {},
   "outputs": [
    {
     "data": {
      "text/html": [
       "'$ 1188'"
      ],
      "text/latex": [
       "'\\$ 1188'"
      ],
      "text/markdown": [
       "'$ 1188'"
      ],
      "text/plain": [
       "[1] \"$ 1188\""
      ]
     },
     "metadata": {},
     "output_type": "display_data"
    }
   ],
   "source": [
    "prediction = predict(res, newdata = test_set, type = \"vector\")\n",
    "prediction= round(prediction, digits=2)\n",
    "paste('$',formatC(prediction))"
   ]
  },
  {
   "cell_type": "markdown",
   "id": "59f9c20f",
   "metadata": {},
   "source": [
    "## Make a tree with name code"
   ]
  },
  {
   "cell_type": "code",
   "execution_count": 22,
   "id": "1088f56b",
   "metadata": {},
   "outputs": [],
   "source": [
    "#clean the data set\n",
    "Sale_Price <- as.numeric(gsub('[$,]', '', Sale.Price)) #remove $ and comma from sale price value and convert it into nemuric value\n",
    "Retail_Price <- as.numeric(gsub('[$,]', '', Retail.Price)) #same as sales price\n",
    "Release_Date = mdy(Release.Date) #mdy is a function of lubridate library, which is use convert chr value to date value\n",
    "day_Release <- yday(Release_Date) - 1 #day count\n",
    "Order_Date= mdy(ï..Order.Date) #same as release date\n",
    "day_Order <- yday(Order_Date) - 1 #day count\n",
    "Shoe_Size = Shoe.Size\n",
    "Sneaker_Name_code = unclass(Sneaker.Name)\n",
    "Buyer_Region_code = unclass(Buyer.Region)\n",
    "Bought_for_Less_Than_Retail = ifelse(Sale_Price < Retail_Price, 1, 0) #make three new columns\n",
    "Bought_more_Than_Retail = ifelse(Sale_Price > Retail_Price, 1, 0)\n",
    "Bought_at_Retail = ifelse(Sale_Price == Retail_Price, 1, 0)"
   ]
  },
  {
   "cell_type": "code",
   "execution_count": 23,
   "id": "5f32880a",
   "metadata": {},
   "outputs": [
    {
     "data": {
      "text/html": [
       "<table>\n",
       "<thead><tr><th scope=col>Brand</th><th scope=col>Sneaker_Name_code</th><th scope=col>Shoe_Size</th><th scope=col>Release_Date</th><th scope=col>day_Release</th><th scope=col>Retail_Price</th><th scope=col>Order_Date</th><th scope=col>day_Order</th><th scope=col>Sale_Price</th><th scope=col>Buyer_Region_code</th><th scope=col>Bought_for_Less_Than_Retail</th><th scope=col>Bought_more_Than_Retail</th><th scope=col>Bought_at_Retail</th></tr></thead>\n",
       "<tbody>\n",
       "\t<tr><td> Yeezy    </td><td> 6        </td><td>11.0      </td><td>2016-09-24</td><td>267       </td><td>220       </td><td>2017-09-01</td><td>243       </td><td>1097      </td><td> 5        </td><td>0         </td><td>1         </td><td>0         </td></tr>\n",
       "\t<tr><td> Yeezy    </td><td>10        </td><td>11.0      </td><td>2016-11-23</td><td>327       </td><td>220       </td><td>2017-09-01</td><td>243       </td><td> 685      </td><td> 5        </td><td>0         </td><td>1         </td><td>0         </td></tr>\n",
       "\t<tr><td> Yeezy    </td><td>11        </td><td>11.0      </td><td>2016-11-23</td><td>327       </td><td>220       </td><td>2017-09-01</td><td>243       </td><td> 690      </td><td> 5        </td><td>0         </td><td>1         </td><td>0         </td></tr>\n",
       "\t<tr><td> Yeezy    </td><td>12        </td><td>11.5      </td><td>2016-11-23</td><td>327       </td><td>220       </td><td>2017-09-01</td><td>243       </td><td>1075      </td><td>18        </td><td>0         </td><td>1         </td><td>0         </td></tr>\n",
       "\t<tr><td> Yeezy    </td><td>13        </td><td>11.0      </td><td>2017-02-11</td><td> 41       </td><td>220       </td><td>2017-09-01</td><td>243       </td><td> 828      </td><td>40        </td><td>0         </td><td>1         </td><td>0         </td></tr>\n",
       "\t<tr><td> Yeezy    </td><td>13        </td><td> 8.5      </td><td>2017-02-11</td><td> 41       </td><td>220       </td><td>2017-09-01</td><td>243       </td><td> 798      </td><td>23        </td><td>0         </td><td>1         </td><td>0         </td></tr>\n",
       "</tbody>\n",
       "</table>\n"
      ],
      "text/latex": [
       "\\begin{tabular}{r|lllllllllllll}\n",
       " Brand & Sneaker\\_Name\\_code & Shoe\\_Size & Release\\_Date & day\\_Release & Retail\\_Price & Order\\_Date & day\\_Order & Sale\\_Price & Buyer\\_Region\\_code & Bought\\_for\\_Less\\_Than\\_Retail & Bought\\_more\\_Than\\_Retail & Bought\\_at\\_Retail\\\\\n",
       "\\hline\n",
       "\t  Yeezy     &  6         & 11.0       & 2016-09-24 & 267        & 220        & 2017-09-01 & 243        & 1097       &  5         & 0          & 1          & 0         \\\\\n",
       "\t  Yeezy     & 10         & 11.0       & 2016-11-23 & 327        & 220        & 2017-09-01 & 243        &  685       &  5         & 0          & 1          & 0         \\\\\n",
       "\t  Yeezy     & 11         & 11.0       & 2016-11-23 & 327        & 220        & 2017-09-01 & 243        &  690       &  5         & 0          & 1          & 0         \\\\\n",
       "\t  Yeezy     & 12         & 11.5       & 2016-11-23 & 327        & 220        & 2017-09-01 & 243        & 1075       & 18         & 0          & 1          & 0         \\\\\n",
       "\t  Yeezy     & 13         & 11.0       & 2017-02-11 &  41        & 220        & 2017-09-01 & 243        &  828       & 40         & 0          & 1          & 0         \\\\\n",
       "\t  Yeezy     & 13         &  8.5       & 2017-02-11 &  41        & 220        & 2017-09-01 & 243        &  798       & 23         & 0          & 1          & 0         \\\\\n",
       "\\end{tabular}\n"
      ],
      "text/markdown": [
       "\n",
       "| Brand | Sneaker_Name_code | Shoe_Size | Release_Date | day_Release | Retail_Price | Order_Date | day_Order | Sale_Price | Buyer_Region_code | Bought_for_Less_Than_Retail | Bought_more_Than_Retail | Bought_at_Retail |\n",
       "|---|---|---|---|---|---|---|---|---|---|---|---|---|\n",
       "|  Yeezy     |  6         | 11.0       | 2016-09-24 | 267        | 220        | 2017-09-01 | 243        | 1097       |  5         | 0          | 1          | 0          |\n",
       "|  Yeezy     | 10         | 11.0       | 2016-11-23 | 327        | 220        | 2017-09-01 | 243        |  685       |  5         | 0          | 1          | 0          |\n",
       "|  Yeezy     | 11         | 11.0       | 2016-11-23 | 327        | 220        | 2017-09-01 | 243        |  690       |  5         | 0          | 1          | 0          |\n",
       "|  Yeezy     | 12         | 11.5       | 2016-11-23 | 327        | 220        | 2017-09-01 | 243        | 1075       | 18         | 0          | 1          | 0          |\n",
       "|  Yeezy     | 13         | 11.0       | 2017-02-11 |  41        | 220        | 2017-09-01 | 243        |  828       | 40         | 0          | 1          | 0          |\n",
       "|  Yeezy     | 13         |  8.5       | 2017-02-11 |  41        | 220        | 2017-09-01 | 243        |  798       | 23         | 0          | 1          | 0          |\n",
       "\n"
      ],
      "text/plain": [
       "  Brand  Sneaker_Name_code Shoe_Size Release_Date day_Release Retail_Price\n",
       "1  Yeezy  6                11.0      2016-09-24   267         220         \n",
       "2  Yeezy 10                11.0      2016-11-23   327         220         \n",
       "3  Yeezy 11                11.0      2016-11-23   327         220         \n",
       "4  Yeezy 12                11.5      2016-11-23   327         220         \n",
       "5  Yeezy 13                11.0      2017-02-11    41         220         \n",
       "6  Yeezy 13                 8.5      2017-02-11    41         220         \n",
       "  Order_Date day_Order Sale_Price Buyer_Region_code Bought_for_Less_Than_Retail\n",
       "1 2017-09-01 243       1097        5                0                          \n",
       "2 2017-09-01 243        685        5                0                          \n",
       "3 2017-09-01 243        690        5                0                          \n",
       "4 2017-09-01 243       1075       18                0                          \n",
       "5 2017-09-01 243        828       40                0                          \n",
       "6 2017-09-01 243        798       23                0                          \n",
       "  Bought_more_Than_Retail Bought_at_Retail\n",
       "1 1                       0               \n",
       "2 1                       0               \n",
       "3 1                       0               \n",
       "4 1                       0               \n",
       "5 1                       0               \n",
       "6 1                       0               "
      ]
     },
     "metadata": {},
     "output_type": "display_data"
    }
   ],
   "source": [
    "NewSneaker_04 <- data.frame(Brand,Sneaker_Name_code, Shoe_Size, Release_Date,day_Release, Retail_Price, Order_Date, day_Order, Sale_Price, Buyer_Region_code, Bought_for_Less_Than_Retail, Bought_more_Than_Retail, Bought_at_Retail)\n",
    "head(NewSneaker_04)"
   ]
  },
  {
   "cell_type": "code",
   "execution_count": 24,
   "id": "1b2587d2",
   "metadata": {},
   "outputs": [
    {
     "data": {
      "text/plain": [
       "       Brand       Sneaker_Name_code   Shoe_Size       Release_Date       \n",
       "  Yeezy   :72162   Min.   : 1.00     Min.   : 3.500   Min.   :2015-06-27  \n",
       " Off-White:27794   1st Qu.: 9.00     1st Qu.: 8.000   1st Qu.:2017-09-09  \n",
       "                   Median :17.00     Median : 9.500   Median :2017-12-16  \n",
       "                   Mean   :19.13     Mean   : 9.344   Mean   :2018-02-10  \n",
       "                   3rd Qu.:22.00     3rd Qu.:11.000   3rd Qu.:2018-08-03  \n",
       "                   Max.   :50.00     Max.   :17.000   Max.   :2019-02-07  \n",
       "  day_Release     Retail_Price     Order_Date           day_Order    \n",
       " Min.   : 37.0   Min.   :130.0   Min.   :2017-09-01   Min.   :  0.0  \n",
       " 1st Qu.:164.0   1st Qu.:220.0   1st Qu.:2018-05-02   1st Qu.: 89.0  \n",
       " Median :267.0   Median :220.0   Median :2018-09-24   Median :241.0  \n",
       " Mean   :234.7   Mean   :208.6   Mean   :2018-08-12   Mean   :213.3  \n",
       " 3rd Qu.:328.0   3rd Qu.:220.0   3rd Qu.:2018-12-15   3rd Qu.:331.0  \n",
       " Max.   :362.0   Max.   :250.0   Max.   :2019-02-13   Max.   :364.0  \n",
       "   Sale_Price     Buyer_Region_code Bought_for_Less_Than_Retail\n",
       " Min.   : 186.0   Min.   : 1.00     Min.   :0.000000           \n",
       " 1st Qu.: 275.0   1st Qu.: 9.00     1st Qu.:0.000000           \n",
       " Median : 370.0   Median :29.00     Median :0.000000           \n",
       " Mean   : 446.6   Mean   :24.01     Mean   :0.005573           \n",
       " 3rd Qu.: 540.0   3rd Qu.:36.00     3rd Qu.:0.000000           \n",
       " Max.   :4050.0   Max.   :51.00     Max.   :1.000000           \n",
       " Bought_more_Than_Retail Bought_at_Retail  \n",
       " Min.   :0.0000          Min.   :0.000000  \n",
       " 1st Qu.:1.0000          1st Qu.:0.000000  \n",
       " Median :1.0000          Median :0.000000  \n",
       " Mean   :0.9911          Mean   :0.003302  \n",
       " 3rd Qu.:1.0000          3rd Qu.:0.000000  \n",
       " Max.   :1.0000          Max.   :1.000000  "
      ]
     },
     "metadata": {},
     "output_type": "display_data"
    }
   ],
   "source": [
    "summary(NewSneaker_04)"
   ]
  },
  {
   "cell_type": "code",
   "execution_count": 25,
   "id": "f1a2bc78",
   "metadata": {},
   "outputs": [],
   "source": [
    "NewSneaker_04 <- data.frame(NewSneaker_04) #another new data frame cration to avoid misuse our old data set\n",
    "#each time a new model we would create we will make another data frame from NewSneaker data set and name it NewSneaker_n\n",
    "smp_size <- floor(0.8 * nrow(NewSneaker_04))\n",
    "set.seed(123)\n",
    "train_ind04 <- sample(seq_len(nrow(NewSneaker_04)), size = smp_size)\n",
    "\n",
    "train04 <- NewSneaker_04[train_ind04, ]\n",
    "test04 <- NewSneaker_04[-train_ind04, ]"
   ]
  },
  {
   "cell_type": "code",
   "execution_count": 26,
   "id": "b895a525",
   "metadata": {},
   "outputs": [
    {
     "data": {
      "text/html": [
       "<ol class=list-inline>\n",
       "\t<li>'Brand'</li>\n",
       "\t<li>'Sneaker_Name_code'</li>\n",
       "\t<li>'Shoe_Size'</li>\n",
       "\t<li>'Release_Date'</li>\n",
       "\t<li>'day_Release'</li>\n",
       "\t<li>'Retail_Price'</li>\n",
       "\t<li>'Order_Date'</li>\n",
       "\t<li>'day_Order'</li>\n",
       "\t<li>'Sale_Price'</li>\n",
       "\t<li>'Buyer_Region_code'</li>\n",
       "\t<li>'Bought_for_Less_Than_Retail'</li>\n",
       "\t<li>'Bought_more_Than_Retail'</li>\n",
       "\t<li>'Bought_at_Retail'</li>\n",
       "</ol>\n"
      ],
      "text/latex": [
       "\\begin{enumerate*}\n",
       "\\item 'Brand'\n",
       "\\item 'Sneaker\\_Name\\_code'\n",
       "\\item 'Shoe\\_Size'\n",
       "\\item 'Release\\_Date'\n",
       "\\item 'day\\_Release'\n",
       "\\item 'Retail\\_Price'\n",
       "\\item 'Order\\_Date'\n",
       "\\item 'day\\_Order'\n",
       "\\item 'Sale\\_Price'\n",
       "\\item 'Buyer\\_Region\\_code'\n",
       "\\item 'Bought\\_for\\_Less\\_Than\\_Retail'\n",
       "\\item 'Bought\\_more\\_Than\\_Retail'\n",
       "\\item 'Bought\\_at\\_Retail'\n",
       "\\end{enumerate*}\n"
      ],
      "text/markdown": [
       "1. 'Brand'\n",
       "2. 'Sneaker_Name_code'\n",
       "3. 'Shoe_Size'\n",
       "4. 'Release_Date'\n",
       "5. 'day_Release'\n",
       "6. 'Retail_Price'\n",
       "7. 'Order_Date'\n",
       "8. 'day_Order'\n",
       "9. 'Sale_Price'\n",
       "10. 'Buyer_Region_code'\n",
       "11. 'Bought_for_Less_Than_Retail'\n",
       "12. 'Bought_more_Than_Retail'\n",
       "13. 'Bought_at_Retail'\n",
       "\n",
       "\n"
      ],
      "text/plain": [
       " [1] \"Brand\"                       \"Sneaker_Name_code\"          \n",
       " [3] \"Shoe_Size\"                   \"Release_Date\"               \n",
       " [5] \"day_Release\"                 \"Retail_Price\"               \n",
       " [7] \"Order_Date\"                  \"day_Order\"                  \n",
       " [9] \"Sale_Price\"                  \"Buyer_Region_code\"          \n",
       "[11] \"Bought_for_Less_Than_Retail\" \"Bought_more_Than_Retail\"    \n",
       "[13] \"Bought_at_Retail\"           "
      ]
     },
     "metadata": {},
     "output_type": "display_data"
    }
   ],
   "source": [
    "names(train04)"
   ]
  },
  {
   "cell_type": "code",
   "execution_count": 27,
   "id": "bf1a08da",
   "metadata": {},
   "outputs": [
    {
     "data": {
      "text/plain": [
       "n= 79964 \n",
       "\n",
       "node), split, n, deviance, yval\n",
       "      * denotes terminal node\n",
       "\n",
       "   1) root 79964 5269570000  447.0399  \n",
       "     2) Sneaker_Name_code< 20.5 57677 1197254000  360.0260  \n",
       "       4) Sneaker_Name_code>=6.5 56903  903626700  352.4130  \n",
       "         8) day_Release>=48 56128  733656500  346.1411  \n",
       "          16) day_Release< 326.5 32810  367946400  309.9374  \n",
       "            32) Sneaker_Name_code< 15.5 16418   57186910  278.3789 *\n",
       "            33) Sneaker_Name_code>=15.5 16392  278030900  341.5460  \n",
       "              66) day_Release>=323.5 4415    2141863  264.1905 *\n",
       "              67) day_Release< 323.5 11977  239731600  370.0610  \n",
       "               134) day_Order>=310.5 7340  134592900  336.9480  \n",
       "                 268) Sneaker_Name_code>=18 5220   25320390  311.2178 *\n",
       "                 269) Sneaker_Name_code< 18 2120   97307500  400.3024  \n",
       "                   538) day_Order>=341.5 1584   22592760  307.3573 *\n",
       "                   539) day_Order< 341.5 536   20592130  674.9757 *\n",
       "               135) day_Order< 310.5 4637   84350970  422.4764  \n",
       "                 270) day_Order< 43.5 2091   28916310  334.1865 *\n",
       "                 271) day_Order>=43.5 2546   25748470  494.9878 *\n",
       "          17) day_Release>=326.5 23318  262195600  397.0822  \n",
       "            34) day_Release>=327.5 22753  166494600  387.9184  \n",
       "              68) day_Release>=359.5 3965    4351723  286.7796 *\n",
       "              69) day_Release< 359.5 18788  113025300  409.2626  \n",
       "               138) day_Release< 350 15761   28088190  390.1410 *\n",
       "               139) day_Release>=350 3027   49168510  508.8252  \n",
       "                 278) day_Order< 41.5 2361   11418610  457.4418 *\n",
       "                 279) day_Order>=41.5 666    9417640  690.9820 *\n",
       "            35) day_Release< 327.5 565   16844860  766.1168  \n",
       "              70) Sneaker_Name_code< 11.5 326    1969203  640.5951 *\n",
       "              71) Sneaker_Name_code>=11.5 239    2733215  937.3305 *\n",
       "         9) day_Release< 48 775    7859043  806.6452 *\n",
       "       5) Sneaker_Name_code< 6.5 774   47874460  919.7132  \n",
       "        10) Sneaker_Name_code>=5.5 401    6262686  788.5237 *\n",
       "        11) Sneaker_Name_code< 5.5 373   27290730 1060.7510  \n",
       "          22) Sneaker_Name_code< 4.5 316    8151573  975.6139 *\n",
       "          23) Sneaker_Name_code>=4.5 57    4150761 1532.7370 *\n",
       "     3) Sneaker_Name_code>=20.5 22287 2505481000  672.2251  \n",
       "       6) Sneaker_Name_code>=21.5 21682 1581291000  641.4828  \n",
       "        12) Sneaker_Name_code>=44.5 3823   49338400  343.7457  \n",
       "          24) Sneaker_Name_code>=48.5 2028    4109387  292.7628 *\n",
       "          25) Sneaker_Name_code< 48.5 1795   34002170  401.3465  \n",
       "            50) day_Release< 234 1045    2688095  320.5263 *\n",
       "            51) day_Release>=234 750   14977570  513.9560 *\n",
       "        13) Sneaker_Name_code< 44.5 17859 1120507000  705.2180  \n",
       "          26) Sneaker_Name_code>=23.5 13894  528996900  645.6516  \n",
       "            52) day_Release>=329.5 1578   11113480  450.3872  \n",
       "             104) Sneaker_Name_code>=25.5 796    1933274  390.9950 *\n",
       "             105) Sneaker_Name_code< 25.5 782    3514264  510.8427 *\n",
       "            53) day_Release< 329.5 12316  450008300  670.6700  \n",
       "             106) Sneaker_Name_code>=38.5 5259   67333830  605.7977  \n",
       "               212) Sneaker_Name_code< 43.5 5028   57306490  597.7691  \n",
       "                 424) Sneaker_Name_code>=42.5 1119    6386844  527.3021 *\n",
       "                 425) Sneaker_Name_code< 42.5 3909   43772520  617.9412 *\n",
       "               213) Sneaker_Name_code>=43.5 231    2648899  780.5498 *\n",
       "             107) Sneaker_Name_code< 38.5 7057  344049100  719.0140  \n",
       "               214) day_Release< 225 4138   58709360  645.2069  \n",
       "                 428) Sneaker_Name_code< 33 1090    2826928  542.4890 *\n",
       "                 429) Sneaker_Name_code>=33 3048   40269150  681.9400  \n",
       "                   858) day_Release>=210.5 1535   20653310  633.7883 *\n",
       "                   859) day_Release< 210.5 1513   12446040  730.7918 *\n",
       "               215) day_Release>=225 2919  230842600  823.6437  \n",
       "                 430) Sneaker_Name_code< 34.5 2029   69686750  722.0833  \n",
       "                   860) day_Order>=313.5 825   20538700  610.3539 *\n",
       "                   861) day_Order< 313.5 1204   31792280  798.6420 *\n",
       "                 431) Sneaker_Name_code>=34.5 890   92516230 1055.1790  \n",
       "                   862) Sneaker_Name_code>=36.5 417   16916150  845.6211  \n",
       "                    1724) day_Order>=318.5 203    2005915  705.1429 *\n",
       "                    1725) day_Order< 318.5 214    7104095  978.8785 *\n",
       "                   863) Sneaker_Name_code< 36.5 473   41143540 1239.9260  \n",
       "                    1726) day_Order>=311.5 209    8676633 1031.1000 *\n",
       "                    1727) day_Order< 311.5 264   16137490 1405.2460 *\n",
       "          27) Sneaker_Name_code< 23.5 3965  369463300  913.9485  \n",
       "            54) Sneaker_Name_code< 22.5 3713  129150000  852.3294  \n",
       "             108) day_Order>=147.5 3095   66569050  813.8349  \n",
       "               216) day_Order< 222.5 2242   40347320  783.0740 *\n",
       "               217) day_Order>=222.5 853   18524320  894.6858 *\n",
       "             109) day_Order< 147.5 618   35026390 1045.1130  \n",
       "               218) day_Order< 89 206    2740198  897.1068 *\n",
       "               219) day_Order>=89 412   25517270 1119.1170  \n",
       "                 438) day_Order>=143.5 300    5713932 1028.8230 *\n",
       "                 439) day_Order< 143.5 112   10806070 1360.9730  \n",
       "                   878) day_Order>=137 111    5379740 1340.0810 *\n",
       "                   879) day_Order< 137 1          0 3680.0000 *\n",
       "            55) Sneaker_Name_code>=22.5 252   18493990 1821.8530 *\n",
       "       7) Sneaker_Name_code< 21.5 605  169326300 1773.9690  \n",
       "        14) day_Order>=310.5 259   46130480 1414.6140 *\n",
       "        15) day_Order< 310.5 346   64713380 2042.9650  \n",
       "          30) day_Order< 84.5 154   31920230 1873.1950 *\n",
       "          31) day_Order>=84.5 192   24794430 2179.1350 *"
      ]
     },
     "metadata": {},
     "output_type": "display_data"
    }
   ],
   "source": [
    "result04 <- rpart(Sale_Price~Sneaker_Name_code+day_Release+Bought_for_Less_Than_Retail+\n",
    "             Bought_more_Than_Retail+Bought_at_Retail+Buyer_Region_code+day_Order , data = train04 ,\n",
    "             control = rpart.control(minsplit = 1, minbucket = 1,cp = 0.001))\n",
    "result04"
   ]
  },
  {
   "cell_type": "code",
   "execution_count": 28,
   "id": "e0ced403",
   "metadata": {},
   "outputs": [
    {
     "name": "stderr",
     "output_type": "stream",
     "text": [
      "Warning message:\n",
      "\"labs do not fit even at cex 0.15, there may be some overplotting\""
     ]
    },
    {
     "data": {
      "image/png": "[encoded data removed]",
      "text/plain": [
       "plot without title"
      ]
     },
     "metadata": {},
     "output_type": "display_data"
    }
   ],
   "source": [
    "rpart.plot(result04,type =5, fallen.leaves = T, cex =0.5)"
   ]
  },
  {
   "cell_type": "code",
   "execution_count": 29,
   "id": "f33d9dd3",
   "metadata": {},
   "outputs": [
    {
     "data": {
      "text/html": [
       "<table>\n",
       "<thead><tr><th scope=col>Sneaker_Name_code</th><th scope=col>day_Release</th><th scope=col>Bought_for_Less_Than_Retail</th><th scope=col>Bought_more_Than_Retail</th><th scope=col>Bought_at_Retail</th><th scope=col>Buyer_Region_code</th><th scope=col>day_Order</th></tr></thead>\n",
       "<tbody>\n",
       "\t<tr><td>3  </td><td>34 </td><td>0  </td><td>1  </td><td>0  </td><td>8  </td><td>100</td></tr>\n",
       "</tbody>\n",
       "</table>\n"
      ],
      "text/latex": [
       "\\begin{tabular}{r|lllllll}\n",
       " Sneaker\\_Name\\_code & day\\_Release & Bought\\_for\\_Less\\_Than\\_Retail & Bought\\_more\\_Than\\_Retail & Bought\\_at\\_Retail & Buyer\\_Region\\_code & day\\_Order\\\\\n",
       "\\hline\n",
       "\t 3   & 34  & 0   & 1   & 0   & 8   & 100\\\\\n",
       "\\end{tabular}\n"
      ],
      "text/markdown": [
       "\n",
       "| Sneaker_Name_code | day_Release | Bought_for_Less_Than_Retail | Bought_more_Than_Retail | Bought_at_Retail | Buyer_Region_code | day_Order |\n",
       "|---|---|---|---|---|---|---|\n",
       "| 3   | 34  | 0   | 1   | 0   | 8   | 100 |\n",
       "\n"
      ],
      "text/plain": [
       "  Sneaker_Name_code day_Release Bought_for_Less_Than_Retail\n",
       "1 3                 34          0                          \n",
       "  Bought_more_Than_Retail Bought_at_Retail Buyer_Region_code day_Order\n",
       "1 1                       0                8                 100      "
      ]
     },
     "metadata": {},
     "output_type": "display_data"
    }
   ],
   "source": [
    "test_set_code = data.frame(Sneaker_Name_code=3, day_Release =34, Bought_for_Less_Than_Retail= 0,\n",
    "             Bought_more_Than_Retail= 1, Bought_at_Retail= 0, Buyer_Region_code= 8, day_Order= 100)\n",
    "test_set_code"
   ]
  },
  {
   "cell_type": "code",
   "execution_count": 30,
   "id": "a0b6947b",
   "metadata": {},
   "outputs": [
    {
     "data": {
      "text/html": [
       "'$ 975.6'"
      ],
      "text/latex": [
       "'\\$ 975.6'"
      ],
      "text/markdown": [
       "'$ 975.6'"
      ],
      "text/plain": [
       "[1] \"$ 975.6\""
      ]
     },
     "metadata": {},
     "output_type": "display_data"
    }
   ],
   "source": [
    "prediction = predict(result04, newdata = test_set_code, type = \"vector\")\n",
    "prediction= round(prediction, digits=2)\n",
    "paste('$',formatC(prediction))"
   ]
  },
  {
   "cell_type": "markdown",
   "id": "c244f525",
   "metadata": {},
   "source": [
    "\n",
    "## Model#2: Multiple Linear regression"
   ]
  },
  {
   "cell_type": "code",
   "execution_count": 31,
   "id": "68695408",
   "metadata": {},
   "outputs": [],
   "source": [
    "#clean the data set for Multiple linear regression\n",
    "Sale_Price <- as.numeric(gsub('[$,]', '', Sale.Price)) #remove $ and comma from sale price value and convert it into nemuric value\n",
    "Retail_Price <- as.numeric(gsub('[$,]', '', Retail.Price)) #same as sales price\n",
    "Release_Date = mdy(Release.Date) #mdy is a function of lubridate library, which is use convert chr value to date value\n",
    "Order_Date= mdy(ï..Order.Date) #same as release date\n",
    "Shoe_Size = Shoe.Size\n",
    "Sneaker_Code = unclass(Sneaker.Name) #unclass function use for grouping items and convert value to a numric data set of data\n",
    "Buyer_Region_Code = unclass(Buyer.Region) # same as Sneaker name, here we convert state name to a numric value"
   ]
  },
  {
   "cell_type": "code",
   "execution_count": 32,
   "id": "66fc473c",
   "metadata": {},
   "outputs": [
    {
     "data": {
      "text/html": [
       "<table>\n",
       "<thead><tr><th scope=col>Brand</th><th scope=col>Sneaker_Code</th><th scope=col>Shoe_Size</th><th scope=col>Release_Date</th><th scope=col>Retail_Price</th><th scope=col>Order_Date</th><th scope=col>Sale_Price</th><th scope=col>Buyer_Region_Code</th></tr></thead>\n",
       "<tbody>\n",
       "\t<tr><td> Yeezy    </td><td> 6        </td><td>11.0      </td><td>2016-09-24</td><td>220       </td><td>2017-09-01</td><td>1097      </td><td> 5        </td></tr>\n",
       "\t<tr><td> Yeezy    </td><td>10        </td><td>11.0      </td><td>2016-11-23</td><td>220       </td><td>2017-09-01</td><td> 685      </td><td> 5        </td></tr>\n",
       "\t<tr><td> Yeezy    </td><td>11        </td><td>11.0      </td><td>2016-11-23</td><td>220       </td><td>2017-09-01</td><td> 690      </td><td> 5        </td></tr>\n",
       "\t<tr><td> Yeezy    </td><td>12        </td><td>11.5      </td><td>2016-11-23</td><td>220       </td><td>2017-09-01</td><td>1075      </td><td>18        </td></tr>\n",
       "\t<tr><td> Yeezy    </td><td>13        </td><td>11.0      </td><td>2017-02-11</td><td>220       </td><td>2017-09-01</td><td> 828      </td><td>40        </td></tr>\n",
       "\t<tr><td> Yeezy    </td><td>13        </td><td> 8.5      </td><td>2017-02-11</td><td>220       </td><td>2017-09-01</td><td> 798      </td><td>23        </td></tr>\n",
       "</tbody>\n",
       "</table>\n"
      ],
      "text/latex": [
       "\\begin{tabular}{r|llllllll}\n",
       " Brand & Sneaker\\_Code & Shoe\\_Size & Release\\_Date & Retail\\_Price & Order\\_Date & Sale\\_Price & Buyer\\_Region\\_Code\\\\\n",
       "\\hline\n",
       "\t  Yeezy     &  6         & 11.0       & 2016-09-24 & 220        & 2017-09-01 & 1097       &  5        \\\\\n",
       "\t  Yeezy     & 10         & 11.0       & 2016-11-23 & 220        & 2017-09-01 &  685       &  5        \\\\\n",
       "\t  Yeezy     & 11         & 11.0       & 2016-11-23 & 220        & 2017-09-01 &  690       &  5        \\\\\n",
       "\t  Yeezy     & 12         & 11.5       & 2016-11-23 & 220        & 2017-09-01 & 1075       & 18        \\\\\n",
       "\t  Yeezy     & 13         & 11.0       & 2017-02-11 & 220        & 2017-09-01 &  828       & 40        \\\\\n",
       "\t  Yeezy     & 13         &  8.5       & 2017-02-11 & 220        & 2017-09-01 &  798       & 23        \\\\\n",
       "\\end{tabular}\n"
      ],
      "text/markdown": [
       "\n",
       "| Brand | Sneaker_Code | Shoe_Size | Release_Date | Retail_Price | Order_Date | Sale_Price | Buyer_Region_Code |\n",
       "|---|---|---|---|---|---|---|---|\n",
       "|  Yeezy     |  6         | 11.0       | 2016-09-24 | 220        | 2017-09-01 | 1097       |  5         |\n",
       "|  Yeezy     | 10         | 11.0       | 2016-11-23 | 220        | 2017-09-01 |  685       |  5         |\n",
       "|  Yeezy     | 11         | 11.0       | 2016-11-23 | 220        | 2017-09-01 |  690       |  5         |\n",
       "|  Yeezy     | 12         | 11.5       | 2016-11-23 | 220        | 2017-09-01 | 1075       | 18         |\n",
       "|  Yeezy     | 13         | 11.0       | 2017-02-11 | 220        | 2017-09-01 |  828       | 40         |\n",
       "|  Yeezy     | 13         |  8.5       | 2017-02-11 | 220        | 2017-09-01 |  798       | 23         |\n",
       "\n"
      ],
      "text/plain": [
       "  Brand  Sneaker_Code Shoe_Size Release_Date Retail_Price Order_Date Sale_Price\n",
       "1  Yeezy  6           11.0      2016-09-24   220          2017-09-01 1097      \n",
       "2  Yeezy 10           11.0      2016-11-23   220          2017-09-01  685      \n",
       "3  Yeezy 11           11.0      2016-11-23   220          2017-09-01  690      \n",
       "4  Yeezy 12           11.5      2016-11-23   220          2017-09-01 1075      \n",
       "5  Yeezy 13           11.0      2017-02-11   220          2017-09-01  828      \n",
       "6  Yeezy 13            8.5      2017-02-11   220          2017-09-01  798      \n",
       "  Buyer_Region_Code\n",
       "1  5               \n",
       "2  5               \n",
       "3  5               \n",
       "4 18               \n",
       "5 40               \n",
       "6 23               "
      ]
     },
     "metadata": {},
     "output_type": "display_data"
    }
   ],
   "source": [
    "#Make a new data set from old modified data set\n",
    "NewSneaker03 <- data.frame(Brand,Sneaker_Code, Shoe_Size, Release_Date, Retail_Price, Order_Date, Sale_Price, Buyer_Region_Code)\n",
    "head(NewSneaker03)"
   ]
  },
  {
   "cell_type": "code",
   "execution_count": 33,
   "id": "09cceeac",
   "metadata": {},
   "outputs": [
    {
     "data": {
      "text/plain": [
       "       Brand        Sneaker_Code     Shoe_Size       Release_Date       \n",
       "  Yeezy   :72162   Min.   : 1.00   Min.   : 3.500   Min.   :2015-06-27  \n",
       " Off-White:27794   1st Qu.: 9.00   1st Qu.: 8.000   1st Qu.:2017-09-09  \n",
       "                   Median :17.00   Median : 9.500   Median :2017-12-16  \n",
       "                   Mean   :19.13   Mean   : 9.344   Mean   :2018-02-10  \n",
       "                   3rd Qu.:22.00   3rd Qu.:11.000   3rd Qu.:2018-08-03  \n",
       "                   Max.   :50.00   Max.   :17.000   Max.   :2019-02-07  \n",
       "  Retail_Price     Order_Date           Sale_Price     Buyer_Region_Code\n",
       " Min.   :130.0   Min.   :2017-09-01   Min.   : 186.0   Min.   : 1.00    \n",
       " 1st Qu.:220.0   1st Qu.:2018-05-02   1st Qu.: 275.0   1st Qu.: 9.00    \n",
       " Median :220.0   Median :2018-09-24   Median : 370.0   Median :29.00    \n",
       " Mean   :208.6   Mean   :2018-08-12   Mean   : 446.6   Mean   :24.01    \n",
       " 3rd Qu.:220.0   3rd Qu.:2018-12-15   3rd Qu.: 540.0   3rd Qu.:36.00    \n",
       " Max.   :250.0   Max.   :2019-02-13   Max.   :4050.0   Max.   :51.00    "
      ]
     },
     "metadata": {},
     "output_type": "display_data"
    }
   ],
   "source": [
    "summary(NewSneaker03)"
   ]
  },
  {
   "cell_type": "markdown",
   "id": "b5461249",
   "metadata": {},
   "source": [
    " "
   ]
  },
  {
   "cell_type": "markdown",
   "id": "ab20b72d",
   "metadata": {},
   "source": [
    "### spliting the data set"
   ]
  },
  {
   "cell_type": "code",
   "execution_count": 34,
   "id": "b5257e43",
   "metadata": {},
   "outputs": [],
   "source": [
    "NewSneaker03 <- data.frame(NewSneaker03) #another new data frame cration to avoid misuse our old data set\n",
    "#each time a new model we would create we will make another data frame from NewSneaker data set and name it NewSneaker_n\n",
    "smp_size <- floor(0.8 * nrow(NewSneaker03))\n",
    "set.seed(123)\n",
    "train_ind <- sample(seq_len(nrow(NewSneaker03)), size = smp_size)\n",
    "\n",
    "train <- NewSneaker03[train_ind, ]\n",
    "test <- NewSneaker03[-train_ind, ]"
   ]
  },
  {
   "cell_type": "code",
   "execution_count": 35,
   "id": "dccac160",
   "metadata": {},
   "outputs": [
    {
     "data": {
      "text/html": [
       "<ol class=list-inline>\n",
       "\t<li>'Brand'</li>\n",
       "\t<li>'Sneaker_Code'</li>\n",
       "\t<li>'Shoe_Size'</li>\n",
       "\t<li>'Release_Date'</li>\n",
       "\t<li>'Retail_Price'</li>\n",
       "\t<li>'Order_Date'</li>\n",
       "\t<li>'Sale_Price'</li>\n",
       "\t<li>'Buyer_Region_Code'</li>\n",
       "</ol>\n"
      ],
      "text/latex": [
       "\\begin{enumerate*}\n",
       "\\item 'Brand'\n",
       "\\item 'Sneaker\\_Code'\n",
       "\\item 'Shoe\\_Size'\n",
       "\\item 'Release\\_Date'\n",
       "\\item 'Retail\\_Price'\n",
       "\\item 'Order\\_Date'\n",
       "\\item 'Sale\\_Price'\n",
       "\\item 'Buyer\\_Region\\_Code'\n",
       "\\end{enumerate*}\n"
      ],
      "text/markdown": [
       "1. 'Brand'\n",
       "2. 'Sneaker_Code'\n",
       "3. 'Shoe_Size'\n",
       "4. 'Release_Date'\n",
       "5. 'Retail_Price'\n",
       "6. 'Order_Date'\n",
       "7. 'Sale_Price'\n",
       "8. 'Buyer_Region_Code'\n",
       "\n",
       "\n"
      ],
      "text/plain": [
       "[1] \"Brand\"             \"Sneaker_Code\"      \"Shoe_Size\"        \n",
       "[4] \"Release_Date\"      \"Retail_Price\"      \"Order_Date\"       \n",
       "[7] \"Sale_Price\"        \"Buyer_Region_Code\""
      ]
     },
     "metadata": {},
     "output_type": "display_data"
    }
   ],
   "source": [
    "names(NewSneaker03)"
   ]
  },
  {
   "cell_type": "code",
   "execution_count": 36,
   "id": "295040c5",
   "metadata": {},
   "outputs": [
    {
     "data": {
      "text/plain": [
       "\n",
       "Call:\n",
       "lm(formula = Sale_Price ~ ., data = train)\n",
       "\n",
       "Residuals:\n",
       "    Min      1Q  Median      3Q     Max \n",
       "-526.32  -92.03  -49.58   66.02 3137.49 \n",
       "\n",
       "Coefficients:\n",
       "                    Estimate Std. Error  t value Pr(>|t|)    \n",
       "(Intercept)        8.024e+03  9.244e+01   86.803  < 2e-16 ***\n",
       "BrandOff-White     6.096e+02  3.267e+00  186.572  < 2e-16 ***\n",
       "Sneaker_Code      -1.151e+01  1.108e-01 -103.909  < 2e-16 ***\n",
       "Shoe_Size          1.933e+00  2.824e-01    6.846 7.66e-12 ***\n",
       "Release_Date      -2.929e-01  3.195e-03  -91.673  < 2e-16 ***\n",
       "Retail_Price      -1.534e-01  3.773e-02   -4.066 4.78e-05 ***\n",
       "Order_Date        -1.330e-01  5.306e-03  -25.070  < 2e-16 ***\n",
       "Buyer_Region_Code -1.791e-01  4.479e-02   -3.999 6.38e-05 ***\n",
       "---\n",
       "Signif. codes:  0 '***' 0.001 '**' 0.01 '*' 0.05 '.' 0.1 ' ' 1\n",
       "\n",
       "Residual standard error: 185.1 on 79956 degrees of freedom\n",
       "Multiple R-squared:  0.4801,\tAdjusted R-squared:  0.4801 \n",
       "F-statistic: 1.055e+04 on 7 and 79956 DF,  p-value: < 2.2e-16\n"
      ]
     },
     "metadata": {},
     "output_type": "display_data"
    }
   ],
   "source": [
    "model <- lm(Sale_Price~., data = train)\n",
    "summary(model)"
   ]
  },
  {
   "cell_type": "markdown",
   "id": "e4a95c35",
   "metadata": {},
   "source": [
    "### This model has 48% accuracy rate and has a less than 0.05 of p-value. However it has a higher standard error, that means it has too many outliear. So we could conclud, this model is not statasitically significant. "
   ]
  },
  {
   "cell_type": "markdown",
   "id": "cf79655a",
   "metadata": {},
   "source": [
    "## method#03 GLM (failed model)"
   ]
  },
  {
   "cell_type": "code",
   "execution_count": 37,
   "id": "75447e8a",
   "metadata": {},
   "outputs": [
    {
     "data": {
      "text/html": [
       "<table>\n",
       "<thead><tr><th scope=col>Brand</th><th scope=col>Sneaker_Code</th><th scope=col>Shoe_Size</th><th scope=col>Release_Date</th><th scope=col>Retail_Price</th><th scope=col>Order_Date</th><th scope=col>Sale_Price</th><th scope=col>Buyer_Region_Code</th></tr></thead>\n",
       "<tbody>\n",
       "\t<tr><td> Yeezy    </td><td> 6        </td><td>11.0      </td><td>2016-09-24</td><td>220       </td><td>2017-09-01</td><td>1097      </td><td> 5        </td></tr>\n",
       "\t<tr><td> Yeezy    </td><td>10        </td><td>11.0      </td><td>2016-11-23</td><td>220       </td><td>2017-09-01</td><td> 685      </td><td> 5        </td></tr>\n",
       "\t<tr><td> Yeezy    </td><td>11        </td><td>11.0      </td><td>2016-11-23</td><td>220       </td><td>2017-09-01</td><td> 690      </td><td> 5        </td></tr>\n",
       "\t<tr><td> Yeezy    </td><td>12        </td><td>11.5      </td><td>2016-11-23</td><td>220       </td><td>2017-09-01</td><td>1075      </td><td>18        </td></tr>\n",
       "\t<tr><td> Yeezy    </td><td>13        </td><td>11.0      </td><td>2017-02-11</td><td>220       </td><td>2017-09-01</td><td> 828      </td><td>40        </td></tr>\n",
       "\t<tr><td> Yeezy    </td><td>13        </td><td> 8.5      </td><td>2017-02-11</td><td>220       </td><td>2017-09-01</td><td> 798      </td><td>23        </td></tr>\n",
       "</tbody>\n",
       "</table>\n"
      ],
      "text/latex": [
       "\\begin{tabular}{r|llllllll}\n",
       " Brand & Sneaker\\_Code & Shoe\\_Size & Release\\_Date & Retail\\_Price & Order\\_Date & Sale\\_Price & Buyer\\_Region\\_Code\\\\\n",
       "\\hline\n",
       "\t  Yeezy     &  6         & 11.0       & 2016-09-24 & 220        & 2017-09-01 & 1097       &  5        \\\\\n",
       "\t  Yeezy     & 10         & 11.0       & 2016-11-23 & 220        & 2017-09-01 &  685       &  5        \\\\\n",
       "\t  Yeezy     & 11         & 11.0       & 2016-11-23 & 220        & 2017-09-01 &  690       &  5        \\\\\n",
       "\t  Yeezy     & 12         & 11.5       & 2016-11-23 & 220        & 2017-09-01 & 1075       & 18        \\\\\n",
       "\t  Yeezy     & 13         & 11.0       & 2017-02-11 & 220        & 2017-09-01 &  828       & 40        \\\\\n",
       "\t  Yeezy     & 13         &  8.5       & 2017-02-11 & 220        & 2017-09-01 &  798       & 23        \\\\\n",
       "\\end{tabular}\n"
      ],
      "text/markdown": [
       "\n",
       "| Brand | Sneaker_Code | Shoe_Size | Release_Date | Retail_Price | Order_Date | Sale_Price | Buyer_Region_Code |\n",
       "|---|---|---|---|---|---|---|---|\n",
       "|  Yeezy     |  6         | 11.0       | 2016-09-24 | 220        | 2017-09-01 | 1097       |  5         |\n",
       "|  Yeezy     | 10         | 11.0       | 2016-11-23 | 220        | 2017-09-01 |  685       |  5         |\n",
       "|  Yeezy     | 11         | 11.0       | 2016-11-23 | 220        | 2017-09-01 |  690       |  5         |\n",
       "|  Yeezy     | 12         | 11.5       | 2016-11-23 | 220        | 2017-09-01 | 1075       | 18         |\n",
       "|  Yeezy     | 13         | 11.0       | 2017-02-11 | 220        | 2017-09-01 |  828       | 40         |\n",
       "|  Yeezy     | 13         |  8.5       | 2017-02-11 | 220        | 2017-09-01 |  798       | 23         |\n",
       "\n"
      ],
      "text/plain": [
       "  Brand  Sneaker_Code Shoe_Size Release_Date Retail_Price Order_Date Sale_Price\n",
       "1  Yeezy  6           11.0      2016-09-24   220          2017-09-01 1097      \n",
       "2  Yeezy 10           11.0      2016-11-23   220          2017-09-01  685      \n",
       "3  Yeezy 11           11.0      2016-11-23   220          2017-09-01  690      \n",
       "4  Yeezy 12           11.5      2016-11-23   220          2017-09-01 1075      \n",
       "5  Yeezy 13           11.0      2017-02-11   220          2017-09-01  828      \n",
       "6  Yeezy 13            8.5      2017-02-11   220          2017-09-01  798      \n",
       "  Buyer_Region_Code\n",
       "1  5               \n",
       "2  5               \n",
       "3  5               \n",
       "4 18               \n",
       "5 40               \n",
       "6 23               "
      ]
     },
     "metadata": {},
     "output_type": "display_data"
    }
   ],
   "source": [
    "NewSneaker05 <- data.frame(NewSneaker03)\n",
    "head(NewSneaker05)"
   ]
  },
  {
   "cell_type": "code",
   "execution_count": 38,
   "id": "d479b779",
   "metadata": {},
   "outputs": [
    {
     "data": {
      "text/html": [
       "<ol class=list-inline>\n",
       "\t<li>'Brand'</li>\n",
       "\t<li>'Sneaker_Code'</li>\n",
       "\t<li>'Shoe_Size'</li>\n",
       "\t<li>'Release_Date'</li>\n",
       "\t<li>'Retail_Price'</li>\n",
       "\t<li>'Order_Date'</li>\n",
       "\t<li>'Sale_Price'</li>\n",
       "\t<li>'Buyer_Region_Code'</li>\n",
       "</ol>\n"
      ],
      "text/latex": [
       "\\begin{enumerate*}\n",
       "\\item 'Brand'\n",
       "\\item 'Sneaker\\_Code'\n",
       "\\item 'Shoe\\_Size'\n",
       "\\item 'Release\\_Date'\n",
       "\\item 'Retail\\_Price'\n",
       "\\item 'Order\\_Date'\n",
       "\\item 'Sale\\_Price'\n",
       "\\item 'Buyer\\_Region\\_Code'\n",
       "\\end{enumerate*}\n"
      ],
      "text/markdown": [
       "1. 'Brand'\n",
       "2. 'Sneaker_Code'\n",
       "3. 'Shoe_Size'\n",
       "4. 'Release_Date'\n",
       "5. 'Retail_Price'\n",
       "6. 'Order_Date'\n",
       "7. 'Sale_Price'\n",
       "8. 'Buyer_Region_Code'\n",
       "\n",
       "\n"
      ],
      "text/plain": [
       "[1] \"Brand\"             \"Sneaker_Code\"      \"Shoe_Size\"        \n",
       "[4] \"Release_Date\"      \"Retail_Price\"      \"Order_Date\"       \n",
       "[7] \"Sale_Price\"        \"Buyer_Region_Code\""
      ]
     },
     "metadata": {},
     "output_type": "display_data"
    }
   ],
   "source": [
    "names(NewSneaker05)"
   ]
  },
  {
   "cell_type": "code",
   "execution_count": 39,
   "id": "6acfa77f",
   "metadata": {},
   "outputs": [],
   "source": [
    "glm.fit = glm(Sale_Price~Brand+Sneaker_Code+Shoe_Size+Release_Date+\n",
    "              Retail_Price+Order_Date+Buyer_Region_Code, data = NewSneaker05, family = \"Gamma\")"
   ]
  },
  {
   "cell_type": "code",
   "execution_count": 40,
   "id": "907224ba",
   "metadata": {},
   "outputs": [
    {
     "data": {
      "text/plain": [
       "\n",
       "Call:\n",
       "glm(formula = Sale_Price ~ Brand + Sneaker_Code + Shoe_Size + \n",
       "    Release_Date + Retail_Price + Order_Date + Buyer_Region_Code, \n",
       "    family = \"Gamma\", data = NewSneaker05)\n",
       "\n",
       "Deviance Residuals: \n",
       "     Min        1Q    Median        3Q       Max  \n",
       "-1.08856  -0.21766  -0.06278   0.09371   2.95931  \n",
       "\n",
       "Coefficients:\n",
       "                    Estimate Std. Error  t value Pr(>|t|)    \n",
       "(Intercept)       -3.706e-02  2.694e-04 -137.588  < 2e-16 ***\n",
       "BrandOff-White    -2.155e-03  7.929e-06 -271.771  < 2e-16 ***\n",
       "Sneaker_Code       3.407e-05  2.874e-07  118.534  < 2e-16 ***\n",
       "Shoe_Size         -7.012e-06  9.568e-07   -7.328 2.36e-13 ***\n",
       "Release_Date       1.471e-06  1.153e-08  127.538  < 2e-16 ***\n",
       "Retail_Price       1.540e-06  9.600e-08   16.044  < 2e-16 ***\n",
       "Order_Date         7.556e-07  1.620e-08   46.638  < 2e-16 ***\n",
       "Buyer_Region_Code  3.416e-07  1.408e-07    2.426   0.0153 *  \n",
       "---\n",
       "Signif. codes:  0 '***' 0.001 '**' 0.01 '*' 0.05 '.' 0.1 ' ' 1\n",
       "\n",
       "(Dispersion parameter for Gamma family taken to be 0.1031458)\n",
       "\n",
       "    Null deviance: 22120  on 99955  degrees of freedom\n",
       "Residual deviance:  8656  on 99948  degrees of freedom\n",
       "AIC: 1238275\n",
       "\n",
       "Number of Fisher Scoring iterations: 5\n"
      ]
     },
     "metadata": {},
     "output_type": "display_data"
    }
   ],
   "source": [
    "summary(glm.fit)"
   ]
  },
  {
   "cell_type": "code",
   "execution_count": 41,
   "id": "7a5f22f6",
   "metadata": {},
   "outputs": [],
   "source": [
    "smp_size <- floor(0.8 * nrow(NewSneaker05))\n",
    "\n",
    "train_ind <- sample(seq_len(nrow(NewSneaker05)), size = smp_size)\n",
    "\n",
    "train <- NewSneaker05[train_ind, ]\n",
    "test <- NewSneaker05[-train_ind, ]"
   ]
  },
  {
   "cell_type": "code",
   "execution_count": 42,
   "id": "2f368eb0",
   "metadata": {},
   "outputs": [],
   "source": [
    "glm.fit = glm(Sale_Price~Brand+Sneaker_Code+Shoe_Size+Release_Date+\n",
    "              Retail_Price+Order_Date+Buyer_Region_Code, data = test, family = \"Gamma\")"
   ]
  },
  {
   "cell_type": "code",
   "execution_count": 43,
   "id": "46f3d01e",
   "metadata": {},
   "outputs": [
    {
     "data": {
      "text/plain": [
       "\n",
       "Call:\n",
       "glm(formula = Sale_Price ~ Brand + Sneaker_Code + Shoe_Size + \n",
       "    Release_Date + Retail_Price + Order_Date + Buyer_Region_Code, \n",
       "    family = \"Gamma\", data = test)\n",
       "\n",
       "Deviance Residuals: \n",
       "     Min        1Q    Median        3Q       Max  \n",
       "-0.99615  -0.22226  -0.06183   0.09447   2.78396  \n",
       "\n",
       "Coefficients:\n",
       "                    Estimate Std. Error  t value Pr(>|t|)    \n",
       "(Intercept)       -3.618e-02  6.022e-04  -60.080  < 2e-16 ***\n",
       "BrandOff-White    -2.186e-03  1.750e-05 -124.892  < 2e-16 ***\n",
       "Sneaker_Code       3.502e-05  6.430e-07   54.456  < 2e-16 ***\n",
       "Shoe_Size         -5.214e-06  2.163e-06   -2.410   0.0159 *  \n",
       "Release_Date       1.533e-06  2.585e-08   59.303  < 2e-16 ***\n",
       "Retail_Price       1.315e-06  2.176e-07    6.042 1.55e-09 ***\n",
       "Order_Date         6.443e-07  3.605e-08   17.873  < 2e-16 ***\n",
       "Buyer_Region_Code  8.207e-07  3.164e-07    2.594   0.0095 ** \n",
       "---\n",
       "Signif. codes:  0 '***' 0.001 '**' 0.01 '*' 0.05 '.' 0.1 ' ' 1\n",
       "\n",
       "(Dispersion parameter for Gamma family taken to be 0.1067774)\n",
       "\n",
       "    Null deviance: 4592.8  on 19991  degrees of freedom\n",
       "Residual deviance: 1776.2  on 19984  degrees of freedom\n",
       "AIC: 248494\n",
       "\n",
       "Number of Fisher Scoring iterations: 5\n"
      ]
     },
     "metadata": {},
     "output_type": "display_data"
    }
   ],
   "source": [
    "summary(glm.fit)"
   ]
  },
  {
   "cell_type": "code",
   "execution_count": 44,
   "id": "96cd190d",
   "metadata": {},
   "outputs": [
    {
     "data": {
      "text/html": [
       "1"
      ],
      "text/latex": [
       "1"
      ],
      "text/markdown": [
       "1"
      ],
      "text/plain": [
       "[1] 1"
      ]
     },
     "metadata": {},
     "output_type": "display_data"
    }
   ],
   "source": [
    "glm.probs = predict(glm.fit, newdata = test, type=\"response\")\n",
    "glm.pred=rep(\"No\",5000)\n",
    "glm.pred[glm.probs>0.5] = \"Yes\"\n",
    "mean(glm.pred != test$Sale_Price)"
   ]
  },
  {
   "cell_type": "markdown",
   "id": "2ca72a5f",
   "metadata": {},
   "source": [
    "## Method# 04 PCA\n"
   ]
  },
  {
   "cell_type": "code",
   "execution_count": 45,
   "id": "163da958",
   "metadata": {},
   "outputs": [],
   "source": [
    "library(psych)"
   ]
  },
  {
   "cell_type": "code",
   "execution_count": 46,
   "id": "f759e244",
   "metadata": {},
   "outputs": [],
   "source": [
    "fig <- function(width, heigth){\n",
    "     options(repr.plot.width = width, repr.plot.height = heigth)\n",
    "}"
   ]
  },
  {
   "cell_type": "code",
   "execution_count": 47,
   "id": "bea47967",
   "metadata": {},
   "outputs": [
    {
     "data": {
      "text/html": [
       "<table>\n",
       "<thead><tr><th scope=col>Sneaker_Code</th><th scope=col>Shoe_Size</th><th scope=col>Retail_Price</th><th scope=col>Buyer_Region_Code</th><th scope=col>Sale_Price</th></tr></thead>\n",
       "<tbody>\n",
       "\t<tr><td> 6  </td><td>11.0</td><td>220 </td><td> 5  </td><td>1097</td></tr>\n",
       "\t<tr><td>10  </td><td>11.0</td><td>220 </td><td> 5  </td><td> 685</td></tr>\n",
       "\t<tr><td>11  </td><td>11.0</td><td>220 </td><td> 5  </td><td> 690</td></tr>\n",
       "\t<tr><td>12  </td><td>11.5</td><td>220 </td><td>18  </td><td>1075</td></tr>\n",
       "\t<tr><td>13  </td><td>11.0</td><td>220 </td><td>40  </td><td> 828</td></tr>\n",
       "\t<tr><td>13  </td><td> 8.5</td><td>220 </td><td>23  </td><td> 798</td></tr>\n",
       "</tbody>\n",
       "</table>\n"
      ],
      "text/latex": [
       "\\begin{tabular}{r|lllll}\n",
       " Sneaker\\_Code & Shoe\\_Size & Retail\\_Price & Buyer\\_Region\\_Code & Sale\\_Price\\\\\n",
       "\\hline\n",
       "\t  6   & 11.0 & 220  &  5   & 1097\\\\\n",
       "\t 10   & 11.0 & 220  &  5   &  685\\\\\n",
       "\t 11   & 11.0 & 220  &  5   &  690\\\\\n",
       "\t 12   & 11.5 & 220  & 18   & 1075\\\\\n",
       "\t 13   & 11.0 & 220  & 40   &  828\\\\\n",
       "\t 13   &  8.5 & 220  & 23   &  798\\\\\n",
       "\\end{tabular}\n"
      ],
      "text/markdown": [
       "\n",
       "| Sneaker_Code | Shoe_Size | Retail_Price | Buyer_Region_Code | Sale_Price |\n",
       "|---|---|---|---|---|\n",
       "|  6   | 11.0 | 220  |  5   | 1097 |\n",
       "| 10   | 11.0 | 220  |  5   |  685 |\n",
       "| 11   | 11.0 | 220  |  5   |  690 |\n",
       "| 12   | 11.5 | 220  | 18   | 1075 |\n",
       "| 13   | 11.0 | 220  | 40   |  828 |\n",
       "| 13   |  8.5 | 220  | 23   |  798 |\n",
       "\n"
      ],
      "text/plain": [
       "  Sneaker_Code Shoe_Size Retail_Price Buyer_Region_Code Sale_Price\n",
       "1  6           11.0      220           5                1097      \n",
       "2 10           11.0      220           5                 685      \n",
       "3 11           11.0      220           5                 690      \n",
       "4 12           11.5      220          18                1075      \n",
       "5 13           11.0      220          40                 828      \n",
       "6 13            8.5      220          23                 798      "
      ]
     },
     "metadata": {},
     "output_type": "display_data"
    }
   ],
   "source": [
    "Sneaker_Code = as.numeric(Sneaker_Code)\n",
    "Buyer_Region_Code = as.numeric(Buyer_Region_Code)\n",
    "NewSneaker06 <- data.frame(Sneaker_Code, Shoe_Size, Retail_Price,Buyer_Region_Code, Sale_Price )\n",
    "head(NewSneaker06)"
   ]
  },
  {
   "cell_type": "code",
   "execution_count": 48,
   "id": "7ee20fb3",
   "metadata": {},
   "outputs": [
    {
     "data": {
      "text/html": [
       "<ol class=list-inline>\n",
       "\t<li>99956</li>\n",
       "\t<li>5</li>\n",
       "</ol>\n"
      ],
      "text/latex": [
       "\\begin{enumerate*}\n",
       "\\item 99956\n",
       "\\item 5\n",
       "\\end{enumerate*}\n"
      ],
      "text/markdown": [
       "1. 99956\n",
       "2. 5\n",
       "\n",
       "\n"
      ],
      "text/plain": [
       "[1] 99956     5"
      ]
     },
     "metadata": {},
     "output_type": "display_data"
    }
   ],
   "source": [
    "dim(NewSneaker06)"
   ]
  },
  {
   "cell_type": "code",
   "execution_count": 49,
   "id": "9fb8ef81",
   "metadata": {},
   "outputs": [
    {
     "data": {
      "text/html": [
       "<dl class=dl-horizontal>\n",
       "\t<dt>Sneaker_Code</dt>\n",
       "\t\t<dd>19.1346792588739</dd>\n",
       "\t<dt>Shoe_Size</dt>\n",
       "\t\t<dd>9.34418143983353</dd>\n",
       "\t<dt>Retail_Price</dt>\n",
       "\t\t<dd>208.613589979591</dd>\n",
       "\t<dt>Buyer_Region_Code</dt>\n",
       "\t\t<dd>24.0127456080676</dd>\n",
       "\t<dt>Sale_Price</dt>\n",
       "\t\t<dd>446.634719276482</dd>\n",
       "</dl>\n"
      ],
      "text/latex": [
       "\\begin{description*}\n",
       "\\item[Sneaker\\textbackslash{}\\_Code] 19.1346792588739\n",
       "\\item[Shoe\\textbackslash{}\\_Size] 9.34418143983353\n",
       "\\item[Retail\\textbackslash{}\\_Price] 208.613589979591\n",
       "\\item[Buyer\\textbackslash{}\\_Region\\textbackslash{}\\_Code] 24.0127456080676\n",
       "\\item[Sale\\textbackslash{}\\_Price] 446.634719276482\n",
       "\\end{description*}\n"
      ],
      "text/markdown": [
       "Sneaker_Code\n",
       ":   19.1346792588739Shoe_Size\n",
       ":   9.34418143983353Retail_Price\n",
       ":   208.613589979591Buyer_Region_Code\n",
       ":   24.0127456080676Sale_Price\n",
       ":   446.634719276482\n",
       "\n"
      ],
      "text/plain": [
       "     Sneaker_Code         Shoe_Size      Retail_Price Buyer_Region_Code \n",
       "        19.134679          9.344181        208.613590         24.012746 \n",
       "       Sale_Price \n",
       "       446.634719 "
      ]
     },
     "metadata": {},
     "output_type": "display_data"
    }
   ],
   "source": [
    "# apply () takes 3 arguments\n",
    "# first argument -  dataset\n",
    "# second argument 1 - rows, 2 - columns\n",
    "# third argument - function type,in this case, mean \n",
    "# result ~ means are different \n",
    "apply(NewSneaker06 , 2, mean)"
   ]
  },
  {
   "cell_type": "code",
   "execution_count": 50,
   "id": "b4066dc4",
   "metadata": {},
   "outputs": [],
   "source": [
    "#lapply(NewSneaker06, mean, na.rm = TRUE)\n",
    "#sapply(NewSneaker06, mean, na.rm = TRUE)\n",
    "#colMeans(NewSneaker06, na.rm = TRUE)"
   ]
  },
  {
   "cell_type": "code",
   "execution_count": 51,
   "id": "34021848",
   "metadata": {},
   "outputs": [
    {
     "data": {
      "text/html": [
       "<dl class=dl-horizontal>\n",
       "\t<dt>Sneaker_Code</dt>\n",
       "\t\t<dd>136.714631062148</dd>\n",
       "\t<dt>Shoe_Size</dt>\n",
       "\t\t<dd>5.42697839953386</dd>\n",
       "\t<dt>Retail_Price</dt>\n",
       "\t\t<dd>635.040481210262</dd>\n",
       "\t<dt>Buyer_Region_Code</dt>\n",
       "\t\t<dd>214.583320115005</dd>\n",
       "\t<dt>Sale_Price</dt>\n",
       "\t\t<dd>65527.2803448574</dd>\n",
       "</dl>\n"
      ],
      "text/latex": [
       "\\begin{description*}\n",
       "\\item[Sneaker\\textbackslash{}\\_Code] 136.714631062148\n",
       "\\item[Shoe\\textbackslash{}\\_Size] 5.42697839953386\n",
       "\\item[Retail\\textbackslash{}\\_Price] 635.040481210262\n",
       "\\item[Buyer\\textbackslash{}\\_Region\\textbackslash{}\\_Code] 214.583320115005\n",
       "\\item[Sale\\textbackslash{}\\_Price] 65527.2803448574\n",
       "\\end{description*}\n"
      ],
      "text/markdown": [
       "Sneaker_Code\n",
       ":   136.714631062148Shoe_Size\n",
       ":   5.42697839953386Retail_Price\n",
       ":   635.040481210262Buyer_Region_Code\n",
       ":   214.583320115005Sale_Price\n",
       ":   65527.2803448574\n",
       "\n"
      ],
      "text/plain": [
       "     Sneaker_Code         Shoe_Size      Retail_Price Buyer_Region_Code \n",
       "       136.714631          5.426978        635.040481        214.583320 \n",
       "       Sale_Price \n",
       "     65527.280345 "
      ]
     },
     "metadata": {},
     "output_type": "display_data"
    }
   ],
   "source": [
    "# Variance is a measure of how data points differ from the mean\n",
    "# result ~ vastly different variance \n",
    "# UrbanPop variable measures the percentage of the population in each state living in an urban area, \n",
    "# which is not a comparable number to the number of rapes in each state per 100,000 individuals.\n",
    "# Assault has largest meand and variance and PCA would be influcened by this feature\n",
    "apply(NewSneaker06 , 2, var)"
   ]
  },
  {
   "cell_type": "code",
   "execution_count": 52,
   "id": "49dd6bee",
   "metadata": {},
   "outputs": [],
   "source": [
    "# Standardize the variables to have mean zero and standard deviation one before performing PCA.\n",
    "# the option scale=TRUE, we scale the variables to have standard deviation one\n",
    "pr.out =prcomp ( NewSneaker06, scale =TRUE)"
   ]
  },
  {
   "cell_type": "code",
   "execution_count": 53,
   "id": "fdfe6358",
   "metadata": {},
   "outputs": [
    {
     "data": {
      "text/html": [
       "<ol class=list-inline>\n",
       "\t<li>'sdev'</li>\n",
       "\t<li>'rotation'</li>\n",
       "\t<li>'center'</li>\n",
       "\t<li>'scale'</li>\n",
       "\t<li>'x'</li>\n",
       "</ol>\n"
      ],
      "text/latex": [
       "\\begin{enumerate*}\n",
       "\\item 'sdev'\n",
       "\\item 'rotation'\n",
       "\\item 'center'\n",
       "\\item 'scale'\n",
       "\\item 'x'\n",
       "\\end{enumerate*}\n"
      ],
      "text/markdown": [
       "1. 'sdev'\n",
       "2. 'rotation'\n",
       "3. 'center'\n",
       "4. 'scale'\n",
       "5. 'x'\n",
       "\n",
       "\n"
      ],
      "text/plain": [
       "[1] \"sdev\"     \"rotation\" \"center\"   \"scale\"    \"x\"       "
      ]
     },
     "metadata": {},
     "output_type": "display_data"
    }
   ],
   "source": [
    "names(pr.out)"
   ]
  },
  {
   "cell_type": "code",
   "execution_count": 54,
   "id": "a4576028",
   "metadata": {},
   "outputs": [
    {
     "data": {
      "text/html": [
       "<dl class=dl-horizontal>\n",
       "\t<dt>Sneaker_Code</dt>\n",
       "\t\t<dd>19.1346792588739</dd>\n",
       "\t<dt>Shoe_Size</dt>\n",
       "\t\t<dd>9.34418143983353</dd>\n",
       "\t<dt>Retail_Price</dt>\n",
       "\t\t<dd>208.613589979591</dd>\n",
       "\t<dt>Buyer_Region_Code</dt>\n",
       "\t\t<dd>24.0127456080676</dd>\n",
       "\t<dt>Sale_Price</dt>\n",
       "\t\t<dd>446.634719276482</dd>\n",
       "</dl>\n"
      ],
      "text/latex": [
       "\\begin{description*}\n",
       "\\item[Sneaker\\textbackslash{}\\_Code] 19.1346792588739\n",
       "\\item[Shoe\\textbackslash{}\\_Size] 9.34418143983353\n",
       "\\item[Retail\\textbackslash{}\\_Price] 208.613589979591\n",
       "\\item[Buyer\\textbackslash{}\\_Region\\textbackslash{}\\_Code] 24.0127456080676\n",
       "\\item[Sale\\textbackslash{}\\_Price] 446.634719276482\n",
       "\\end{description*}\n"
      ],
      "text/markdown": [
       "Sneaker_Code\n",
       ":   19.1346792588739Shoe_Size\n",
       ":   9.34418143983353Retail_Price\n",
       ":   208.613589979591Buyer_Region_Code\n",
       ":   24.0127456080676Sale_Price\n",
       ":   446.634719276482\n",
       "\n"
      ],
      "text/plain": [
       "     Sneaker_Code         Shoe_Size      Retail_Price Buyer_Region_Code \n",
       "        19.134679          9.344181        208.613590         24.012746 \n",
       "       Sale_Price \n",
       "       446.634719 "
      ]
     },
     "metadata": {},
     "output_type": "display_data"
    }
   ],
   "source": [
    "pr.out$center"
   ]
  },
  {
   "cell_type": "code",
   "execution_count": 55,
   "id": "4b4bbaad",
   "metadata": {},
   "outputs": [
    {
     "data": {
      "text/html": [
       "<dl class=dl-horizontal>\n",
       "\t<dt>Sneaker_Code</dt>\n",
       "\t\t<dd>11.6925031991507</dd>\n",
       "\t<dt>Shoe_Size</dt>\n",
       "\t\t<dd>2.32958760288895</dd>\n",
       "\t<dt>Retail_Price</dt>\n",
       "\t\t<dd>25.2000095478208</dd>\n",
       "\t<dt>Buyer_Region_Code</dt>\n",
       "\t\t<dd>14.6486627415271</dd>\n",
       "\t<dt>Sale_Price</dt>\n",
       "\t\t<dd>255.982968857027</dd>\n",
       "</dl>\n"
      ],
      "text/latex": [
       "\\begin{description*}\n",
       "\\item[Sneaker\\textbackslash{}\\_Code] 11.6925031991507\n",
       "\\item[Shoe\\textbackslash{}\\_Size] 2.32958760288895\n",
       "\\item[Retail\\textbackslash{}\\_Price] 25.2000095478208\n",
       "\\item[Buyer\\textbackslash{}\\_Region\\textbackslash{}\\_Code] 14.6486627415271\n",
       "\\item[Sale\\textbackslash{}\\_Price] 255.982968857027\n",
       "\\end{description*}\n"
      ],
      "text/markdown": [
       "Sneaker_Code\n",
       ":   11.6925031991507Shoe_Size\n",
       ":   2.32958760288895Retail_Price\n",
       ":   25.2000095478208Buyer_Region_Code\n",
       ":   14.6486627415271Sale_Price\n",
       ":   255.982968857027\n",
       "\n"
      ],
      "text/plain": [
       "     Sneaker_Code         Shoe_Size      Retail_Price Buyer_Region_Code \n",
       "        11.692503          2.329588         25.200010         14.648663 \n",
       "       Sale_Price \n",
       "       255.982969 "
      ]
     },
     "metadata": {},
     "output_type": "display_data"
    }
   ],
   "source": [
    "pr.out$scale"
   ]
  },
  {
   "cell_type": "code",
   "execution_count": 56,
   "id": "6976986c",
   "metadata": {},
   "outputs": [
    {
     "data": {
      "text/html": [
       "<table>\n",
       "<thead><tr><th></th><th scope=col>PC1</th><th scope=col>PC2</th><th scope=col>PC3</th><th scope=col>PC4</th><th scope=col>PC5</th></tr></thead>\n",
       "<tbody>\n",
       "\t<tr><th scope=row>Sneaker_Code</th><td> 0.60553579</td><td>-0.11243408</td><td>-0.07641001</td><td> 0.40894406</td><td> 0.66903755</td></tr>\n",
       "\t<tr><th scope=row>Shoe_Size</th><td> 0.12441270</td><td> 0.53726012</td><td> 0.82058214</td><td> 0.14878234</td><td>-0.01953995</td></tr>\n",
       "\t<tr><th scope=row>Retail_Price</th><td>-0.63025218</td><td> 0.12476327</td><td> 0.07052820</td><td>-0.21639214</td><td> 0.73172162</td></tr>\n",
       "\t<tr><th scope=row>Buyer_Region_Code</th><td>-0.06076038</td><td>-0.82404470</td><td> 0.55988209</td><td>-0.05926525</td><td> 0.01667866</td></tr>\n",
       "\t<tr><th scope=row>Sale_Price</th><td> 0.46576630</td><td> 0.06398901</td><td> 0.04862386</td><td>-0.87194647</td><td> 0.12771938</td></tr>\n",
       "</tbody>\n",
       "</table>\n"
      ],
      "text/latex": [
       "\\begin{tabular}{r|lllll}\n",
       "  & PC1 & PC2 & PC3 & PC4 & PC5\\\\\n",
       "\\hline\n",
       "\tSneaker\\_Code &  0.60553579 & -0.11243408 & -0.07641001 &  0.40894406 &  0.66903755\\\\\n",
       "\tShoe\\_Size &  0.12441270 &  0.53726012 &  0.82058214 &  0.14878234 & -0.01953995\\\\\n",
       "\tRetail\\_Price & -0.63025218 &  0.12476327 &  0.07052820 & -0.21639214 &  0.73172162\\\\\n",
       "\tBuyer\\_Region\\_Code & -0.06076038 & -0.82404470 &  0.55988209 & -0.05926525 &  0.01667866\\\\\n",
       "\tSale\\_Price &  0.46576630 &  0.06398901 &  0.04862386 & -0.87194647 &  0.12771938\\\\\n",
       "\\end{tabular}\n"
      ],
      "text/markdown": [
       "\n",
       "| <!--/--> | PC1 | PC2 | PC3 | PC4 | PC5 |\n",
       "|---|---|---|---|---|---|\n",
       "| Sneaker_Code |  0.60553579 | -0.11243408 | -0.07641001 |  0.40894406 |  0.66903755 |\n",
       "| Shoe_Size |  0.12441270 |  0.53726012 |  0.82058214 |  0.14878234 | -0.01953995 |\n",
       "| Retail_Price | -0.63025218 |  0.12476327 |  0.07052820 | -0.21639214 |  0.73172162 |\n",
       "| Buyer_Region_Code | -0.06076038 | -0.82404470 |  0.55988209 | -0.05926525 |  0.01667866 |\n",
       "| Sale_Price |  0.46576630 |  0.06398901 |  0.04862386 | -0.87194647 |  0.12771938 |\n",
       "\n"
      ],
      "text/plain": [
       "                  PC1         PC2         PC3         PC4         PC5        \n",
       "Sneaker_Code       0.60553579 -0.11243408 -0.07641001  0.40894406  0.66903755\n",
       "Shoe_Size          0.12441270  0.53726012  0.82058214  0.14878234 -0.01953995\n",
       "Retail_Price      -0.63025218  0.12476327  0.07052820 -0.21639214  0.73172162\n",
       "Buyer_Region_Code -0.06076038 -0.82404470  0.55988209 -0.05926525  0.01667866\n",
       "Sale_Price         0.46576630  0.06398901  0.04862386 -0.87194647  0.12771938"
      ]
     },
     "metadata": {},
     "output_type": "display_data"
    }
   ],
   "source": [
    "# The rotation matrix provides the principal component loadings: each column\n",
    "# of pr.out$rotation contains the corresponding principal component loading vector.\n",
    "# Weight of the 1st Principal component correspond to first eiganvector of corresponding covariance matrix. \n",
    "# These weights are then used as coefficients in the linear combination of the standardized variables from which\n",
    "# the scores of the first principal component are calculated. \n",
    "pr.out$rotation"
   ]
  },
  {
   "cell_type": "code",
   "execution_count": 57,
   "id": "c9fefa4d",
   "metadata": {},
   "outputs": [
    {
     "data": {
      "text/html": [
       "<ol class=list-inline>\n",
       "\t<li>99956</li>\n",
       "\t<li>5</li>\n",
       "</ol>\n"
      ],
      "text/latex": [
       "\\begin{enumerate*}\n",
       "\\item 99956\n",
       "\\item 5\n",
       "\\end{enumerate*}\n"
      ],
      "text/markdown": [
       "1. 99956\n",
       "2. 5\n",
       "\n",
       "\n"
      ],
      "text/plain": [
       "[1] 99956     5"
      ]
     },
     "metadata": {},
     "output_type": "display_data"
    }
   ],
   "source": [
    "dim(pr.out$x)"
   ]
  },
  {
   "cell_type": "code",
   "execution_count": 58,
   "id": "8686119a",
   "metadata": {},
   "outputs": [
    {
     "data": {
      "text/html": [
       "<table>\n",
       "<thead><tr><th scope=col>PC1</th><th scope=col>PC2</th><th scope=col>PC3</th><th scope=col>PC4</th><th scope=col>PC5</th></tr></thead>\n",
       "<tbody>\n",
       "\t<tr><td> 0.385646906</td><td> 1.79666327 </td><td> 0.097809740</td><td>-2.5898046  </td><td>-0.13198051 </td></tr>\n",
       "\t<tr><td>-0.156842091</td><td> 1.65521045 </td><td>-0.006589325</td><td>-1.0465228  </td><td>-0.10866512 </td></tr>\n",
       "\t<tr><td>-0.095956108</td><td> 1.64684441 </td><td>-0.012174535</td><td>-1.0285792  </td><td>-0.04895107 </td></tr>\n",
       "\t<tr><td> 0.629128472</td><td> 1.11747970 </td><td> 0.727411919</td><td>-2.3256793  </td><td> 0.21096670 </td></tr>\n",
       "\t<tr><td> 0.113539923</td><td>-0.30677824 </td><td> 1.338692973</td><td>-1.5702966  </td><td> 0.17419122 </td></tr>\n",
       "\t<tr><td>-0.004045983</td><td> 0.06547778 </td><td>-0.197366157</td><td>-1.5589963  </td><td> 0.16083659 </td></tr>\n",
       "\t<tr><td> 0.230443973</td><td> 1.64149420 </td><td>-0.013924145</td><td>-1.2438437  </td><td> 0.16960709 </td></tr>\n",
       "\t<tr><td>-0.476837469</td><td>-0.25484752 </td><td> 0.635933209</td><td>-0.2823863  </td><td> 0.10543879 </td></tr>\n",
       "\t<tr><td>-0.347968882</td><td> 0.87708963 </td><td> 0.377595333</td><td>-0.1708188  </td><td> 0.08132849 </td></tr>\n",
       "\t<tr><td>-0.318933967</td><td> 1.27086707 </td><td> 0.110050458</td><td>-0.1424984  </td><td> 0.07335843 </td></tr>\n",
       "\t<tr><td>-0.288359951</td><td> 0.21734572 </td><td> 1.098304325</td><td>-0.3658399  </td><td> 0.11802158 </td></tr>\n",
       "\t<tr><td>-0.498809997</td><td>-0.87039098 </td><td> 1.058830215</td><td>-0.3711714  </td><td> 0.12444935 </td></tr>\n",
       "\t<tr><td>-0.434842492</td><td> 0.80836808 </td><td>-0.595386331</td><td>-0.2531998  </td><td> 0.08763920 </td></tr>\n",
       "\t<tr><td> 0.237351997</td><td> 1.20960749 </td><td> 1.650919995</td><td>-0.1862780  </td><td> 0.40148196 </td></tr>\n",
       "\t<tr><td>-0.206437651</td><td>-0.74792791 </td><td>-0.088881895</td><td>-0.4566520  </td><td> 0.44074196 </td></tr>\n",
       "\t<tr><td> 0.311914645</td><td> 1.55230204 </td><td>-0.077067539</td><td>-0.6048046  </td><td> 0.45005718 </td></tr>\n",
       "\t<tr><td> 0.177070970</td><td>-0.08106143 </td><td> 1.029813063</td><td>-0.6948821  </td><td> 0.47908448 </td></tr>\n",
       "\t<tr><td> 0.063328218</td><td>-0.15292318 </td><td> 0.555309469</td><td>-0.6103604  </td><td> 0.46409899 </td></tr>\n",
       "\t<tr><td>-0.036582867</td><td>-0.50130503 </td><td> 0.275518400</td><td>-0.6107867  </td><td> 0.46428620 </td></tr>\n",
       "\t<tr><td> 0.292871364</td><td>-0.68070866 </td><td>-1.289964041</td><td>-1.6828971  </td><td> 0.61248002 </td></tr>\n",
       "\t<tr><td>-0.019421818</td><td> 0.78178626 </td><td>-0.611725453</td><td>-0.3712643  </td><td> 0.41664459 </td></tr>\n",
       "\t<tr><td>-0.036077924</td><td>-0.66801227 </td><td> 0.642173794</td><td>-0.5888636  </td><td> 0.46428842 </td></tr>\n",
       "\t<tr><td> 0.439379656</td><td> 2.23967620 </td><td> 0.976243930</td><td>-0.3518927  </td><td> 0.41591313 </td></tr>\n",
       "\t<tr><td>-0.207399701</td><td> 1.26806175 </td><td>-1.158721159</td><td>-1.9238725  </td><td>-0.23460908 </td></tr>\n",
       "\t<tr><td> 0.464142170</td><td> 0.98316941 </td><td> 0.536853989</td><td>-2.0987361  </td><td> 0.17724135 </td></tr>\n",
       "\t<tr><td>-0.124353902</td><td>-0.39624762 </td><td> 0.349945491</td><td>-1.3699574  </td><td> 0.13909017 </td></tr>\n",
       "\t<tr><td>-0.132271347</td><td>-0.62062284 </td><td> 0.002450711</td><td>-1.5189805  </td><td> 0.15995132 </td></tr>\n",
       "\t<tr><td> 0.232337047</td><td> 1.02950510 </td><td> 0.662105864</td><td>-1.3190059  </td><td> 0.18819774 </td></tr>\n",
       "\t<tr><td>-0.315799868</td><td> 1.43807426 </td><td>-0.256225037</td><td>-0.1712340  </td><td> 0.07435409 </td></tr>\n",
       "\t<tr><td>-0.586782490</td><td>-0.88330383 </td><td> 0.297721663</td><td>-0.3813835  </td><td> 0.12121860 </td></tr>\n",
       "\t<tr><td>...</td><td>...</td><td>...</td><td>...</td><td>...</td></tr>\n",
       "\t<tr><td>-0.578749243</td><td>-0.5974614  </td><td> 0.78273837 </td><td> 0.245124232</td><td>0.2179280   </td></tr>\n",
       "\t<tr><td>-0.806255898</td><td>-1.8008388  </td><td>-0.93569974 </td><td>-0.160003887</td><td>0.2729797   </td></tr>\n",
       "\t<tr><td>-0.532487446</td><td> 0.0222458  </td><td> 1.11430168 </td><td> 0.463340729</td><td>0.1846854   </td></tr>\n",
       "\t<tr><td>-0.600906578</td><td> 0.3439189  </td><td>-1.88182021 </td><td> 0.020981385</td><td>0.2288739   </td></tr>\n",
       "\t<tr><td>-0.882806324</td><td>-1.9789591  </td><td>-1.32901321 </td><td>-0.168730480</td><td>0.2727448   </td></tr>\n",
       "\t<tr><td>-0.633384146</td><td>-0.9398986  </td><td> 0.25703238 </td><td> 0.101636911</td><td>0.2374947   </td></tr>\n",
       "\t<tr><td>-0.694067690</td><td>-1.1715231  </td><td>-0.09597093 </td><td> 0.051395597</td><td>0.2438866   </td></tr>\n",
       "\t<tr><td>-0.587846847</td><td>-0.5987113  </td><td> 0.78178862 </td><td> 0.262155570</td><td>0.2154333   </td></tr>\n",
       "\t<tr><td>-0.432182671</td><td> 1.1486051  </td><td>-0.65086738 </td><td> 0.278576404</td><td>0.1945275   </td></tr>\n",
       "\t<tr><td>-0.448170544</td><td> 1.4267582  </td><td> 0.90868579 </td><td> 0.775667077</td><td>0.1300143   </td></tr>\n",
       "\t<tr><td>-0.534897046</td><td> 0.1335585  </td><td> 1.28738425 </td><td> 0.549774201</td><td>0.1725085   </td></tr>\n",
       "\t<tr><td>-0.604861895</td><td>-0.8243364  </td><td> 0.43334409 </td><td> 0.130163836</td><td>0.2337997   </td></tr>\n",
       "\t<tr><td>-0.672507246</td><td> 0.1107946  </td><td>-2.23596322 </td><td>-0.008822324</td><td>0.2322722   </td></tr>\n",
       "\t<tr><td> 0.336546133</td><td> 1.5724168  </td><td>-0.06255470 </td><td>-0.782842748</td><td>0.4137932   </td></tr>\n",
       "\t<tr><td> 0.052553062</td><td> 0.5286069  </td><td>-1.65220933 </td><td>-0.988491056</td><td>0.4395635   </td></tr>\n",
       "\t<tr><td>-0.164925534</td><td>-0.8922706  </td><td> 0.29399589 </td><td>-0.643423450</td><td>0.4089706   </td></tr>\n",
       "\t<tr><td> 0.006248428</td><td> 1.9730629  </td><td> 0.09501712 </td><td> 0.046585601</td><td>0.2910850   </td></tr>\n",
       "\t<tr><td>-0.276014859</td><td>-1.5773950  </td><td>-0.75760604 </td><td>-0.926991824</td><td>0.4476051   </td></tr>\n",
       "\t<tr><td>-0.167362527</td><td> 2.1730501  </td><td> 0.92484426 </td><td> 0.652044039</td><td>0.2065180   </td></tr>\n",
       "\t<tr><td> 0.334726613</td><td> 1.5721669  </td><td>-0.06274465 </td><td>-0.779436480</td><td>0.4132942   </td></tr>\n",
       "\t<tr><td> 0.226882639</td><td> 0.1095650  </td><td> 0.93099346 </td><td>-0.884626739</td><td>0.4428973   </td></tr>\n",
       "\t<tr><td> 0.107237247</td><td> 1.2059822  </td><td>-0.60649585 </td><td>-0.599328390</td><td>0.3854619   </td></tr>\n",
       "\t<tr><td>-0.123666638</td><td>-0.7749585  </td><td> 0.47163724 </td><td>-0.638740398</td><td>0.4087682   </td></tr>\n",
       "\t<tr><td>-0.126715600</td><td>-0.8870211  </td><td> 0.29798483 </td><td>-0.714955067</td><td>0.4194483   </td></tr>\n",
       "\t<tr><td>-0.039406740</td><td>-0.1503065  </td><td> 0.55652584 </td><td>-0.549959827</td><td>0.3929094   </td></tr>\n",
       "\t<tr><td>-0.206184430</td><td>-1.0095827  </td><td> 0.11635453 </td><td>-0.648106502</td><td>0.4091730   </td></tr>\n",
       "\t<tr><td> 0.017441373</td><td> 0.9703581  </td><td>-0.96253836 </td><td>-0.595069424</td><td>0.3838709   </td></tr>\n",
       "\t<tr><td>-0.246178030</td><td>-1.2948755  </td><td>-0.94775977 </td><td>-0.923794266</td><td>0.4444069   </td></tr>\n",
       "\t<tr><td> 0.245570100</td><td> 1.5599182  </td><td>-0.07205218 </td><td>-0.612529373</td><td>0.3888463   </td></tr>\n",
       "\t<tr><td> 0.092311664</td><td>-0.5211722  </td><td> 1.59277725 </td><td>-0.704318895</td><td>0.4240677   </td></tr>\n",
       "</tbody>\n",
       "</table>\n"
      ],
      "text/latex": [
       "\\begin{tabular}{lllll}\n",
       " PC1 & PC2 & PC3 & PC4 & PC5\\\\\n",
       "\\hline\n",
       "\t  0.385646906 &  1.79666327  &  0.097809740 & -2.5898046   & -0.13198051 \\\\\n",
       "\t -0.156842091 &  1.65521045  & -0.006589325 & -1.0465228   & -0.10866512 \\\\\n",
       "\t -0.095956108 &  1.64684441  & -0.012174535 & -1.0285792   & -0.04895107 \\\\\n",
       "\t  0.629128472 &  1.11747970  &  0.727411919 & -2.3256793   &  0.21096670 \\\\\n",
       "\t  0.113539923 & -0.30677824  &  1.338692973 & -1.5702966   &  0.17419122 \\\\\n",
       "\t -0.004045983 &  0.06547778  & -0.197366157 & -1.5589963   &  0.16083659 \\\\\n",
       "\t  0.230443973 &  1.64149420  & -0.013924145 & -1.2438437   &  0.16960709 \\\\\n",
       "\t -0.476837469 & -0.25484752  &  0.635933209 & -0.2823863   &  0.10543879 \\\\\n",
       "\t -0.347968882 &  0.87708963  &  0.377595333 & -0.1708188   &  0.08132849 \\\\\n",
       "\t -0.318933967 &  1.27086707  &  0.110050458 & -0.1424984   &  0.07335843 \\\\\n",
       "\t -0.288359951 &  0.21734572  &  1.098304325 & -0.3658399   &  0.11802158 \\\\\n",
       "\t -0.498809997 & -0.87039098  &  1.058830215 & -0.3711714   &  0.12444935 \\\\\n",
       "\t -0.434842492 &  0.80836808  & -0.595386331 & -0.2531998   &  0.08763920 \\\\\n",
       "\t  0.237351997 &  1.20960749  &  1.650919995 & -0.1862780   &  0.40148196 \\\\\n",
       "\t -0.206437651 & -0.74792791  & -0.088881895 & -0.4566520   &  0.44074196 \\\\\n",
       "\t  0.311914645 &  1.55230204  & -0.077067539 & -0.6048046   &  0.45005718 \\\\\n",
       "\t  0.177070970 & -0.08106143  &  1.029813063 & -0.6948821   &  0.47908448 \\\\\n",
       "\t  0.063328218 & -0.15292318  &  0.555309469 & -0.6103604   &  0.46409899 \\\\\n",
       "\t -0.036582867 & -0.50130503  &  0.275518400 & -0.6107867   &  0.46428620 \\\\\n",
       "\t  0.292871364 & -0.68070866  & -1.289964041 & -1.6828971   &  0.61248002 \\\\\n",
       "\t -0.019421818 &  0.78178626  & -0.611725453 & -0.3712643   &  0.41664459 \\\\\n",
       "\t -0.036077924 & -0.66801227  &  0.642173794 & -0.5888636   &  0.46428842 \\\\\n",
       "\t  0.439379656 &  2.23967620  &  0.976243930 & -0.3518927   &  0.41591313 \\\\\n",
       "\t -0.207399701 &  1.26806175  & -1.158721159 & -1.9238725   & -0.23460908 \\\\\n",
       "\t  0.464142170 &  0.98316941  &  0.536853989 & -2.0987361   &  0.17724135 \\\\\n",
       "\t -0.124353902 & -0.39624762  &  0.349945491 & -1.3699574   &  0.13909017 \\\\\n",
       "\t -0.132271347 & -0.62062284  &  0.002450711 & -1.5189805   &  0.15995132 \\\\\n",
       "\t  0.232337047 &  1.02950510  &  0.662105864 & -1.3190059   &  0.18819774 \\\\\n",
       "\t -0.315799868 &  1.43807426  & -0.256225037 & -0.1712340   &  0.07435409 \\\\\n",
       "\t -0.586782490 & -0.88330383  &  0.297721663 & -0.3813835   &  0.12121860 \\\\\n",
       "\t ... & ... & ... & ... & ...\\\\\n",
       "\t -0.578749243 & -0.5974614   &  0.78273837  &  0.245124232 & 0.2179280   \\\\\n",
       "\t -0.806255898 & -1.8008388   & -0.93569974  & -0.160003887 & 0.2729797   \\\\\n",
       "\t -0.532487446 &  0.0222458   &  1.11430168  &  0.463340729 & 0.1846854   \\\\\n",
       "\t -0.600906578 &  0.3439189   & -1.88182021  &  0.020981385 & 0.2288739   \\\\\n",
       "\t -0.882806324 & -1.9789591   & -1.32901321  & -0.168730480 & 0.2727448   \\\\\n",
       "\t -0.633384146 & -0.9398986   &  0.25703238  &  0.101636911 & 0.2374947   \\\\\n",
       "\t -0.694067690 & -1.1715231   & -0.09597093  &  0.051395597 & 0.2438866   \\\\\n",
       "\t -0.587846847 & -0.5987113   &  0.78178862  &  0.262155570 & 0.2154333   \\\\\n",
       "\t -0.432182671 &  1.1486051   & -0.65086738  &  0.278576404 & 0.1945275   \\\\\n",
       "\t -0.448170544 &  1.4267582   &  0.90868579  &  0.775667077 & 0.1300143   \\\\\n",
       "\t -0.534897046 &  0.1335585   &  1.28738425  &  0.549774201 & 0.1725085   \\\\\n",
       "\t -0.604861895 & -0.8243364   &  0.43334409  &  0.130163836 & 0.2337997   \\\\\n",
       "\t -0.672507246 &  0.1107946   & -2.23596322  & -0.008822324 & 0.2322722   \\\\\n",
       "\t  0.336546133 &  1.5724168   & -0.06255470  & -0.782842748 & 0.4137932   \\\\\n",
       "\t  0.052553062 &  0.5286069   & -1.65220933  & -0.988491056 & 0.4395635   \\\\\n",
       "\t -0.164925534 & -0.8922706   &  0.29399589  & -0.643423450 & 0.4089706   \\\\\n",
       "\t  0.006248428 &  1.9730629   &  0.09501712  &  0.046585601 & 0.2910850   \\\\\n",
       "\t -0.276014859 & -1.5773950   & -0.75760604  & -0.926991824 & 0.4476051   \\\\\n",
       "\t -0.167362527 &  2.1730501   &  0.92484426  &  0.652044039 & 0.2065180   \\\\\n",
       "\t  0.334726613 &  1.5721669   & -0.06274465  & -0.779436480 & 0.4132942   \\\\\n",
       "\t  0.226882639 &  0.1095650   &  0.93099346  & -0.884626739 & 0.4428973   \\\\\n",
       "\t  0.107237247 &  1.2059822   & -0.60649585  & -0.599328390 & 0.3854619   \\\\\n",
       "\t -0.123666638 & -0.7749585   &  0.47163724  & -0.638740398 & 0.4087682   \\\\\n",
       "\t -0.126715600 & -0.8870211   &  0.29798483  & -0.714955067 & 0.4194483   \\\\\n",
       "\t -0.039406740 & -0.1503065   &  0.55652584  & -0.549959827 & 0.3929094   \\\\\n",
       "\t -0.206184430 & -1.0095827   &  0.11635453  & -0.648106502 & 0.4091730   \\\\\n",
       "\t  0.017441373 &  0.9703581   & -0.96253836  & -0.595069424 & 0.3838709   \\\\\n",
       "\t -0.246178030 & -1.2948755   & -0.94775977  & -0.923794266 & 0.4444069   \\\\\n",
       "\t  0.245570100 &  1.5599182   & -0.07205218  & -0.612529373 & 0.3888463   \\\\\n",
       "\t  0.092311664 & -0.5211722   &  1.59277725  & -0.704318895 & 0.4240677   \\\\\n",
       "\\end{tabular}\n"
      ],
      "text/markdown": [
       "\n",
       "| PC1 | PC2 | PC3 | PC4 | PC5 |\n",
       "|---|---|---|---|---|\n",
       "|  0.385646906 |  1.79666327  |  0.097809740 | -2.5898046   | -0.13198051  |\n",
       "| -0.156842091 |  1.65521045  | -0.006589325 | -1.0465228   | -0.10866512  |\n",
       "| -0.095956108 |  1.64684441  | -0.012174535 | -1.0285792   | -0.04895107  |\n",
       "|  0.629128472 |  1.11747970  |  0.727411919 | -2.3256793   |  0.21096670  |\n",
       "|  0.113539923 | -0.30677824  |  1.338692973 | -1.5702966   |  0.17419122  |\n",
       "| -0.004045983 |  0.06547778  | -0.197366157 | -1.5589963   |  0.16083659  |\n",
       "|  0.230443973 |  1.64149420  | -0.013924145 | -1.2438437   |  0.16960709  |\n",
       "| -0.476837469 | -0.25484752  |  0.635933209 | -0.2823863   |  0.10543879  |\n",
       "| -0.347968882 |  0.87708963  |  0.377595333 | -0.1708188   |  0.08132849  |\n",
       "| -0.318933967 |  1.27086707  |  0.110050458 | -0.1424984   |  0.07335843  |\n",
       "| -0.288359951 |  0.21734572  |  1.098304325 | -0.3658399   |  0.11802158  |\n",
       "| -0.498809997 | -0.87039098  |  1.058830215 | -0.3711714   |  0.12444935  |\n",
       "| -0.434842492 |  0.80836808  | -0.595386331 | -0.2531998   |  0.08763920  |\n",
       "|  0.237351997 |  1.20960749  |  1.650919995 | -0.1862780   |  0.40148196  |\n",
       "| -0.206437651 | -0.74792791  | -0.088881895 | -0.4566520   |  0.44074196  |\n",
       "|  0.311914645 |  1.55230204  | -0.077067539 | -0.6048046   |  0.45005718  |\n",
       "|  0.177070970 | -0.08106143  |  1.029813063 | -0.6948821   |  0.47908448  |\n",
       "|  0.063328218 | -0.15292318  |  0.555309469 | -0.6103604   |  0.46409899  |\n",
       "| -0.036582867 | -0.50130503  |  0.275518400 | -0.6107867   |  0.46428620  |\n",
       "|  0.292871364 | -0.68070866  | -1.289964041 | -1.6828971   |  0.61248002  |\n",
       "| -0.019421818 |  0.78178626  | -0.611725453 | -0.3712643   |  0.41664459  |\n",
       "| -0.036077924 | -0.66801227  |  0.642173794 | -0.5888636   |  0.46428842  |\n",
       "|  0.439379656 |  2.23967620  |  0.976243930 | -0.3518927   |  0.41591313  |\n",
       "| -0.207399701 |  1.26806175  | -1.158721159 | -1.9238725   | -0.23460908  |\n",
       "|  0.464142170 |  0.98316941  |  0.536853989 | -2.0987361   |  0.17724135  |\n",
       "| -0.124353902 | -0.39624762  |  0.349945491 | -1.3699574   |  0.13909017  |\n",
       "| -0.132271347 | -0.62062284  |  0.002450711 | -1.5189805   |  0.15995132  |\n",
       "|  0.232337047 |  1.02950510  |  0.662105864 | -1.3190059   |  0.18819774  |\n",
       "| -0.315799868 |  1.43807426  | -0.256225037 | -0.1712340   |  0.07435409  |\n",
       "| -0.586782490 | -0.88330383  |  0.297721663 | -0.3813835   |  0.12121860  |\n",
       "| ... | ... | ... | ... | ... |\n",
       "| -0.578749243 | -0.5974614   |  0.78273837  |  0.245124232 | 0.2179280    |\n",
       "| -0.806255898 | -1.8008388   | -0.93569974  | -0.160003887 | 0.2729797    |\n",
       "| -0.532487446 |  0.0222458   |  1.11430168  |  0.463340729 | 0.1846854    |\n",
       "| -0.600906578 |  0.3439189   | -1.88182021  |  0.020981385 | 0.2288739    |\n",
       "| -0.882806324 | -1.9789591   | -1.32901321  | -0.168730480 | 0.2727448    |\n",
       "| -0.633384146 | -0.9398986   |  0.25703238  |  0.101636911 | 0.2374947    |\n",
       "| -0.694067690 | -1.1715231   | -0.09597093  |  0.051395597 | 0.2438866    |\n",
       "| -0.587846847 | -0.5987113   |  0.78178862  |  0.262155570 | 0.2154333    |\n",
       "| -0.432182671 |  1.1486051   | -0.65086738  |  0.278576404 | 0.1945275    |\n",
       "| -0.448170544 |  1.4267582   |  0.90868579  |  0.775667077 | 0.1300143    |\n",
       "| -0.534897046 |  0.1335585   |  1.28738425  |  0.549774201 | 0.1725085    |\n",
       "| -0.604861895 | -0.8243364   |  0.43334409  |  0.130163836 | 0.2337997    |\n",
       "| -0.672507246 |  0.1107946   | -2.23596322  | -0.008822324 | 0.2322722    |\n",
       "|  0.336546133 |  1.5724168   | -0.06255470  | -0.782842748 | 0.4137932    |\n",
       "|  0.052553062 |  0.5286069   | -1.65220933  | -0.988491056 | 0.4395635    |\n",
       "| -0.164925534 | -0.8922706   |  0.29399589  | -0.643423450 | 0.4089706    |\n",
       "|  0.006248428 |  1.9730629   |  0.09501712  |  0.046585601 | 0.2910850    |\n",
       "| -0.276014859 | -1.5773950   | -0.75760604  | -0.926991824 | 0.4476051    |\n",
       "| -0.167362527 |  2.1730501   |  0.92484426  |  0.652044039 | 0.2065180    |\n",
       "|  0.334726613 |  1.5721669   | -0.06274465  | -0.779436480 | 0.4132942    |\n",
       "|  0.226882639 |  0.1095650   |  0.93099346  | -0.884626739 | 0.4428973    |\n",
       "|  0.107237247 |  1.2059822   | -0.60649585  | -0.599328390 | 0.3854619    |\n",
       "| -0.123666638 | -0.7749585   |  0.47163724  | -0.638740398 | 0.4087682    |\n",
       "| -0.126715600 | -0.8870211   |  0.29798483  | -0.714955067 | 0.4194483    |\n",
       "| -0.039406740 | -0.1503065   |  0.55652584  | -0.549959827 | 0.3929094    |\n",
       "| -0.206184430 | -1.0095827   |  0.11635453  | -0.648106502 | 0.4091730    |\n",
       "|  0.017441373 |  0.9703581   | -0.96253836  | -0.595069424 | 0.3838709    |\n",
       "| -0.246178030 | -1.2948755   | -0.94775977  | -0.923794266 | 0.4444069    |\n",
       "|  0.245570100 |  1.5599182   | -0.07205218  | -0.612529373 | 0.3888463    |\n",
       "|  0.092311664 | -0.5211722   |  1.59277725  | -0.704318895 | 0.4240677    |\n",
       "\n"
      ],
      "text/plain": [
       "      PC1          PC2         PC3          PC4          PC5        \n",
       " [1,]  0.385646906  1.79666327  0.097809740 -2.5898046   -0.13198051\n",
       " [2,] -0.156842091  1.65521045 -0.006589325 -1.0465228   -0.10866512\n",
       " [3,] -0.095956108  1.64684441 -0.012174535 -1.0285792   -0.04895107\n",
       " [4,]  0.629128472  1.11747970  0.727411919 -2.3256793    0.21096670\n",
       " [5,]  0.113539923 -0.30677824  1.338692973 -1.5702966    0.17419122\n",
       " [6,] -0.004045983  0.06547778 -0.197366157 -1.5589963    0.16083659\n",
       " [7,]  0.230443973  1.64149420 -0.013924145 -1.2438437    0.16960709\n",
       " [8,] -0.476837469 -0.25484752  0.635933209 -0.2823863    0.10543879\n",
       " [9,] -0.347968882  0.87708963  0.377595333 -0.1708188    0.08132849\n",
       "[10,] -0.318933967  1.27086707  0.110050458 -0.1424984    0.07335843\n",
       "[11,] -0.288359951  0.21734572  1.098304325 -0.3658399    0.11802158\n",
       "[12,] -0.498809997 -0.87039098  1.058830215 -0.3711714    0.12444935\n",
       "[13,] -0.434842492  0.80836808 -0.595386331 -0.2531998    0.08763920\n",
       "[14,]  0.237351997  1.20960749  1.650919995 -0.1862780    0.40148196\n",
       "[15,] -0.206437651 -0.74792791 -0.088881895 -0.4566520    0.44074196\n",
       "[16,]  0.311914645  1.55230204 -0.077067539 -0.6048046    0.45005718\n",
       "[17,]  0.177070970 -0.08106143  1.029813063 -0.6948821    0.47908448\n",
       "[18,]  0.063328218 -0.15292318  0.555309469 -0.6103604    0.46409899\n",
       "[19,] -0.036582867 -0.50130503  0.275518400 -0.6107867    0.46428620\n",
       "[20,]  0.292871364 -0.68070866 -1.289964041 -1.6828971    0.61248002\n",
       "[21,] -0.019421818  0.78178626 -0.611725453 -0.3712643    0.41664459\n",
       "[22,] -0.036077924 -0.66801227  0.642173794 -0.5888636    0.46428842\n",
       "[23,]  0.439379656  2.23967620  0.976243930 -0.3518927    0.41591313\n",
       "[24,] -0.207399701  1.26806175 -1.158721159 -1.9238725   -0.23460908\n",
       "[25,]  0.464142170  0.98316941  0.536853989 -2.0987361    0.17724135\n",
       "[26,] -0.124353902 -0.39624762  0.349945491 -1.3699574    0.13909017\n",
       "[27,] -0.132271347 -0.62062284  0.002450711 -1.5189805    0.15995132\n",
       "[28,]  0.232337047  1.02950510  0.662105864 -1.3190059    0.18819774\n",
       "[29,] -0.315799868  1.43807426 -0.256225037 -0.1712340    0.07435409\n",
       "[30,] -0.586782490 -0.88330383  0.297721663 -0.3813835    0.12121860\n",
       "[31,] ...          ...         ...          ...          ...        \n",
       "[32,] -0.578749243 -0.5974614   0.78273837   0.245124232 0.2179280  \n",
       "[33,] -0.806255898 -1.8008388  -0.93569974  -0.160003887 0.2729797  \n",
       "[34,] -0.532487446  0.0222458   1.11430168   0.463340729 0.1846854  \n",
       "[35,] -0.600906578  0.3439189  -1.88182021   0.020981385 0.2288739  \n",
       "[36,] -0.882806324 -1.9789591  -1.32901321  -0.168730480 0.2727448  \n",
       "[37,] -0.633384146 -0.9398986   0.25703238   0.101636911 0.2374947  \n",
       "[38,] -0.694067690 -1.1715231  -0.09597093   0.051395597 0.2438866  \n",
       "[39,] -0.587846847 -0.5987113   0.78178862   0.262155570 0.2154333  \n",
       "[40,] -0.432182671  1.1486051  -0.65086738   0.278576404 0.1945275  \n",
       "[41,] -0.448170544  1.4267582   0.90868579   0.775667077 0.1300143  \n",
       "[42,] -0.534897046  0.1335585   1.28738425   0.549774201 0.1725085  \n",
       "[43,] -0.604861895 -0.8243364   0.43334409   0.130163836 0.2337997  \n",
       "[44,] -0.672507246  0.1107946  -2.23596322  -0.008822324 0.2322722  \n",
       "[45,]  0.336546133  1.5724168  -0.06255470  -0.782842748 0.4137932  \n",
       "[46,]  0.052553062  0.5286069  -1.65220933  -0.988491056 0.4395635  \n",
       "[47,] -0.164925534 -0.8922706   0.29399589  -0.643423450 0.4089706  \n",
       "[48,]  0.006248428  1.9730629   0.09501712   0.046585601 0.2910850  \n",
       "[49,] -0.276014859 -1.5773950  -0.75760604  -0.926991824 0.4476051  \n",
       "[50,] -0.167362527  2.1730501   0.92484426   0.652044039 0.2065180  \n",
       "[51,]  0.334726613  1.5721669  -0.06274465  -0.779436480 0.4132942  \n",
       "[52,]  0.226882639  0.1095650   0.93099346  -0.884626739 0.4428973  \n",
       "[53,]  0.107237247  1.2059822  -0.60649585  -0.599328390 0.3854619  \n",
       "[54,] -0.123666638 -0.7749585   0.47163724  -0.638740398 0.4087682  \n",
       "[55,] -0.126715600 -0.8870211   0.29798483  -0.714955067 0.4194483  \n",
       "[56,] -0.039406740 -0.1503065   0.55652584  -0.549959827 0.3929094  \n",
       "[57,] -0.206184430 -1.0095827   0.11635453  -0.648106502 0.4091730  \n",
       "[58,]  0.017441373  0.9703581  -0.96253836  -0.595069424 0.3838709  \n",
       "[59,] -0.246178030 -1.2948755  -0.94775977  -0.923794266 0.4444069  \n",
       "[60,]  0.245570100  1.5599182  -0.07205218  -0.612529373 0.3888463  \n",
       "[61,]  0.092311664 -0.5211722   1.59277725  -0.704318895 0.4240677  "
      ]
     },
     "metadata": {},
     "output_type": "display_data"
    }
   ],
   "source": [
    "# scores are calcualted and stored in x matrix \n",
    "pr.out$x"
   ]
  },
  {
   "cell_type": "code",
   "execution_count": 59,
   "id": "3d9654d6",
   "metadata": {},
   "outputs": [
    {
     "data": {
      "image/png": "[encoded data removed]",
      "text/plain": [
       "plot without title"
      ]
     },
     "metadata": {},
     "output_type": "display_data"
    }
   ],
   "source": [
    "# The scale=0 argument to biplot() ensures that the arrows are scaled to represent the loadings\n",
    "fig(10,7)\n",
    "biplot (pr.out , scale =0)"
   ]
  },
  {
   "cell_type": "markdown",
   "id": "d15b4dfd",
   "metadata": {},
   "source": [
    "## This graph show Sale_Price and Sneaker_Code are highly correlated."
   ]
  },
  {
   "cell_type": "code",
   "execution_count": 60,
   "id": "8a9e58da",
   "metadata": {},
   "outputs": [
    {
     "data": {
      "image/png": "[encoded data removed]",
      "text/plain": [
       "plot without title"
      ]
     },
     "metadata": {},
     "output_type": "display_data"
    }
   ],
   "source": [
    "# change of sign\n",
    "pr.out$rotation=-pr.out$rotation\n",
    "pr.out$x=-pr.out$x\n",
    "biplot (pr.out , scale =0)"
   ]
  },
  {
   "cell_type": "code",
   "execution_count": 61,
   "id": "7fee76bb",
   "metadata": {},
   "outputs": [
    {
     "data": {
      "text/html": [
       "<ol class=list-inline>\n",
       "\t<li>1.87834981917779</li>\n",
       "\t<li>1.00282645603755</li>\n",
       "\t<li>0.986748658769526</li>\n",
       "\t<li>0.762936510877157</li>\n",
       "\t<li>0.369138555138168</li>\n",
       "</ol>\n"
      ],
      "text/latex": [
       "\\begin{enumerate*}\n",
       "\\item 1.87834981917779\n",
       "\\item 1.00282645603755\n",
       "\\item 0.986748658769526\n",
       "\\item 0.762936510877157\n",
       "\\item 0.369138555138168\n",
       "\\end{enumerate*}\n"
      ],
      "text/markdown": [
       "1. 1.87834981917779\n",
       "2. 1.00282645603755\n",
       "3. 0.986748658769526\n",
       "4. 0.762936510877157\n",
       "5. 0.369138555138168\n",
       "\n",
       "\n"
      ],
      "text/plain": [
       "[1] 1.8783498 1.0028265 0.9867487 0.7629365 0.3691386"
      ]
     },
     "metadata": {},
     "output_type": "display_data"
    }
   ],
   "source": [
    "# The variance explained by each principal component is obtained by squaring\n",
    "# these\n",
    "pr.var =pr.out$sdev ^2\n",
    "pr.var"
   ]
  },
  {
   "cell_type": "code",
   "execution_count": 62,
   "id": "32ec500f",
   "metadata": {},
   "outputs": [
    {
     "data": {
      "image/png": "[encoded data removed]",
      "text/plain": [
       "plot without title"
      ]
     },
     "metadata": {},
     "output_type": "display_data"
    }
   ],
   "source": [
    "pairs.panels(pr.out$x,\n",
    "            gap =0,\n",
    "            bg=(\"blue\")[train$sale_Price],\n",
    "            pch=21)"
   ]
  },
  {
   "cell_type": "markdown",
   "id": "49f4d248",
   "metadata": {},
   "source": [
    "### This graph show there is no multicolianrity. "
   ]
  },
  {
   "cell_type": "code",
   "execution_count": 63,
   "id": "97c1b253",
   "metadata": {},
   "outputs": [
    {
     "data": {
      "text/plain": [
       "Importance of components:\n",
       "                          PC1    PC2    PC3    PC4     PC5\n",
       "Standard deviation     1.3705 1.0014 0.9934 0.8735 0.60757\n",
       "Proportion of Variance 0.3757 0.2006 0.1973 0.1526 0.07383\n",
       "Cumulative Proportion  0.3757 0.5762 0.7736 0.9262 1.00000"
      ]
     },
     "metadata": {},
     "output_type": "display_data"
    }
   ],
   "source": [
    "summary(pr.out)"
   ]
  },
  {
   "cell_type": "markdown",
   "id": "1d314344",
   "metadata": {},
   "source": [
    "### The Proportion of variance row show most of data belongs to PC1 and PC2. Also based on cumulative proportion, we can eleminate PC5, this 92% of data fall into PC1~PC4. "
   ]
  },
  {
   "cell_type": "code",
   "execution_count": null,
   "id": "83223832",
   "metadata": {},
   "outputs": [],
   "source": []
  }
 ],
 "metadata": {
  "kernelspec": {
   "display_name": "R",
   "language": "R",
   "name": "ir"
  },
  "language_info": {
   "codemirror_mode": "r",
   "file_extension": ".r",
   "mimetype": "text/x-r-source",
   "name": "R",
   "pygments_lexer": "r",
   "version": "3.6.1"
  }
 },
 "nbformat": 4,
 "nbformat_minor": 5
}
