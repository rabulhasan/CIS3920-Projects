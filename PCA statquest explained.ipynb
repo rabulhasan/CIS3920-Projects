{
 "cells": [
  {
   "cell_type": "code",
   "execution_count": 2,
   "id": "56bdf750",
   "metadata": {},
   "outputs": [
    {
     "data": {
      "text/html": [
       "<table>\n",
       "<thead><tr><th></th><th scope=col>wt1</th><th scope=col>wt2</th><th scope=col>wt3</th><th scope=col>wt4</th><th scope=col>wt5</th><th scope=col>ko1</th><th scope=col>ko2</th><th scope=col>ko3</th><th scope=col>ko4</th><th scope=col>ko5</th></tr></thead>\n",
       "<tbody>\n",
       "\t<tr><th scope=row>gene1</th><td>942</td><td>963</td><td>951</td><td>902</td><td>896</td><td>208</td><td>226</td><td>225</td><td>225</td><td>187</td></tr>\n",
       "\t<tr><th scope=row>gene2</th><td>643</td><td>632</td><td>665</td><td>657</td><td>704</td><td>275</td><td>269</td><td>264</td><td>304</td><td>305</td></tr>\n",
       "\t<tr><th scope=row>gene3</th><td>895</td><td>967</td><td>902</td><td>894</td><td>940</td><td>143</td><td>149</td><td>130</td><td>129</td><td>131</td></tr>\n",
       "\t<tr><th scope=row>gene4</th><td>930</td><td>910</td><td>915</td><td>901</td><td>950</td><td>552</td><td>576</td><td>615</td><td>607</td><td>566</td></tr>\n",
       "\t<tr><th scope=row>gene5</th><td>780</td><td>784</td><td>810</td><td>817</td><td>798</td><td>814</td><td>794</td><td>795</td><td>790</td><td>780</td></tr>\n",
       "\t<tr><th scope=row>gene6</th><td>892</td><td>922</td><td>974</td><td>937</td><td>959</td><td>402</td><td>357</td><td>388</td><td>413</td><td>416</td></tr>\n",
       "</tbody>\n",
       "</table>\n"
      ],
      "text/latex": [
       "\\begin{tabular}{r|llllllllll}\n",
       "  & wt1 & wt2 & wt3 & wt4 & wt5 & ko1 & ko2 & ko3 & ko4 & ko5\\\\\n",
       "\\hline\n",
       "\tgene1 & 942 & 963 & 951 & 902 & 896 & 208 & 226 & 225 & 225 & 187\\\\\n",
       "\tgene2 & 643 & 632 & 665 & 657 & 704 & 275 & 269 & 264 & 304 & 305\\\\\n",
       "\tgene3 & 895 & 967 & 902 & 894 & 940 & 143 & 149 & 130 & 129 & 131\\\\\n",
       "\tgene4 & 930 & 910 & 915 & 901 & 950 & 552 & 576 & 615 & 607 & 566\\\\\n",
       "\tgene5 & 780 & 784 & 810 & 817 & 798 & 814 & 794 & 795 & 790 & 780\\\\\n",
       "\tgene6 & 892 & 922 & 974 & 937 & 959 & 402 & 357 & 388 & 413 & 416\\\\\n",
       "\\end{tabular}\n"
      ],
      "text/markdown": [
       "\n",
       "| <!--/--> | wt1 | wt2 | wt3 | wt4 | wt5 | ko1 | ko2 | ko3 | ko4 | ko5 |\n",
       "|---|---|---|---|---|---|---|---|---|---|---|\n",
       "| gene1 | 942 | 963 | 951 | 902 | 896 | 208 | 226 | 225 | 225 | 187 |\n",
       "| gene2 | 643 | 632 | 665 | 657 | 704 | 275 | 269 | 264 | 304 | 305 |\n",
       "| gene3 | 895 | 967 | 902 | 894 | 940 | 143 | 149 | 130 | 129 | 131 |\n",
       "| gene4 | 930 | 910 | 915 | 901 | 950 | 552 | 576 | 615 | 607 | 566 |\n",
       "| gene5 | 780 | 784 | 810 | 817 | 798 | 814 | 794 | 795 | 790 | 780 |\n",
       "| gene6 | 892 | 922 | 974 | 937 | 959 | 402 | 357 | 388 | 413 | 416 |\n",
       "\n"
      ],
      "text/plain": [
       "      wt1 wt2 wt3 wt4 wt5 ko1 ko2 ko3 ko4 ko5\n",
       "gene1 942 963 951 902 896 208 226 225 225 187\n",
       "gene2 643 632 665 657 704 275 269 264 304 305\n",
       "gene3 895 967 902 894 940 143 149 130 129 131\n",
       "gene4 930 910 915 901 950 552 576 615 607 566\n",
       "gene5 780 784 810 817 798 814 794 795 790 780\n",
       "gene6 892 922 974 937 959 402 357 388 413 416"
      ]
     },
     "metadata": {},
     "output_type": "display_data"
    },
    {
     "data": {
      "text/html": [
       "<ol class=list-inline>\n",
       "\t<li>100</li>\n",
       "\t<li>10</li>\n",
       "</ol>\n"
      ],
      "text/latex": [
       "\\begin{enumerate*}\n",
       "\\item 100\n",
       "\\item 10\n",
       "\\end{enumerate*}\n"
      ],
      "text/markdown": [
       "1. 100\n",
       "2. 10\n",
       "\n",
       "\n"
      ],
      "text/plain": [
       "[1] 100  10"
      ]
     },
     "metadata": {},
     "output_type": "display_data"
    }
   ],
   "source": [
    "## In this example, the data is in a matrix called\n",
    "## data.matrix\n",
    "## columns are individual samples (i.e. cells)\n",
    "## rows are measurements taken for all the samples (i.e. genes)\n",
    "## Just for the sake of the example, here's some made up data...\n",
    "data.matrix <- matrix(nrow=100, ncol=10)\n",
    "colnames(data.matrix) <- c(\n",
    "  paste(\"wt\", 1:5, sep=\"\"),\n",
    "  paste(\"ko\", 1:5, sep=\"\"))\n",
    "rownames(data.matrix) <- paste(\"gene\", 1:100, sep=\"\")\n",
    "for (i in 1:100) {\n",
    "  wt.values <- rpois(5, lambda=sample(x=10:1000, size=1))\n",
    "  ko.values <- rpois(5, lambda=sample(x=10:1000, size=1))\n",
    " \n",
    "  data.matrix[i,] <- c(wt.values, ko.values)\n",
    "}\n",
    "head(data.matrix)\n",
    "dim(data.matrix)\n",
    " \n",
    "pca <- prcomp(t(data.matrix), scale=TRUE) \n",
    " \n"
   ]
  },
  {
   "cell_type": "code",
   "execution_count": 3,
   "id": "c83e8c85",
   "metadata": {},
   "outputs": [
    {
     "data": {
      "image/png": "[encoded data removed]",
      "text/plain": [
       "plot without title"
      ]
     },
     "metadata": {},
     "output_type": "display_data"
    }
   ],
   "source": [
    "## plot pc1 and pc2\n",
    "plot(pca$x[,1], pca$x[,2])\n",
    " \n"
   ]
  },
  {
   "cell_type": "code",
   "execution_count": 4,
   "id": "bbc1e759",
   "metadata": {},
   "outputs": [
    {
     "data": {
      "image/png": "[encoded data removed]",
      "text/plain": [
       "Plot with title \"Scree Plot\""
      ]
     },
     "metadata": {},
     "output_type": "display_data"
    }
   ],
   "source": [
    "## make a scree plot\n",
    "pca.var <- pca$sdev^2\n",
    "pca.var.per <- round(pca.var/sum(pca.var)*100, 1)\n",
    " \n",
    "barplot(pca.var.per, main=\"Scree Plot\", xlab=\"Principal Component\", ylab=\"Percent Variation\")\n",
    " \n"
   ]
  },
  {
   "cell_type": "code",
   "execution_count": 5,
   "id": "0d061ec0",
   "metadata": {},
   "outputs": [
    {
     "data": {
      "text/html": [
       "<table>\n",
       "<thead><tr><th></th><th scope=col>Sample</th><th scope=col>X</th><th scope=col>Y</th></tr></thead>\n",
       "<tbody>\n",
       "\t<tr><th scope=row>wt1</th><td>wt1       </td><td>-8.536859 </td><td> 4.1951078</td></tr>\n",
       "\t<tr><th scope=row>wt2</th><td>wt2       </td><td>-8.961259 </td><td>-0.5878184</td></tr>\n",
       "\t<tr><th scope=row>wt3</th><td>wt3       </td><td>-8.808129 </td><td>-1.3416264</td></tr>\n",
       "\t<tr><th scope=row>wt4</th><td>wt4       </td><td>-8.879679 </td><td>-3.5564491</td></tr>\n",
       "\t<tr><th scope=row>wt5</th><td>wt5       </td><td>-8.736754 </td><td> 1.3274361</td></tr>\n",
       "\t<tr><th scope=row>ko1</th><td>ko1       </td><td> 8.784655 </td><td>-1.0160527</td></tr>\n",
       "\t<tr><th scope=row>ko2</th><td>ko2       </td><td> 8.811275 </td><td>-0.8524777</td></tr>\n",
       "\t<tr><th scope=row>ko3</th><td>ko3       </td><td> 9.062492 </td><td>-1.2208354</td></tr>\n",
       "\t<tr><th scope=row>ko4</th><td>ko4       </td><td> 8.555178 </td><td> 2.2082823</td></tr>\n",
       "\t<tr><th scope=row>ko5</th><td>ko5       </td><td> 8.709080 </td><td> 0.8444334</td></tr>\n",
       "</tbody>\n",
       "</table>\n"
      ],
      "text/latex": [
       "\\begin{tabular}{r|lll}\n",
       "  & Sample & X & Y\\\\\n",
       "\\hline\n",
       "\twt1 & wt1        & -8.536859  &  4.1951078\\\\\n",
       "\twt2 & wt2        & -8.961259  & -0.5878184\\\\\n",
       "\twt3 & wt3        & -8.808129  & -1.3416264\\\\\n",
       "\twt4 & wt4        & -8.879679  & -3.5564491\\\\\n",
       "\twt5 & wt5        & -8.736754  &  1.3274361\\\\\n",
       "\tko1 & ko1        &  8.784655  & -1.0160527\\\\\n",
       "\tko2 & ko2        &  8.811275  & -0.8524777\\\\\n",
       "\tko3 & ko3        &  9.062492  & -1.2208354\\\\\n",
       "\tko4 & ko4        &  8.555178  &  2.2082823\\\\\n",
       "\tko5 & ko5        &  8.709080  &  0.8444334\\\\\n",
       "\\end{tabular}\n"
      ],
      "text/markdown": [
       "\n",
       "| <!--/--> | Sample | X | Y |\n",
       "|---|---|---|---|\n",
       "| wt1 | wt1        | -8.536859  |  4.1951078 |\n",
       "| wt2 | wt2        | -8.961259  | -0.5878184 |\n",
       "| wt3 | wt3        | -8.808129  | -1.3416264 |\n",
       "| wt4 | wt4        | -8.879679  | -3.5564491 |\n",
       "| wt5 | wt5        | -8.736754  |  1.3274361 |\n",
       "| ko1 | ko1        |  8.784655  | -1.0160527 |\n",
       "| ko2 | ko2        |  8.811275  | -0.8524777 |\n",
       "| ko3 | ko3        |  9.062492  | -1.2208354 |\n",
       "| ko4 | ko4        |  8.555178  |  2.2082823 |\n",
       "| ko5 | ko5        |  8.709080  |  0.8444334 |\n",
       "\n"
      ],
      "text/plain": [
       "    Sample X         Y         \n",
       "wt1 wt1    -8.536859  4.1951078\n",
       "wt2 wt2    -8.961259 -0.5878184\n",
       "wt3 wt3    -8.808129 -1.3416264\n",
       "wt4 wt4    -8.879679 -3.5564491\n",
       "wt5 wt5    -8.736754  1.3274361\n",
       "ko1 ko1     8.784655 -1.0160527\n",
       "ko2 ko2     8.811275 -0.8524777\n",
       "ko3 ko3     9.062492 -1.2208354\n",
       "ko4 ko4     8.555178  2.2082823\n",
       "ko5 ko5     8.709080  0.8444334"
      ]
     },
     "metadata": {},
     "output_type": "display_data"
    },
    {
     "data": {
      "image/png": "[encoded data removed]",
      "text/plain": [
       "plot without title"
      ]
     },
     "metadata": {},
     "output_type": "display_data"
    }
   ],
   "source": [
    "## now make a fancy looking plot that shows the PCs and the variation:\n",
    "library(ggplot2)\n",
    " \n",
    "pca.data <- data.frame(Sample=rownames(pca$x),\n",
    "  X=pca$x[,1],\n",
    "  Y=pca$x[,2])\n",
    "pca.data\n",
    " \n",
    "ggplot(data=pca.data, aes(x=X, y=Y, label=Sample)) +\n",
    "  geom_text() +\n",
    "  xlab(paste(\"PC1 - \", pca.var.per[1], \"%\", sep=\"\")) +\n",
    "  ylab(paste(\"PC2 - \", pca.var.per[2], \"%\", sep=\"\")) +\n",
    "  theme_bw() +\n",
    "  ggtitle(\"My PCA Graph\")\n",
    " "
   ]
  },
  {
   "cell_type": "code",
   "execution_count": 6,
   "id": "6bee3b27",
   "metadata": {},
   "outputs": [
    {
     "data": {
      "text/html": [
       "<ol class=list-inline>\n",
       "\t<li>'gene49'</li>\n",
       "\t<li>'gene17'</li>\n",
       "\t<li>'gene12'</li>\n",
       "\t<li>'gene46'</li>\n",
       "\t<li>'gene8'</li>\n",
       "\t<li>'gene56'</li>\n",
       "\t<li>'gene97'</li>\n",
       "\t<li>'gene45'</li>\n",
       "\t<li>'gene20'</li>\n",
       "\t<li>'gene42'</li>\n",
       "</ol>\n"
      ],
      "text/latex": [
       "\\begin{enumerate*}\n",
       "\\item 'gene49'\n",
       "\\item 'gene17'\n",
       "\\item 'gene12'\n",
       "\\item 'gene46'\n",
       "\\item 'gene8'\n",
       "\\item 'gene56'\n",
       "\\item 'gene97'\n",
       "\\item 'gene45'\n",
       "\\item 'gene20'\n",
       "\\item 'gene42'\n",
       "\\end{enumerate*}\n"
      ],
      "text/markdown": [
       "1. 'gene49'\n",
       "2. 'gene17'\n",
       "3. 'gene12'\n",
       "4. 'gene46'\n",
       "5. 'gene8'\n",
       "6. 'gene56'\n",
       "7. 'gene97'\n",
       "8. 'gene45'\n",
       "9. 'gene20'\n",
       "10. 'gene42'\n",
       "\n",
       "\n"
      ],
      "text/plain": [
       " [1] \"gene49\" \"gene17\" \"gene12\" \"gene46\" \"gene8\"  \"gene56\" \"gene97\" \"gene45\"\n",
       " [9] \"gene20\" \"gene42\""
      ]
     },
     "metadata": {},
     "output_type": "display_data"
    },
    {
     "data": {
      "text/html": [
       "<dl class=dl-horizontal>\n",
       "\t<dt>gene49</dt>\n",
       "\t\t<dd>0.107954164441764</dd>\n",
       "\t<dt>gene17</dt>\n",
       "\t\t<dd>0.10791689367423</dd>\n",
       "\t<dt>gene12</dt>\n",
       "\t\t<dd>-0.107897094249739</dd>\n",
       "\t<dt>gene46</dt>\n",
       "\t\t<dd>-0.107896312658937</dd>\n",
       "\t<dt>gene8</dt>\n",
       "\t\t<dd>0.107886497719022</dd>\n",
       "\t<dt>gene56</dt>\n",
       "\t\t<dd>-0.107865803034015</dd>\n",
       "\t<dt>gene97</dt>\n",
       "\t\t<dd>0.107863887578901</dd>\n",
       "\t<dt>gene45</dt>\n",
       "\t\t<dd>-0.107862285538238</dd>\n",
       "\t<dt>gene20</dt>\n",
       "\t\t<dd>-0.107857492663244</dd>\n",
       "\t<dt>gene42</dt>\n",
       "\t\t<dd>-0.107855731226254</dd>\n",
       "</dl>\n"
      ],
      "text/latex": [
       "\\begin{description*}\n",
       "\\item[gene49] 0.107954164441764\n",
       "\\item[gene17] 0.10791689367423\n",
       "\\item[gene12] -0.107897094249739\n",
       "\\item[gene46] -0.107896312658937\n",
       "\\item[gene8] 0.107886497719022\n",
       "\\item[gene56] -0.107865803034015\n",
       "\\item[gene97] 0.107863887578901\n",
       "\\item[gene45] -0.107862285538238\n",
       "\\item[gene20] -0.107857492663244\n",
       "\\item[gene42] -0.107855731226254\n",
       "\\end{description*}\n"
      ],
      "text/markdown": [
       "gene49\n",
       ":   0.107954164441764gene17\n",
       ":   0.10791689367423gene12\n",
       ":   -0.107897094249739gene46\n",
       ":   -0.107896312658937gene8\n",
       ":   0.107886497719022gene56\n",
       ":   -0.107865803034015gene97\n",
       ":   0.107863887578901gene45\n",
       ":   -0.107862285538238gene20\n",
       ":   -0.107857492663244gene42\n",
       ":   -0.107855731226254\n",
       "\n"
      ],
      "text/plain": [
       "    gene49     gene17     gene12     gene46      gene8     gene56     gene97 \n",
       " 0.1079542  0.1079169 -0.1078971 -0.1078963  0.1078865 -0.1078658  0.1078639 \n",
       "    gene45     gene20     gene42 \n",
       "-0.1078623 -0.1078575 -0.1078557 "
      ]
     },
     "metadata": {},
     "output_type": "display_data"
    }
   ],
   "source": [
    "\n",
    "## get the name of the top 10 measurements (genes) that contribute\n",
    "## most to pc1.\n",
    "loading_scores <- pca$rotation[,1]\n",
    "gene_scores <- abs(loading_scores) ## get the magnitudes\n",
    "gene_score_ranked <- sort(gene_scores, decreasing=TRUE)\n",
    "top_10_genes <- names(gene_score_ranked[1:10])\n",
    " \n",
    "top_10_genes ## show the names of the top 10 genes\n",
    " \n",
    "pca$rotation[top_10_genes,1] ## show the scores (and +/- sign)\n",
    " \n"
   ]
  },
  {
   "cell_type": "code",
   "execution_count": 7,
   "id": "bcad54e7",
   "metadata": {},
   "outputs": [],
   "source": [
    "#######\n",
    "##\n",
    "## NOTE: Everything that follow is just bonus stuff.\n",
    "## It simply demonstrates how to get the same\n",
    "## results using \"svd()\" (Singular Value Decomposition) or using \"eigen()\"\n",
    "## (Eigen Decomposition).\n",
    "##\n",
    "#######\n",
    " \n",
    "############################################\n",
    "##\n",
    "## Now let's do the same thing with svd()\n",
    "##\n",
    "## svd() returns three things\n",
    "## v = the \"rotation\" that prcomp() returns, this is a matrix of eigenvectors\n",
    "##     in other words, a matrix of loading scores\n",
    "## u = this is similar to the \"x\" that prcomp() returns. In other words,\n",
    "##     sum(the rotation * the original data), but compressed to the unit vector\n",
    "##     You can spread it out by multiplying by \"d\"\n",
    "## d = this is similar to the \"sdev\" value that prcomp() returns (and thus\n",
    "##     related to the eigen values), but not\n",
    "##     scaled by sample size in an unbiased way (ie. 1/(n-1)).\n",
    "##     For prcomp(), sdev = sqrt(var) = sqrt(ss(fit)/(n-1))\n",
    "##     For svd(), d = sqrt(ss(fit))\n",
    "##\n",
    "############################################\n",
    " \n",
    "svd.stuff <- svd(scale(t(data.matrix), center=TRUE))\n",
    " \n"
   ]
  },
  {
   "cell_type": "code",
   "execution_count": 8,
   "id": "e2d00794",
   "metadata": {},
   "outputs": [
    {
     "data": {
      "text/html": [
       "<table>\n",
       "<thead><tr><th scope=col>Sample</th><th scope=col>X</th><th scope=col>Y</th></tr></thead>\n",
       "<tbody>\n",
       "\t<tr><td>wt1       </td><td>-8.536859 </td><td> 4.1951078</td></tr>\n",
       "\t<tr><td>wt2       </td><td>-8.961259 </td><td>-0.5878184</td></tr>\n",
       "\t<tr><td>wt3       </td><td>-8.808129 </td><td>-1.3416264</td></tr>\n",
       "\t<tr><td>wt4       </td><td>-8.879679 </td><td>-3.5564491</td></tr>\n",
       "\t<tr><td>wt5       </td><td>-8.736754 </td><td> 1.3274361</td></tr>\n",
       "\t<tr><td>ko1       </td><td> 8.784655 </td><td>-1.0160527</td></tr>\n",
       "\t<tr><td>ko2       </td><td> 8.811275 </td><td>-0.8524777</td></tr>\n",
       "\t<tr><td>ko3       </td><td> 9.062492 </td><td>-1.2208354</td></tr>\n",
       "\t<tr><td>ko4       </td><td> 8.555178 </td><td> 2.2082823</td></tr>\n",
       "\t<tr><td>ko5       </td><td> 8.709080 </td><td> 0.8444334</td></tr>\n",
       "</tbody>\n",
       "</table>\n"
      ],
      "text/latex": [
       "\\begin{tabular}{r|lll}\n",
       " Sample & X & Y\\\\\n",
       "\\hline\n",
       "\t wt1        & -8.536859  &  4.1951078\\\\\n",
       "\t wt2        & -8.961259  & -0.5878184\\\\\n",
       "\t wt3        & -8.808129  & -1.3416264\\\\\n",
       "\t wt4        & -8.879679  & -3.5564491\\\\\n",
       "\t wt5        & -8.736754  &  1.3274361\\\\\n",
       "\t ko1        &  8.784655  & -1.0160527\\\\\n",
       "\t ko2        &  8.811275  & -0.8524777\\\\\n",
       "\t ko3        &  9.062492  & -1.2208354\\\\\n",
       "\t ko4        &  8.555178  &  2.2082823\\\\\n",
       "\t ko5        &  8.709080  &  0.8444334\\\\\n",
       "\\end{tabular}\n"
      ],
      "text/markdown": [
       "\n",
       "| Sample | X | Y |\n",
       "|---|---|---|\n",
       "| wt1        | -8.536859  |  4.1951078 |\n",
       "| wt2        | -8.961259  | -0.5878184 |\n",
       "| wt3        | -8.808129  | -1.3416264 |\n",
       "| wt4        | -8.879679  | -3.5564491 |\n",
       "| wt5        | -8.736754  |  1.3274361 |\n",
       "| ko1        |  8.784655  | -1.0160527 |\n",
       "| ko2        |  8.811275  | -0.8524777 |\n",
       "| ko3        |  9.062492  | -1.2208354 |\n",
       "| ko4        |  8.555178  |  2.2082823 |\n",
       "| ko5        |  8.709080  |  0.8444334 |\n",
       "\n"
      ],
      "text/plain": [
       "   Sample X         Y         \n",
       "1  wt1    -8.536859  4.1951078\n",
       "2  wt2    -8.961259 -0.5878184\n",
       "3  wt3    -8.808129 -1.3416264\n",
       "4  wt4    -8.879679 -3.5564491\n",
       "5  wt5    -8.736754  1.3274361\n",
       "6  ko1     8.784655 -1.0160527\n",
       "7  ko2     8.811275 -0.8524777\n",
       "8  ko3     9.062492 -1.2208354\n",
       "9  ko4     8.555178  2.2082823\n",
       "10 ko5     8.709080  0.8444334"
      ]
     },
     "metadata": {},
     "output_type": "display_data"
    }
   ],
   "source": [
    "## calculate the PCs\n",
    "svd.data <- data.frame(Sample=colnames(data.matrix),\n",
    "  X=(svd.stuff$u[,1] * svd.stuff$d[1]),\n",
    "  Y=(svd.stuff$u[,2] * svd.stuff$d[2]))\n",
    "svd.data\n",
    " \n"
   ]
  },
  {
   "cell_type": "code",
   "execution_count": 9,
   "id": "2fd6c139",
   "metadata": {},
   "outputs": [
    {
     "data": {
      "text/html": [
       "<table>\n",
       "<tbody>\n",
       "\t<tr><th scope=row>wt1</th><td>-8.536859 </td><td> 4.1951078</td></tr>\n",
       "\t<tr><th scope=row>wt2</th><td>-8.961259 </td><td>-0.5878184</td></tr>\n",
       "\t<tr><th scope=row>wt3</th><td>-8.808129 </td><td>-1.3416264</td></tr>\n",
       "\t<tr><th scope=row>wt4</th><td>-8.879679 </td><td>-3.5564491</td></tr>\n",
       "\t<tr><th scope=row>wt5</th><td>-8.736754 </td><td> 1.3274361</td></tr>\n",
       "\t<tr><th scope=row>ko1</th><td> 8.784655 </td><td>-1.0160527</td></tr>\n",
       "\t<tr><th scope=row>ko2</th><td> 8.811275 </td><td>-0.8524777</td></tr>\n",
       "\t<tr><th scope=row>ko3</th><td> 9.062492 </td><td>-1.2208354</td></tr>\n",
       "\t<tr><th scope=row>ko4</th><td> 8.555178 </td><td> 2.2082823</td></tr>\n",
       "\t<tr><th scope=row>ko5</th><td> 8.709080 </td><td> 0.8444334</td></tr>\n",
       "</tbody>\n",
       "</table>\n"
      ],
      "text/latex": [
       "\\begin{tabular}{r|ll}\n",
       "\twt1 & -8.536859  &  4.1951078\\\\\n",
       "\twt2 & -8.961259  & -0.5878184\\\\\n",
       "\twt3 & -8.808129  & -1.3416264\\\\\n",
       "\twt4 & -8.879679  & -3.5564491\\\\\n",
       "\twt5 & -8.736754  &  1.3274361\\\\\n",
       "\tko1 &  8.784655  & -1.0160527\\\\\n",
       "\tko2 &  8.811275  & -0.8524777\\\\\n",
       "\tko3 &  9.062492  & -1.2208354\\\\\n",
       "\tko4 &  8.555178  &  2.2082823\\\\\n",
       "\tko5 &  8.709080  &  0.8444334\\\\\n",
       "\\end{tabular}\n"
      ],
      "text/markdown": [
       "\n",
       "| wt1 | -8.536859  |  4.1951078 |\n",
       "| wt2 | -8.961259  | -0.5878184 |\n",
       "| wt3 | -8.808129  | -1.3416264 |\n",
       "| wt4 | -8.879679  | -3.5564491 |\n",
       "| wt5 | -8.736754  |  1.3274361 |\n",
       "| ko1 |  8.784655  | -1.0160527 |\n",
       "| ko2 |  8.811275  | -0.8524777 |\n",
       "| ko3 |  9.062492  | -1.2208354 |\n",
       "| ko4 |  8.555178  |  2.2082823 |\n",
       "| ko5 |  8.709080  |  0.8444334 |\n",
       "\n"
      ],
      "text/plain": [
       "    [,1]      [,2]      \n",
       "wt1 -8.536859  4.1951078\n",
       "wt2 -8.961259 -0.5878184\n",
       "wt3 -8.808129 -1.3416264\n",
       "wt4 -8.879679 -3.5564491\n",
       "wt5 -8.736754  1.3274361\n",
       "ko1  8.784655 -1.0160527\n",
       "ko2  8.811275 -0.8524777\n",
       "ko3  9.062492 -1.2208354\n",
       "ko4  8.555178  2.2082823\n",
       "ko5  8.709080  0.8444334"
      ]
     },
     "metadata": {},
     "output_type": "display_data"
    },
    {
     "data": {
      "image/png": "[encoded data removed]",
      "text/plain": [
       "plot without title"
      ]
     },
     "metadata": {},
     "output_type": "display_data"
    }
   ],
   "source": [
    "## alternatively, we could compute the PCs with the eigen vectors and the\n",
    "## original data\n",
    "svd.pcs <- t(t(svd.stuff$v) %*% t(scale(t(data.matrix), center=TRUE)))\n",
    "svd.pcs[,1:2] ## the first to principal components\n",
    " \n",
    "svd.df <- ncol(data.matrix) - 1\n",
    "svd.var <- svd.stuff$d^2 / svd.df\n",
    "svd.var.per <- round(svd.var/sum(svd.var)*100, 1)\n",
    " \n",
    "ggplot(data=svd.data, aes(x=X, y=Y, label=Sample)) +\n",
    "  geom_text() +\n",
    "  xlab(paste(\"PC1 - \", svd.var.per[1], \"%\", sep=\"\")) +\n",
    "  ylab(paste(\"PC2 - \", svd.var.per[2], \"%\", sep=\"\")) +\n",
    "  theme_bw() +\n",
    "  ggtitle(\"svd(scale(t(data.matrix), center=TRUE)\")\n"
   ]
  },
  {
   "cell_type": "code",
   "execution_count": 10,
   "id": "a66a00d3",
   "metadata": {},
   "outputs": [
    {
     "data": {
      "text/html": [
       "<ol class=list-inline>\n",
       "\t<li>100</li>\n",
       "\t<li>100</li>\n",
       "</ol>\n"
      ],
      "text/latex": [
       "\\begin{enumerate*}\n",
       "\\item 100\n",
       "\\item 100\n",
       "\\end{enumerate*}\n"
      ],
      "text/markdown": [
       "1. 100\n",
       "2. 100\n",
       "\n",
       "\n"
      ],
      "text/plain": [
       "[1] 100 100"
      ]
     },
     "metadata": {},
     "output_type": "display_data"
    }
   ],
   "source": [
    " \n",
    "############################################\n",
    "##\n",
    "## Now let's do the same thing with eigen()\n",
    "##\n",
    "## eigen() returns two things...\n",
    "## vectors = eigen vectors (vectors of loading scores)\n",
    "##           NOTE: pcs = sum(loading scores * values for sample)\n",
    "## values = eigen values\n",
    "##\n",
    "############################################\n",
    "cov.mat <- cov(scale(t(data.matrix), center=TRUE))\n",
    "dim(cov.mat)\n",
    " \n"
   ]
  },
  {
   "cell_type": "code",
   "execution_count": 11,
   "id": "6c4fd410",
   "metadata": {},
   "outputs": [
    {
     "data": {
      "text/html": [
       "<ol class=list-inline>\n",
       "\t<li>100</li>\n",
       "\t<li>100</li>\n",
       "</ol>\n"
      ],
      "text/latex": [
       "\\begin{enumerate*}\n",
       "\\item 100\n",
       "\\item 100\n",
       "\\end{enumerate*}\n"
      ],
      "text/markdown": [
       "1. 100\n",
       "2. 100\n",
       "\n",
       "\n"
      ],
      "text/plain": [
       "[1] 100 100"
      ]
     },
     "metadata": {},
     "output_type": "display_data"
    },
    {
     "data": {
      "text/html": [
       "<table>\n",
       "<tbody>\n",
       "\t<tr><td>-0.10775938 </td><td> 0.004142284</td></tr>\n",
       "\t<tr><td>-0.10732911 </td><td> 0.015074447</td></tr>\n",
       "\t<tr><td>-0.10783212 </td><td> 0.000497616</td></tr>\n",
       "\t<tr><td>-0.10705582 </td><td> 0.027382724</td></tr>\n",
       "\t<tr><td>-0.01357418 </td><td>-0.330384298</td></tr>\n",
       "\t<tr><td>-0.10756905 </td><td>-0.007238732</td></tr>\n",
       "</tbody>\n",
       "</table>\n"
      ],
      "text/latex": [
       "\\begin{tabular}{ll}\n",
       "\t -0.10775938  &  0.004142284\\\\\n",
       "\t -0.10732911  &  0.015074447\\\\\n",
       "\t -0.10783212  &  0.000497616\\\\\n",
       "\t -0.10705582  &  0.027382724\\\\\n",
       "\t -0.01357418  & -0.330384298\\\\\n",
       "\t -0.10756905  & -0.007238732\\\\\n",
       "\\end{tabular}\n"
      ],
      "text/markdown": [
       "\n",
       "| -0.10775938  |  0.004142284 |\n",
       "| -0.10732911  |  0.015074447 |\n",
       "| -0.10783212  |  0.000497616 |\n",
       "| -0.10705582  |  0.027382724 |\n",
       "| -0.01357418  | -0.330384298 |\n",
       "| -0.10756905  | -0.007238732 |\n",
       "\n"
      ],
      "text/plain": [
       "     [,1]        [,2]        \n",
       "[1,] -0.10775938  0.004142284\n",
       "[2,] -0.10732911  0.015074447\n",
       "[3,] -0.10783212  0.000497616\n",
       "[4,] -0.10705582  0.027382724\n",
       "[5,] -0.01357418 -0.330384298\n",
       "[6,] -0.10756905 -0.007238732"
      ]
     },
     "metadata": {},
     "output_type": "display_data"
    }
   ],
   "source": [
    "## since the covariance matrix is symmetric, we can tell eigen() to just\n",
    "## work on the lower triangle with \"symmetric=TRUE\"\n",
    "eigen.stuff <- eigen(cov.mat, symmetric=TRUE)\n",
    "dim(eigen.stuff$vectors)\n",
    "head(eigen.stuff$vectors[,1:2])\n",
    " \n"
   ]
  },
  {
   "cell_type": "code",
   "execution_count": 12,
   "id": "b39ed0d4",
   "metadata": {},
   "outputs": [
    {
     "data": {
      "text/html": [
       "<table>\n",
       "<tbody>\n",
       "\t<tr><th scope=row>wt1</th><td>-8.536859 </td><td> 4.1951078</td></tr>\n",
       "\t<tr><th scope=row>wt2</th><td>-8.961259 </td><td>-0.5878184</td></tr>\n",
       "\t<tr><th scope=row>wt3</th><td>-8.808129 </td><td>-1.3416264</td></tr>\n",
       "\t<tr><th scope=row>wt4</th><td>-8.879679 </td><td>-3.5564491</td></tr>\n",
       "\t<tr><th scope=row>wt5</th><td>-8.736754 </td><td> 1.3274361</td></tr>\n",
       "\t<tr><th scope=row>ko1</th><td> 8.784655 </td><td>-1.0160527</td></tr>\n",
       "\t<tr><th scope=row>ko2</th><td> 8.811275 </td><td>-0.8524777</td></tr>\n",
       "\t<tr><th scope=row>ko3</th><td> 9.062492 </td><td>-1.2208354</td></tr>\n",
       "\t<tr><th scope=row>ko4</th><td> 8.555178 </td><td> 2.2082823</td></tr>\n",
       "\t<tr><th scope=row>ko5</th><td> 8.709080 </td><td> 0.8444334</td></tr>\n",
       "</tbody>\n",
       "</table>\n"
      ],
      "text/latex": [
       "\\begin{tabular}{r|ll}\n",
       "\twt1 & -8.536859  &  4.1951078\\\\\n",
       "\twt2 & -8.961259  & -0.5878184\\\\\n",
       "\twt3 & -8.808129  & -1.3416264\\\\\n",
       "\twt4 & -8.879679  & -3.5564491\\\\\n",
       "\twt5 & -8.736754  &  1.3274361\\\\\n",
       "\tko1 &  8.784655  & -1.0160527\\\\\n",
       "\tko2 &  8.811275  & -0.8524777\\\\\n",
       "\tko3 &  9.062492  & -1.2208354\\\\\n",
       "\tko4 &  8.555178  &  2.2082823\\\\\n",
       "\tko5 &  8.709080  &  0.8444334\\\\\n",
       "\\end{tabular}\n"
      ],
      "text/markdown": [
       "\n",
       "| wt1 | -8.536859  |  4.1951078 |\n",
       "| wt2 | -8.961259  | -0.5878184 |\n",
       "| wt3 | -8.808129  | -1.3416264 |\n",
       "| wt4 | -8.879679  | -3.5564491 |\n",
       "| wt5 | -8.736754  |  1.3274361 |\n",
       "| ko1 |  8.784655  | -1.0160527 |\n",
       "| ko2 |  8.811275  | -0.8524777 |\n",
       "| ko3 |  9.062492  | -1.2208354 |\n",
       "| ko4 |  8.555178  |  2.2082823 |\n",
       "| ko5 |  8.709080  |  0.8444334 |\n",
       "\n"
      ],
      "text/plain": [
       "    [,1]      [,2]      \n",
       "wt1 -8.536859  4.1951078\n",
       "wt2 -8.961259 -0.5878184\n",
       "wt3 -8.808129 -1.3416264\n",
       "wt4 -8.879679 -3.5564491\n",
       "wt5 -8.736754  1.3274361\n",
       "ko1  8.784655 -1.0160527\n",
       "ko2  8.811275 -0.8524777\n",
       "ko3  9.062492 -1.2208354\n",
       "ko4  8.555178  2.2082823\n",
       "ko5  8.709080  0.8444334"
      ]
     },
     "metadata": {},
     "output_type": "display_data"
    }
   ],
   "source": [
    "eigen.pcs <- t(t(eigen.stuff$vectors) %*% t(scale(t(data.matrix), center=TRUE)))\n",
    "eigen.pcs[,1:2]\n",
    " \n"
   ]
  },
  {
   "cell_type": "code",
   "execution_count": 13,
   "id": "db07a6c7",
   "metadata": {},
   "outputs": [
    {
     "data": {
      "text/html": [
       "<table>\n",
       "<thead><tr><th></th><th scope=col>Sample</th><th scope=col>X</th><th scope=col>Y</th></tr></thead>\n",
       "<tbody>\n",
       "\t<tr><th scope=row>wt1</th><td>wt1       </td><td> 8.536859 </td><td> 4.1951078</td></tr>\n",
       "\t<tr><th scope=row>wt2</th><td>wt2       </td><td> 8.961259 </td><td>-0.5878184</td></tr>\n",
       "\t<tr><th scope=row>wt3</th><td>wt3       </td><td> 8.808129 </td><td>-1.3416264</td></tr>\n",
       "\t<tr><th scope=row>wt4</th><td>wt4       </td><td> 8.879679 </td><td>-3.5564491</td></tr>\n",
       "\t<tr><th scope=row>wt5</th><td>wt5       </td><td> 8.736754 </td><td> 1.3274361</td></tr>\n",
       "\t<tr><th scope=row>ko1</th><td>ko1       </td><td>-8.784655 </td><td>-1.0160527</td></tr>\n",
       "\t<tr><th scope=row>ko2</th><td>ko2       </td><td>-8.811275 </td><td>-0.8524777</td></tr>\n",
       "\t<tr><th scope=row>ko3</th><td>ko3       </td><td>-9.062492 </td><td>-1.2208354</td></tr>\n",
       "\t<tr><th scope=row>ko4</th><td>ko4       </td><td>-8.555178 </td><td> 2.2082823</td></tr>\n",
       "\t<tr><th scope=row>ko5</th><td>ko5       </td><td>-8.709080 </td><td> 0.8444334</td></tr>\n",
       "</tbody>\n",
       "</table>\n"
      ],
      "text/latex": [
       "\\begin{tabular}{r|lll}\n",
       "  & Sample & X & Y\\\\\n",
       "\\hline\n",
       "\twt1 & wt1        &  8.536859  &  4.1951078\\\\\n",
       "\twt2 & wt2        &  8.961259  & -0.5878184\\\\\n",
       "\twt3 & wt3        &  8.808129  & -1.3416264\\\\\n",
       "\twt4 & wt4        &  8.879679  & -3.5564491\\\\\n",
       "\twt5 & wt5        &  8.736754  &  1.3274361\\\\\n",
       "\tko1 & ko1        & -8.784655  & -1.0160527\\\\\n",
       "\tko2 & ko2        & -8.811275  & -0.8524777\\\\\n",
       "\tko3 & ko3        & -9.062492  & -1.2208354\\\\\n",
       "\tko4 & ko4        & -8.555178  &  2.2082823\\\\\n",
       "\tko5 & ko5        & -8.709080  &  0.8444334\\\\\n",
       "\\end{tabular}\n"
      ],
      "text/markdown": [
       "\n",
       "| <!--/--> | Sample | X | Y |\n",
       "|---|---|---|---|\n",
       "| wt1 | wt1        |  8.536859  |  4.1951078 |\n",
       "| wt2 | wt2        |  8.961259  | -0.5878184 |\n",
       "| wt3 | wt3        |  8.808129  | -1.3416264 |\n",
       "| wt4 | wt4        |  8.879679  | -3.5564491 |\n",
       "| wt5 | wt5        |  8.736754  |  1.3274361 |\n",
       "| ko1 | ko1        | -8.784655  | -1.0160527 |\n",
       "| ko2 | ko2        | -8.811275  | -0.8524777 |\n",
       "| ko3 | ko3        | -9.062492  | -1.2208354 |\n",
       "| ko4 | ko4        | -8.555178  |  2.2082823 |\n",
       "| ko5 | ko5        | -8.709080  |  0.8444334 |\n",
       "\n"
      ],
      "text/plain": [
       "    Sample X         Y         \n",
       "wt1 wt1     8.536859  4.1951078\n",
       "wt2 wt2     8.961259 -0.5878184\n",
       "wt3 wt3     8.808129 -1.3416264\n",
       "wt4 wt4     8.879679 -3.5564491\n",
       "wt5 wt5     8.736754  1.3274361\n",
       "ko1 ko1    -8.784655 -1.0160527\n",
       "ko2 ko2    -8.811275 -0.8524777\n",
       "ko3 ko3    -9.062492 -1.2208354\n",
       "ko4 ko4    -8.555178  2.2082823\n",
       "ko5 ko5    -8.709080  0.8444334"
      ]
     },
     "metadata": {},
     "output_type": "display_data"
    }
   ],
   "source": [
    "eigen.data <- data.frame(Sample=rownames(eigen.pcs),\n",
    "  X=(-1 * eigen.pcs[,1]), ## eigen() flips the X-axis in this case, so we flip it back\n",
    "  Y=eigen.pcs[,2]) ## X axis will be PC1, Y axis will be PC2\n",
    "eigen.data\n"
   ]
  },
  {
   "cell_type": "code",
   "execution_count": 14,
   "id": "72d8a8ce",
   "metadata": {},
   "outputs": [
    {
     "data": {
      "image/png": "[encoded data removed]",
      "text/plain": [
       "plot without title"
      ]
     },
     "metadata": {},
     "output_type": "display_data"
    }
   ],
   "source": [
    " \n",
    "eigen.var.per <- round(eigen.stuff$values/sum(eigen.stuff$values)*100, 1)\n",
    " \n",
    "ggplot(data=eigen.data, aes(x=X, y=Y, label=Sample)) +\n",
    "  geom_text() +\n",
    "  xlab(paste(\"PC1 - \", eigen.var.per[1], \"%\", sep=\"\")) +\n",
    "  ylab(paste(\"PC2 - \", eigen.var.per[2], \"%\", sep=\"\")) +\n",
    "  theme_bw() +\n",
    "  ggtitle(\"eigen on cov(t(data.matrix))\")"
   ]
  },
  {
   "cell_type": "code",
   "execution_count": null,
   "id": "03884e2b",
   "metadata": {},
   "outputs": [],
   "source": []
  }
 ],
 "metadata": {
  "kernelspec": {
   "display_name": "R",
   "language": "R",
   "name": "ir"
  },
  "language_info": {
   "codemirror_mode": "r",
   "file_extension": ".r",
   "mimetype": "text/x-r-source",
   "name": "R",
   "pygments_lexer": "r",
   "version": "3.6.1"
  }
 },
 "nbformat": 4,
 "nbformat_minor": 5
}
